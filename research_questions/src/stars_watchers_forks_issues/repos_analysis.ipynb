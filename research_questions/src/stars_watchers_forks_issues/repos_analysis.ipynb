{
 "cells": [
  {
   "cell_type": "code",
   "execution_count": 89,
   "metadata": {},
   "outputs": [],
   "source": [
    "import pandas as pd\n",
    "import os\n",
    "from datetime import datetime\n",
    "from pathlib import Path\n",
    "from research_questions.configs.configs import Configs"
   ]
  },
  {
   "cell_type": "markdown",
   "metadata": {},
   "source": [
    "## Auxiliar Functions"
   ]
  },
  {
   "cell_type": "code",
   "execution_count": 90,
   "metadata": {},
   "outputs": [],
   "source": [
    "def merge_csv_results(folder_split):\n",
    "\n",
    "\n",
    "    csv_files = [file for file in os.listdir(folder_split) if file.endswith('.csv')]\n",
    "\n",
    "    dataframes = []\n",
    "\n",
    "    for csv_file in csv_files:\n",
    "        file_path = os.path.join(folder_split, csv_file)\n",
    "        df = pd.read_csv(file_path)\n",
    "        print(file_path)\n",
    "        print(len(df))\n",
    "        dataframes.append(df)\n",
    "\n",
    "    merged_df = pd.concat(dataframes, ignore_index=True)\n",
    "\n",
    "    merged_df.to_csv(f'repo_info_{folder_split}.csv', index=False)\n",
    "\n",
    "    return merged_df"
   ]
  },
  {
   "cell_type": "code",
   "execution_count": 91,
   "metadata": {},
   "outputs": [],
   "source": [
    "def get_statistics(df, name):\n",
    "    \"\"\"Used only to print a summary of mean, median and total count for\n",
    "    stars, forks, watchers and open issues.\"\"\"\n",
    "    \n",
    "    desc = df.describe()\n",
    "    stats = {\n",
    "        'split' : name,\n",
    "        'avg_stars': desc.loc['mean', 'stargazers'],\n",
    "        'avg_watchers': desc.loc['mean', 'watchers'],\n",
    "        'avg_forks': desc.loc['mean', 'forks'],\n",
    "        'avg_issues': desc.loc['mean', 'open_issues'],\n",
    "        'median_stars': df['stargazers'].median(),\n",
    "        'median_watchers': df['watchers'].median(),\n",
    "        'median_forks': df['forks'].median(),\n",
    "        'median_issues': df['open_issues'].median(),\n",
    "        'total_repos': len(df)\n",
    "    }\n",
    "    return stats\n",
    "\n",
    "def get_summary(df_list): \n",
    "\n",
    "    all_stats = []\n",
    "\n",
    "    for item in df_list:\n",
    "        df = item['data']\n",
    "        name = item['split_name']\n",
    "        stats = get_statistics(df,name)\n",
    "        all_stats.append(stats)\n",
    "\n",
    "\n",
    "    combined_stats = pd.DataFrame(all_stats)\n",
    "\n",
    "    return combined_stats"
   ]
  },
  {
   "cell_type": "markdown",
   "metadata": {},
   "source": [
    "## Analysis for the SE purpose repositories (notebooks):"
   ]
  },
  {
   "cell_type": "markdown",
   "metadata": {},
   "source": [
    "'count' means the number of total observations (in this case, the number of repos)"
   ]
  },
  {
   "cell_type": "code",
   "execution_count": 92,
   "metadata": {},
   "outputs": [
    {
     "name": "stdout",
     "output_type": "stream",
     "text": [
      "SE/repo_info_SE_0_to_100.csv\n",
      "100\n",
      "SE/repo_info_SE_100_to_300.csv\n",
      "199\n",
      "SE/repo_info_SE_300_to_376.csv\n",
      "76\n"
     ]
    },
    {
     "data": {
      "text/plain": [
       "375"
      ]
     },
     "execution_count": 92,
     "metadata": {},
     "output_type": "execute_result"
    }
   ],
   "source": [
    "df_SE = merge_csv_results('SE')\n",
    "len(df_SE)"
   ]
  },
  {
   "cell_type": "markdown",
   "metadata": {},
   "source": [
    "The stars are equal to watchers\n",
    "https://github.com/orgs/community/discussions/24795\n",
    "\n",
    "should we change it to 'subscribers'?"
   ]
  },
  {
   "cell_type": "code",
   "execution_count": 93,
   "metadata": {},
   "outputs": [
    {
     "data": {
      "text/plain": [
       "count      375.000000\n",
       "mean      3337.874667\n",
       "std       6929.030706\n",
       "min        603.000000\n",
       "25%        910.000000\n",
       "50%       1377.000000\n",
       "75%       3107.500000\n",
       "max      76738.000000\n",
       "Name: stargazers, dtype: float64"
      ]
     },
     "execution_count": 93,
     "metadata": {},
     "output_type": "execute_result"
    }
   ],
   "source": [
    "df_SE['stargazers'].describe()"
   ]
  },
  {
   "cell_type": "code",
   "execution_count": 94,
   "metadata": {},
   "outputs": [
    {
     "data": {
      "text/plain": [
       "count     375.000000\n",
       "mean       87.488000\n",
       "std       174.675587\n",
       "min         7.000000\n",
       "25%        26.000000\n",
       "50%        44.000000\n",
       "75%        83.000000\n",
       "max      2741.000000\n",
       "Name: watchers, dtype: float64"
      ]
     },
     "execution_count": 94,
     "metadata": {},
     "output_type": "execute_result"
    }
   ],
   "source": [
    "df_SE['watchers'].describe()"
   ]
  },
  {
   "cell_type": "code",
   "execution_count": 95,
   "metadata": {},
   "outputs": [
    {
     "data": {
      "text/plain": [
       "count      375.000000\n",
       "mean       774.456000\n",
       "std       2622.426783\n",
       "min         15.000000\n",
       "25%        173.500000\n",
       "50%        295.000000\n",
       "75%        559.500000\n",
       "max      45856.000000\n",
       "Name: forks, dtype: float64"
      ]
     },
     "execution_count": 95,
     "metadata": {},
     "output_type": "execute_result"
    }
   ],
   "source": [
    "df_SE['forks'].describe()"
   ]
  },
  {
   "cell_type": "code",
   "execution_count": 96,
   "metadata": {},
   "outputs": [
    {
     "data": {
      "text/plain": [
       "count     375.000000\n",
       "mean       91.608000\n",
       "std       244.751764\n",
       "min         0.000000\n",
       "25%        13.000000\n",
       "50%        33.000000\n",
       "75%        76.500000\n",
       "max      3457.000000\n",
       "Name: open_issues, dtype: float64"
      ]
     },
     "execution_count": 96,
     "metadata": {},
     "output_type": "execute_result"
    }
   ],
   "source": [
    "df_SE['open_issues'].describe()"
   ]
  },
  {
   "cell_type": "markdown",
   "metadata": {},
   "source": [
    "## Analysis for the non SE purpose repositories (notebooks):"
   ]
  },
  {
   "cell_type": "markdown",
   "metadata": {},
   "source": [
    "'count' means the number of total observations (in this case, the number of repos)"
   ]
  },
  {
   "cell_type": "code",
   "execution_count": 97,
   "metadata": {},
   "outputs": [
    {
     "name": "stdout",
     "output_type": "stream",
     "text": [
      "non_SE/repo_info_non_SE_0_to_250.csv\n",
      "249\n",
      "non_SE/repo_info_non_SE_250_to_526.csv\n",
      "275\n"
     ]
    },
    {
     "data": {
      "text/plain": [
       "524"
      ]
     },
     "execution_count": 97,
     "metadata": {},
     "output_type": "execute_result"
    }
   ],
   "source": [
    "df_non_SE = merge_csv_results('non_SE')\n",
    "len(df_non_SE)"
   ]
  },
  {
   "cell_type": "markdown",
   "metadata": {},
   "source": [
    "The stars are equal to watchers\n",
    "https://github.com/orgs/community/discussions/24795\n",
    "\n",
    "should we change it to 'subscribers'?"
   ]
  },
  {
   "cell_type": "code",
   "execution_count": 98,
   "metadata": {},
   "outputs": [
    {
     "data": {
      "text/plain": [
       "count      524.000000\n",
       "mean      3810.137405\n",
       "std       6563.381568\n",
       "min         93.000000\n",
       "25%        909.500000\n",
       "50%       1587.500000\n",
       "75%       3641.250000\n",
       "max      67708.000000\n",
       "Name: stargazers, dtype: float64"
      ]
     },
     "execution_count": 98,
     "metadata": {},
     "output_type": "execute_result"
    }
   ],
   "source": [
    "df_non_SE['stargazers'].describe()"
   ]
  },
  {
   "cell_type": "code",
   "execution_count": 99,
   "metadata": {},
   "outputs": [
    {
     "data": {
      "text/plain": [
       "count     524.000000\n",
       "mean      156.557252\n",
       "std       258.470332\n",
       "min         2.000000\n",
       "25%        37.000000\n",
       "50%        69.000000\n",
       "75%       151.750000\n",
       "max      2709.000000\n",
       "Name: watchers, dtype: float64"
      ]
     },
     "execution_count": 99,
     "metadata": {},
     "output_type": "execute_result"
    }
   ],
   "source": [
    "df_non_SE['watchers'].describe()"
   ]
  },
  {
   "cell_type": "code",
   "execution_count": 100,
   "metadata": {},
   "outputs": [
    {
     "data": {
      "text/plain": [
       "count      524.000000\n",
       "mean      1596.656489\n",
       "std       4244.250459\n",
       "min          0.000000\n",
       "25%        331.000000\n",
       "50%        639.000000\n",
       "75%       1534.250000\n",
       "max      83856.000000\n",
       "Name: forks, dtype: float64"
      ]
     },
     "execution_count": 100,
     "metadata": {},
     "output_type": "execute_result"
    }
   ],
   "source": [
    "df_non_SE['forks'].describe()"
   ]
  },
  {
   "cell_type": "code",
   "execution_count": 101,
   "metadata": {},
   "outputs": [
    {
     "data": {
      "text/plain": [
       "count     524.000000\n",
       "mean       38.494275\n",
       "std       165.071460\n",
       "min         0.000000\n",
       "25%         2.000000\n",
       "50%         9.000000\n",
       "75%        26.000000\n",
       "max      2935.000000\n",
       "Name: open_issues, dtype: float64"
      ]
     },
     "execution_count": 101,
     "metadata": {},
     "output_type": "execute_result"
    }
   ],
   "source": [
    "df_non_SE['open_issues'].describe()"
   ]
  },
  {
   "cell_type": "markdown",
   "metadata": {},
   "source": [
    "## Analysis for the non SE purpose repositories (notebooks):"
   ]
  },
  {
   "cell_type": "markdown",
   "metadata": {},
   "source": [
    "'count' means the number of total observations (in this case, the number of repos)"
   ]
  },
  {
   "cell_type": "code",
   "execution_count": 102,
   "metadata": {},
   "outputs": [
    {
     "name": "stdout",
     "output_type": "stream",
     "text": [
      "non_SE/repo_info_non_SE_0_to_250.csv\n",
      "249\n",
      "non_SE/repo_info_non_SE_250_to_526.csv\n",
      "275\n"
     ]
    },
    {
     "data": {
      "text/plain": [
       "524"
      ]
     },
     "execution_count": 102,
     "metadata": {},
     "output_type": "execute_result"
    }
   ],
   "source": [
    "df_non_SE = merge_csv_results('non_SE')\n",
    "len(df_non_SE)"
   ]
  },
  {
   "cell_type": "markdown",
   "metadata": {},
   "source": [
    "The stars are equal to watchers\n",
    "https://github.com/orgs/community/discussions/24795\n",
    "\n",
    "should we change it to 'subscribers'?"
   ]
  },
  {
   "cell_type": "code",
   "execution_count": 103,
   "metadata": {},
   "outputs": [
    {
     "data": {
      "text/plain": [
       "count      524.000000\n",
       "mean      3810.137405\n",
       "std       6563.381568\n",
       "min         93.000000\n",
       "25%        909.500000\n",
       "50%       1587.500000\n",
       "75%       3641.250000\n",
       "max      67708.000000\n",
       "Name: stargazers, dtype: float64"
      ]
     },
     "execution_count": 103,
     "metadata": {},
     "output_type": "execute_result"
    }
   ],
   "source": [
    "df_non_SE['stargazers'].describe()"
   ]
  },
  {
   "cell_type": "code",
   "execution_count": 104,
   "metadata": {},
   "outputs": [
    {
     "data": {
      "text/plain": [
       "count     524.000000\n",
       "mean      156.557252\n",
       "std       258.470332\n",
       "min         2.000000\n",
       "25%        37.000000\n",
       "50%        69.000000\n",
       "75%       151.750000\n",
       "max      2709.000000\n",
       "Name: watchers, dtype: float64"
      ]
     },
     "execution_count": 104,
     "metadata": {},
     "output_type": "execute_result"
    }
   ],
   "source": [
    "df_non_SE['watchers'].describe()"
   ]
  },
  {
   "cell_type": "code",
   "execution_count": 105,
   "metadata": {},
   "outputs": [
    {
     "data": {
      "text/plain": [
       "count      524.000000\n",
       "mean      1596.656489\n",
       "std       4244.250459\n",
       "min          0.000000\n",
       "25%        331.000000\n",
       "50%        639.000000\n",
       "75%       1534.250000\n",
       "max      83856.000000\n",
       "Name: forks, dtype: float64"
      ]
     },
     "execution_count": 105,
     "metadata": {},
     "output_type": "execute_result"
    }
   ],
   "source": [
    "df_non_SE['forks'].describe()"
   ]
  },
  {
   "cell_type": "code",
   "execution_count": 106,
   "metadata": {},
   "outputs": [
    {
     "data": {
      "text/plain": [
       "count     524.000000\n",
       "mean       38.494275\n",
       "std       165.071460\n",
       "min         0.000000\n",
       "25%         2.000000\n",
       "50%         9.000000\n",
       "75%        26.000000\n",
       "max      2935.000000\n",
       "Name: open_issues, dtype: float64"
      ]
     },
     "execution_count": 106,
     "metadata": {},
     "output_type": "execute_result"
    }
   ],
   "source": [
    "df_non_SE['open_issues'].describe()"
   ]
  },
  {
   "cell_type": "markdown",
   "metadata": {},
   "source": [
    "## Analysis for the SE purpose repositories (python):"
   ]
  },
  {
   "cell_type": "markdown",
   "metadata": {},
   "source": [
    "'count' means the number of total observations (in this case, the number of repos)"
   ]
  },
  {
   "cell_type": "code",
   "execution_count": 107,
   "metadata": {},
   "outputs": [
    {
     "name": "stdout",
     "output_type": "stream",
     "text": [
      "SE_py/repo_info_SE_py_0_to_300.csv\n",
      "300\n",
      "SE_py/repo_info_SE_py_300_to_608.csv\n",
      "308\n"
     ]
    },
    {
     "data": {
      "text/plain": [
       "608"
      ]
     },
     "execution_count": 107,
     "metadata": {},
     "output_type": "execute_result"
    }
   ],
   "source": [
    "df_SE_py = merge_csv_results('SE_py')\n",
    "len(df_SE_py)"
   ]
  },
  {
   "cell_type": "markdown",
   "metadata": {},
   "source": [
    "The stars are equal to watchers\n",
    "https://github.com/orgs/community/discussions/24795\n",
    "\n",
    "should we change it to 'subscribers'?"
   ]
  },
  {
   "cell_type": "code",
   "execution_count": 108,
   "metadata": {},
   "outputs": [
    {
     "data": {
      "text/plain": [
       "count      608.000000\n",
       "mean      1973.425987\n",
       "std       1646.158042\n",
       "min        216.000000\n",
       "25%        870.750000\n",
       "50%       1524.000000\n",
       "75%       2799.000000\n",
       "max      11839.000000\n",
       "Name: stargazers, dtype: float64"
      ]
     },
     "execution_count": 108,
     "metadata": {},
     "output_type": "execute_result"
    }
   ],
   "source": [
    "df_SE_py['stargazers'].describe()"
   ]
  },
  {
   "cell_type": "code",
   "execution_count": 109,
   "metadata": {},
   "outputs": [
    {
     "data": {
      "text/plain": [
       "count    608.000000\n",
       "mean      60.422697\n",
       "std       54.023705\n",
       "min        2.000000\n",
       "25%       25.000000\n",
       "50%       44.000000\n",
       "75%       76.000000\n",
       "max      342.000000\n",
       "Name: watchers, dtype: float64"
      ]
     },
     "execution_count": 109,
     "metadata": {},
     "output_type": "execute_result"
    }
   ],
   "source": [
    "df_SE_py['watchers'].describe()"
   ]
  },
  {
   "cell_type": "code",
   "execution_count": 110,
   "metadata": {},
   "outputs": [
    {
     "data": {
      "text/plain": [
       "count     608.000000\n",
       "mean      339.601974\n",
       "std       330.834225\n",
       "min         9.000000\n",
       "25%       123.000000\n",
       "50%       239.000000\n",
       "75%       429.750000\n",
       "max      2629.000000\n",
       "Name: forks, dtype: float64"
      ]
     },
     "execution_count": 110,
     "metadata": {},
     "output_type": "execute_result"
    }
   ],
   "source": [
    "df_SE_py['forks'].describe()"
   ]
  },
  {
   "cell_type": "code",
   "execution_count": 111,
   "metadata": {},
   "outputs": [
    {
     "data": {
      "text/plain": [
       "count     608.000000\n",
       "mean       69.156250\n",
       "std       105.983852\n",
       "min         0.000000\n",
       "25%        13.750000\n",
       "50%        36.000000\n",
       "75%        80.250000\n",
       "max      1078.000000\n",
       "Name: open_issues, dtype: float64"
      ]
     },
     "execution_count": 111,
     "metadata": {},
     "output_type": "execute_result"
    }
   ],
   "source": [
    "df_SE_py['open_issues'].describe()"
   ]
  },
  {
   "cell_type": "markdown",
   "metadata": {},
   "source": [
    "## Analysis for the non SE purpose repositories (python):"
   ]
  },
  {
   "cell_type": "markdown",
   "metadata": {},
   "source": [
    "'count' means the number of total observations (in this case, the number of repos)"
   ]
  },
  {
   "cell_type": "code",
   "execution_count": 112,
   "metadata": {},
   "outputs": [
    {
     "name": "stdout",
     "output_type": "stream",
     "text": [
      "non_SE_py/repo_info_non_SE_py_0_to_110.csv\n",
      "110\n"
     ]
    },
    {
     "data": {
      "text/plain": [
       "110"
      ]
     },
     "execution_count": 112,
     "metadata": {},
     "output_type": "execute_result"
    }
   ],
   "source": [
    "df_non_SE_py = merge_csv_results('non_SE_py')\n",
    "len(df_non_SE_py)"
   ]
  },
  {
   "cell_type": "markdown",
   "metadata": {},
   "source": [
    "The stars are equal to watchers\n",
    "https://github.com/orgs/community/discussions/24795\n",
    "\n",
    "should we change it to 'subscribers'?"
   ]
  },
  {
   "cell_type": "code",
   "execution_count": 113,
   "metadata": {},
   "outputs": [
    {
     "data": {
      "text/plain": [
       "count     110.000000\n",
       "mean     1583.072727\n",
       "std      1179.049024\n",
       "min       224.000000\n",
       "25%       776.250000\n",
       "50%      1177.500000\n",
       "75%      2258.000000\n",
       "max      6309.000000\n",
       "Name: stargazers, dtype: float64"
      ]
     },
     "execution_count": 113,
     "metadata": {},
     "output_type": "execute_result"
    }
   ],
   "source": [
    "df_non_SE_py['stargazers'].describe()"
   ]
  },
  {
   "cell_type": "code",
   "execution_count": 114,
   "metadata": {},
   "outputs": [
    {
     "data": {
      "text/plain": [
       "count    110.000000\n",
       "mean      73.818182\n",
       "std       78.117200\n",
       "min        3.000000\n",
       "25%       26.000000\n",
       "50%       53.000000\n",
       "75%       90.250000\n",
       "max      494.000000\n",
       "Name: watchers, dtype: float64"
      ]
     },
     "execution_count": 114,
     "metadata": {},
     "output_type": "execute_result"
    }
   ],
   "source": [
    "df_non_SE_py['watchers'].describe()"
   ]
  },
  {
   "cell_type": "code",
   "execution_count": 115,
   "metadata": {},
   "outputs": [
    {
     "data": {
      "text/plain": [
       "count     110.000000\n",
       "mean      431.190909\n",
       "std       375.813600\n",
       "min         9.000000\n",
       "25%       186.000000\n",
       "50%       353.500000\n",
       "75%       584.000000\n",
       "max      2223.000000\n",
       "Name: forks, dtype: float64"
      ]
     },
     "execution_count": 115,
     "metadata": {},
     "output_type": "execute_result"
    }
   ],
   "source": [
    "df_non_SE_py['forks'].describe()"
   ]
  },
  {
   "cell_type": "code",
   "execution_count": 116,
   "metadata": {},
   "outputs": [
    {
     "data": {
      "text/plain": [
       "count    110.000000\n",
       "mean      25.745455\n",
       "std       64.507085\n",
       "min        0.000000\n",
       "25%        2.250000\n",
       "50%        7.000000\n",
       "75%       24.000000\n",
       "max      480.000000\n",
       "Name: open_issues, dtype: float64"
      ]
     },
     "execution_count": 116,
     "metadata": {},
     "output_type": "execute_result"
    }
   ],
   "source": [
    "df_non_SE_py['open_issues'].describe()"
   ]
  },
  {
   "cell_type": "markdown",
   "metadata": {},
   "source": [
    "## Summary of results"
   ]
  },
  {
   "cell_type": "code",
   "execution_count": 117,
   "metadata": {},
   "outputs": [
    {
     "data": {
      "text/html": [
       "<div>\n",
       "<style scoped>\n",
       "    .dataframe tbody tr th:only-of-type {\n",
       "        vertical-align: middle;\n",
       "    }\n",
       "\n",
       "    .dataframe tbody tr th {\n",
       "        vertical-align: top;\n",
       "    }\n",
       "\n",
       "    .dataframe thead th {\n",
       "        text-align: right;\n",
       "    }\n",
       "</style>\n",
       "<table border=\"1\" class=\"dataframe\">\n",
       "  <thead>\n",
       "    <tr style=\"text-align: right;\">\n",
       "      <th></th>\n",
       "      <th>split</th>\n",
       "      <th>avg_stars</th>\n",
       "      <th>avg_watchers</th>\n",
       "      <th>avg_forks</th>\n",
       "      <th>avg_issues</th>\n",
       "      <th>median_stars</th>\n",
       "      <th>median_watchers</th>\n",
       "      <th>median_forks</th>\n",
       "      <th>median_issues</th>\n",
       "      <th>total_repos</th>\n",
       "    </tr>\n",
       "  </thead>\n",
       "  <tbody>\n",
       "    <tr>\n",
       "      <th>0</th>\n",
       "      <td>SE_nb</td>\n",
       "      <td>3337.874667</td>\n",
       "      <td>87.488000</td>\n",
       "      <td>774.456000</td>\n",
       "      <td>91.608000</td>\n",
       "      <td>1377.0</td>\n",
       "      <td>44.0</td>\n",
       "      <td>295.0</td>\n",
       "      <td>33.0</td>\n",
       "      <td>375</td>\n",
       "    </tr>\n",
       "    <tr>\n",
       "      <th>1</th>\n",
       "      <td>Non_SE_nb</td>\n",
       "      <td>3810.137405</td>\n",
       "      <td>156.557252</td>\n",
       "      <td>1596.656489</td>\n",
       "      <td>38.494275</td>\n",
       "      <td>1587.5</td>\n",
       "      <td>69.0</td>\n",
       "      <td>639.0</td>\n",
       "      <td>9.0</td>\n",
       "      <td>524</td>\n",
       "    </tr>\n",
       "    <tr>\n",
       "      <th>2</th>\n",
       "      <td>SE_py</td>\n",
       "      <td>1973.425987</td>\n",
       "      <td>60.422697</td>\n",
       "      <td>339.601974</td>\n",
       "      <td>69.156250</td>\n",
       "      <td>1524.0</td>\n",
       "      <td>44.0</td>\n",
       "      <td>239.0</td>\n",
       "      <td>36.0</td>\n",
       "      <td>608</td>\n",
       "    </tr>\n",
       "    <tr>\n",
       "      <th>3</th>\n",
       "      <td>non_SE_py</td>\n",
       "      <td>1583.072727</td>\n",
       "      <td>73.818182</td>\n",
       "      <td>431.190909</td>\n",
       "      <td>25.745455</td>\n",
       "      <td>1177.5</td>\n",
       "      <td>53.0</td>\n",
       "      <td>353.5</td>\n",
       "      <td>7.0</td>\n",
       "      <td>110</td>\n",
       "    </tr>\n",
       "  </tbody>\n",
       "</table>\n",
       "</div>"
      ],
      "text/plain": [
       "       split    avg_stars  avg_watchers    avg_forks  avg_issues  \\\n",
       "0      SE_nb  3337.874667     87.488000   774.456000   91.608000   \n",
       "1  Non_SE_nb  3810.137405    156.557252  1596.656489   38.494275   \n",
       "2      SE_py  1973.425987     60.422697   339.601974   69.156250   \n",
       "3  non_SE_py  1583.072727     73.818182   431.190909   25.745455   \n",
       "\n",
       "   median_stars  median_watchers  median_forks  median_issues  total_repos  \n",
       "0        1377.0             44.0         295.0           33.0          375  \n",
       "1        1587.5             69.0         639.0            9.0          524  \n",
       "2        1524.0             44.0         239.0           36.0          608  \n",
       "3        1177.5             53.0         353.5            7.0          110  "
      ]
     },
     "execution_count": 117,
     "metadata": {},
     "output_type": "execute_result"
    }
   ],
   "source": [
    "dataframes_info = [\n",
    "    {'data': df_SE, 'split_name': 'SE_nb'},\n",
    "    {'data': df_non_SE, 'split_name': 'Non_SE_nb'},\n",
    "    {'data': df_SE_py, 'split_name': 'SE_py'},\n",
    "    {'data': df_non_SE_py, 'split_name': 'non_SE_py'},\n",
    "]\n",
    "\n",
    "get_summary(dataframes_info)"
   ]
  }
 ],
 "metadata": {
  "kernelspec": {
   "display_name": "env_bug",
   "language": "python",
   "name": "python3"
  },
  "language_info": {
   "codemirror_mode": {
    "name": "ipython",
    "version": 3
   },
   "file_extension": ".py",
   "mimetype": "text/x-python",
   "name": "python",
   "nbconvert_exporter": "python",
   "pygments_lexer": "ipython3",
   "version": "3.10.9"
  }
 },
 "nbformat": 4,
 "nbformat_minor": 2
}
