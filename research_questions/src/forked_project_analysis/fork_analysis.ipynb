{
 "cells": [
  {
   "cell_type": "markdown",
   "metadata": {},
   "source": [
    "# Forks Analysis\n",
    "\n",
    "For each repository belonging to our Notebooks and Python dataset (corresponding splits: SE, Educational, SE_py and Educational SE_py), we collected up to 10 active forks available through GitHub API. And then, for each fork, we analyze how many of them have commits ahead of the original forked repository, and how many of its messages  are related to bugfixing.\n",
    "\n",
    "The data analyzed in this notebook was generated using the `get_forks_info.py` script.\n",
    "\n",
    "# Random Sample of Forks\n",
    "\n",
    "Due to GitHub API requests limits, it wasn't possible to get all the information for all forks for each repository in our Notebooks and Python datasets.\n",
    "\n",
    "To surpass this, we followed these steps:\n",
    "\n",
    "- For all repositories included in the Notebooks and Python dataset,  we did a random sample of a maximum of 10 active forks for each repository.\n",
    "\n",
    "- Not all repositories have at least 10 forks, so we always get the maximum number of forks available\n",
    "\n",
    "- For each collected fork, we analyze how many commits they have in relation to the original forked repository, in all available branches. If they have commit messages ahead, we classify if the commit message is related to bugfixing."
   ]
  },
  {
   "cell_type": "code",
   "execution_count": 40,
   "metadata": {},
   "outputs": [],
   "source": [
    "import pandas as pd\n",
    "import os\n",
    "from pathlib import Path\n",
    "from scipy.stats import pearsonr\n",
    "from scipy.stats import ttest_ind\n",
    "import seaborn as sns\n",
    "import matplotlib.pyplot as plt\n",
    "from matplotlib.ticker import ScalarFormatter, FuncFormatter\n",
    "import pingouin as pg\n",
    "from scipy.stats import mannwhitneyu\n",
    "import numpy as np"
   ]
  },
  {
   "cell_type": "markdown",
   "metadata": {},
   "source": [
    "## Auxiliar Functions"
   ]
  },
  {
   "cell_type": "code",
   "execution_count": 41,
   "metadata": {},
   "outputs": [],
   "source": [
    "def merge_csv_results(folder_split):\n",
    "\n",
    "\n",
    "    csv_files = [file for file in os.listdir(folder_split) if file.endswith('.csv')]\n",
    "\n",
    "    dataframes = []\n",
    "\n",
    "    for csv_file in csv_files:\n",
    "        file_path = os.path.join(folder_split, csv_file)\n",
    "        df = pd.read_csv(file_path)\n",
    "        print(file_path)\n",
    "        print(len(df))\n",
    "        dataframes.append(df)\n",
    "\n",
    "    merged_df = pd.concat(dataframes, ignore_index=True)\n",
    "\n",
    "    merged_df.to_csv(f'forks_data_{folder_split}.csv', index=False)\n",
    "    \n",
    "\n",
    "    return merged_df\n",
    "\n",
    "\n",
    "\n",
    "def get_mann_test_and_cohen_d(df_1, df_2, column_name):\n",
    "    \"\"\"Applies Mann-Whitney hipothesis testing to 2 group sets\n",
    "    passed as input (2 dataframe columns passed as parameter).\n",
    "    Also gets Cohen D coefficient between these 2 groups,\n",
    "    that is a effect size measure if two groups have similar \n",
    "    standard deviations and are of the same size \n",
    "    \"\"\"\n",
    "    df_1 = df_1.dropna(subset=[column_name])\n",
    "    df_2 = df_2.dropna(subset=[column_name])\n",
    "\n",
    "    statistic, p_value = mannwhitneyu(df_1[column_name], df_2[column_name])\n",
    "    print(f\"Mann-Whitney U statistic: {statistic}\")\n",
    "    # printing more decimals:\n",
    "    formatted_p_value = \"{:.10f}\".format(p_value)\n",
    "    print(f\"P-value: {formatted_p_value}\")\n",
    "    \n",
    "    # returning the absolute value of cohen d:\n",
    "    cohen_d = pg.compute_effsize(df_1[column_name], df_2[column_name], eftype='cohen')\n",
    "    cohen_d = np.abs(cohen_d)\n",
    "    print(f\"Absolute value of cohen d: {cohen_d}\")\n",
    "    if cohen_d <= 0.2:\n",
    "        print(f\"Very small difference between Notebooks vs Python (cohen D <= 0.2)\")\n",
    "    if cohen_d > 0.2 and cohen_d <= 0.5:\n",
    "        print(f\"Small difference between Notebooks vs Python ( 0.2 > cohen D <= 0.5)\")\n",
    "    if cohen_d > 0.5 and cohen_d <= 0.8:\n",
    "        print(f\"Medium difference between Notebooks vs Python ( 0.5 > cohen D <= 0.8)\")\n",
    "    if cohen_d > 0.8:\n",
    "        print(f\"Big difference between Notebooks vs Python (cohen D > 0.8)\")\n"
   ]
  },
  {
   "cell_type": "markdown",
   "metadata": {},
   "source": [
    "### Analysis of the Notebook (SE) split:"
   ]
  },
  {
   "cell_type": "code",
   "execution_count": 42,
   "metadata": {},
   "outputs": [
    {
     "name": "stdout",
     "output_type": "stream",
     "text": [
      "SE/forks_SE_seed=15_random_sampling10_interval_(200, 300).csv\n",
      "2121\n",
      "SE/forks_SE_seed=15_random_sampling10_interval_(0, 30).csv\n",
      "1122\n",
      "SE/forks_SE_seed=15_random_sampling10_interval_(100, 200).csv\n",
      "2588\n",
      "SE/forks_SE_seed=15_random_sampling10_interval_(300, 376).csv\n",
      "2062\n",
      "SE/forks_SE_seed=15_random_sampling10_interval_(30, 100).csv\n",
      "1569\n",
      "\n",
      " *** \n",
      " Number of total forks* number of branches gathered for this split: 9462\n"
     ]
    }
   ],
   "source": [
    "df_forks_SE = merge_csv_results('SE')\n",
    "print(f\"\\n *** \\n Number of total forks* number of branches gathered for this split: {len(df_forks_SE)}\")"
   ]
  },
  {
   "cell_type": "code",
   "execution_count": 43,
   "metadata": {},
   "outputs": [
    {
     "name": "stdout",
     "output_type": "stream",
     "text": [
      "Number of total forks forked from default branches (main and/or master) \n",
      " gathered for this split: 3334\n"
     ]
    }
   ],
   "source": [
    "df_forks_SE_def_branch = df_forks_SE[df_forks_SE['fork_branch_name'].isin(['master', 'main'])]\n",
    "print(f\"Number of total forks forked from default branches (main and/or master) \\n gathered for this split: {len(df_forks_SE_def_branch )}\")"
   ]
  },
  {
   "cell_type": "markdown",
   "metadata": {},
   "source": [
    "Columns of the dataframe:"
   ]
  },
  {
   "cell_type": "code",
   "execution_count": 44,
   "metadata": {},
   "outputs": [
    {
     "data": {
      "text/plain": [
       "Index(['forked_from', 'full_name', 'owner', 'html_url', 'fork_branch_name',\n",
       "       'created_at', 'updated_at', 'stargazers_count', 'watchers_count',\n",
       "       'forks_count', 'commits_ahead_by', 'commit_msgs', 'number_bugfix_msgs',\n",
       "       'bugfix_msgs'],\n",
       "      dtype='object')"
      ]
     },
     "execution_count": 44,
     "metadata": {},
     "output_type": "execute_result"
    }
   ],
   "source": [
    "df_forks_SE.columns"
   ]
  },
  {
   "cell_type": "markdown",
   "metadata": {},
   "source": [
    "'Count', below, is the number of forks done in relation to default branches (main or master). The other metrics (mean, standard deviation, min, etc) represent the number of commits ahead the fork has in relation to its forked repository."
   ]
  },
  {
   "cell_type": "code",
   "execution_count": 45,
   "metadata": {},
   "outputs": [
    {
     "data": {
      "text/plain": [
       "count    3334.000000\n",
       "mean        4.566887\n",
       "std        22.396239\n",
       "min         0.000000\n",
       "25%         0.000000\n",
       "50%         0.000000\n",
       "75%         2.000000\n",
       "max       886.000000\n",
       "Name: commits_ahead_by, dtype: float64"
      ]
     },
     "execution_count": 45,
     "metadata": {},
     "output_type": "execute_result"
    }
   ],
   "source": [
    "df_forks_SE_def_branch['commits_ahead_by'].describe()"
   ]
  },
  {
   "cell_type": "markdown",
   "metadata": {},
   "source": [
    "'Count', below, is the number of forks done in relation to default branches (main or master). The other metrics (mean, standard deviation, min, etc) represent the number of commits ahead belonging to the fork project that are related to bugfixes:"
   ]
  },
  {
   "cell_type": "code",
   "execution_count": 46,
   "metadata": {},
   "outputs": [
    {
     "data": {
      "text/plain": [
       "count    3334.000000\n",
       "mean        0.389022\n",
       "std         2.386860\n",
       "min         0.000000\n",
       "25%         0.000000\n",
       "50%         0.000000\n",
       "75%         0.000000\n",
       "max        51.000000\n",
       "Name: number_bugfix_msgs, dtype: float64"
      ]
     },
     "execution_count": 46,
     "metadata": {},
     "output_type": "execute_result"
    }
   ],
   "source": [
    "df_forks_SE_def_branch['number_bugfix_msgs'].describe()"
   ]
  },
  {
   "cell_type": "markdown",
   "metadata": {},
   "source": [
    "### Analysis of the Notebook (Educational) split:"
   ]
  },
  {
   "cell_type": "code",
   "execution_count": 47,
   "metadata": {},
   "outputs": [
    {
     "name": "stdout",
     "output_type": "stream",
     "text": [
      "non_SE/forks_non_SE_seed=15_random_sampling10_interval_(100, 200).csv\n",
      "2250\n",
      "non_SE/forks_non_SE_seed=15_random_sampling10_interval_(300, 400).csv\n",
      "1726\n",
      "non_SE/forks_non_SE_seed=15_random_sampling10_interval_(500, 525).csv\n",
      "328\n",
      "non_SE/forks_non_SE_seed=15_random_sampling10_interval_(0, 100).csv\n",
      "1961\n",
      "non_SE/forks_non_SE_seed=15_random_sampling10_interval_(200, 300).csv\n",
      "2263\n",
      "non_SE/forks_non_SE_seed=15_random_sampling10_interval_(400, 500).csv\n",
      "2130\n",
      "\n",
      " *** \n",
      " Number of total forks* number of branches gathered for this split: 10658\n"
     ]
    }
   ],
   "source": [
    "df_forks_non_SE = merge_csv_results('non_SE')\n",
    "print(f\"\\n *** \\n Number of total forks* number of branches gathered for this split: {len(df_forks_non_SE)}\")"
   ]
  },
  {
   "cell_type": "code",
   "execution_count": 48,
   "metadata": {},
   "outputs": [
    {
     "name": "stdout",
     "output_type": "stream",
     "text": [
      "Number of total forks forked from default branches (main and/or master) \n",
      " gathered for this split: 4431\n"
     ]
    }
   ],
   "source": [
    "df_forks_non_SE_def_branch = df_forks_non_SE[df_forks_non_SE['fork_branch_name'].isin(['master', 'main'])]\n",
    "print(f\"Number of total forks forked from default branches (main and/or master) \\n gathered for this split: {len(df_forks_non_SE_def_branch )}\")"
   ]
  },
  {
   "cell_type": "markdown",
   "metadata": {},
   "source": [
    "Columns of the dataframe:"
   ]
  },
  {
   "cell_type": "code",
   "execution_count": 49,
   "metadata": {},
   "outputs": [
    {
     "data": {
      "text/plain": [
       "Index(['forked_from', 'full_name', 'owner', 'html_url', 'fork_branch_name',\n",
       "       'created_at', 'updated_at', 'stargazers_count', 'watchers_count',\n",
       "       'forks_count', 'commits_ahead_by', 'commit_msgs', 'number_bugfix_msgs',\n",
       "       'bugfix_msgs'],\n",
       "      dtype='object')"
      ]
     },
     "execution_count": 49,
     "metadata": {},
     "output_type": "execute_result"
    }
   ],
   "source": [
    "df_forks_non_SE.columns"
   ]
  },
  {
   "cell_type": "markdown",
   "metadata": {},
   "source": [
    "'Count', below, is the number of forks done in relation to default branches (main or master). The other metrics (mean, standard deviation, min, etc) represent the number of commits ahead the fork has in relation to its forked repository."
   ]
  },
  {
   "cell_type": "code",
   "execution_count": 50,
   "metadata": {},
   "outputs": [
    {
     "data": {
      "text/plain": [
       "count    4431.000000\n",
       "mean        8.369443\n",
       "std       124.696848\n",
       "min         0.000000\n",
       "25%         0.000000\n",
       "50%         0.000000\n",
       "75%         1.000000\n",
       "max      4182.000000\n",
       "Name: commits_ahead_by, dtype: float64"
      ]
     },
     "execution_count": 50,
     "metadata": {},
     "output_type": "execute_result"
    }
   ],
   "source": [
    "df_forks_non_SE_def_branch['commits_ahead_by'].describe()"
   ]
  },
  {
   "cell_type": "markdown",
   "metadata": {},
   "source": [
    "'Count', below, is the number of forks done in relation to default branches (main or master). The other metrics (mean, standard deviation, min, etc) represent the number of commits ahead belonging to the fork project that are related to bugfixes:"
   ]
  },
  {
   "cell_type": "code",
   "execution_count": 51,
   "metadata": {},
   "outputs": [
    {
     "data": {
      "text/plain": [
       "count    4431.000000\n",
       "mean        0.136764\n",
       "std         1.345264\n",
       "min         0.000000\n",
       "25%         0.000000\n",
       "50%         0.000000\n",
       "75%         0.000000\n",
       "max        63.000000\n",
       "Name: number_bugfix_msgs, dtype: float64"
      ]
     },
     "execution_count": 51,
     "metadata": {},
     "output_type": "execute_result"
    }
   ],
   "source": [
    "df_forks_non_SE_def_branch['number_bugfix_msgs'].describe()"
   ]
  },
  {
   "cell_type": "markdown",
   "metadata": {},
   "source": [
    "### Analysis of the Python (SE) split:"
   ]
  },
  {
   "cell_type": "code",
   "execution_count": 52,
   "metadata": {},
   "outputs": [
    {
     "name": "stdout",
     "output_type": "stream",
     "text": [
      "SE_py/forks_SE_py_seed=15_random_sampling10_interval_(100, 200).csv\n",
      "2410\n",
      "SE_py/forks_SE_py_seed=15_random_sampling10_interval_(300, 400).csv\n",
      "2061\n",
      "SE_py/forks_SE_py_seed=15_random_sampling10_interval_(500, 608).csv\n",
      "3568\n",
      "SE_py/forks_SE_py_seed=15_random_sampling10_interval_(400, 500).csv\n",
      "3065\n",
      "SE_py/forks_SE_py_seed=15_random_sampling10_interval_(200, 300).csv\n",
      "2388\n",
      "SE_py/forks_SE_py_seed=15_random_sampling10_interval_(0, 100).csv\n",
      "3094\n",
      "\n",
      " *** \n",
      " Number of total forks* number of branches gathered for this split: 16586\n"
     ]
    }
   ],
   "source": [
    "df_forks_SE_py = merge_csv_results('SE_py')\n",
    "print(f\"\\n *** \\n Number of total forks* number of branches gathered for this split: {len(df_forks_SE_py)}\")"
   ]
  },
  {
   "cell_type": "code",
   "execution_count": 53,
   "metadata": {},
   "outputs": [
    {
     "name": "stdout",
     "output_type": "stream",
     "text": [
      "Number of total forks forked from default branches (main and/or master) \n",
      " gathered for this split: 4894\n"
     ]
    }
   ],
   "source": [
    "df_forks_SE_py_def_branch = df_forks_SE_py[df_forks_SE_py['fork_branch_name'].isin(['master', 'main'])]\n",
    "print(f\"Number of total forks forked from default branches (main and/or master) \\n gathered for this split: {len(df_forks_SE_py_def_branch )}\")"
   ]
  },
  {
   "cell_type": "markdown",
   "metadata": {},
   "source": [
    "Columns of the dataframe:"
   ]
  },
  {
   "cell_type": "code",
   "execution_count": 54,
   "metadata": {},
   "outputs": [
    {
     "data": {
      "text/plain": [
       "Index(['forked_from', 'full_name', 'owner', 'html_url', 'fork_branch_name',\n",
       "       'created_at', 'updated_at', 'stargazers_count', 'watchers_count',\n",
       "       'forks_count', 'commits_ahead_by', 'commit_msgs', 'number_bugfix_msgs',\n",
       "       'bugfix_msgs'],\n",
       "      dtype='object')"
      ]
     },
     "execution_count": 54,
     "metadata": {},
     "output_type": "execute_result"
    }
   ],
   "source": [
    "df_forks_SE_py.columns"
   ]
  },
  {
   "cell_type": "markdown",
   "metadata": {},
   "source": [
    "'Count', below, is the number of forks done in relation to default branches (main or master). The other metrics (mean, standard deviation, min, etc) represent the number of commits ahead the fork has in relation to its forked repository."
   ]
  },
  {
   "cell_type": "code",
   "execution_count": 55,
   "metadata": {},
   "outputs": [
    {
     "data": {
      "text/plain": [
       "count    4894.000000\n",
       "mean        4.030650\n",
       "std        34.104261\n",
       "min         0.000000\n",
       "25%         0.000000\n",
       "50%         0.000000\n",
       "75%         2.000000\n",
       "max      2028.000000\n",
       "Name: commits_ahead_by, dtype: float64"
      ]
     },
     "execution_count": 55,
     "metadata": {},
     "output_type": "execute_result"
    }
   ],
   "source": [
    "df_forks_SE_py_def_branch['commits_ahead_by'].describe()"
   ]
  },
  {
   "cell_type": "markdown",
   "metadata": {},
   "source": [
    "'Count', below, is the number of forks done in relation to default branches (main or master). The other metrics (mean, standard deviation, min, etc) represent the number of commits ahead belonging to the fork project that are related to bugfixes:"
   ]
  },
  {
   "cell_type": "code",
   "execution_count": 56,
   "metadata": {},
   "outputs": [
    {
     "data": {
      "text/plain": [
       "count    4894.000000\n",
       "mean        0.402534\n",
       "std         2.889228\n",
       "min         0.000000\n",
       "25%         0.000000\n",
       "50%         0.000000\n",
       "75%         0.000000\n",
       "max        94.000000\n",
       "Name: number_bugfix_msgs, dtype: float64"
      ]
     },
     "execution_count": 56,
     "metadata": {},
     "output_type": "execute_result"
    }
   ],
   "source": [
    "df_forks_SE_py_def_branch['number_bugfix_msgs'].describe()"
   ]
  },
  {
   "cell_type": "markdown",
   "metadata": {},
   "source": [
    "### Analysis of the Python (Educational) split:"
   ]
  },
  {
   "cell_type": "code",
   "execution_count": 57,
   "metadata": {},
   "outputs": [
    {
     "name": "stdout",
     "output_type": "stream",
     "text": [
      "non_SE_py/forks_non_SE_py_seed=15_random_sampling10_interval_(0, 110).csv\n",
      "1554\n",
      "\n",
      " *** \n",
      " Number of total forks* number of branches gathered for this split: 1554\n"
     ]
    }
   ],
   "source": [
    "df_forks_non_SE_py = merge_csv_results('non_SE_py')\n",
    "print(f\"\\n *** \\n Number of total forks* number of branches gathered for this split: {len(df_forks_non_SE_py)}\")"
   ]
  },
  {
   "cell_type": "code",
   "execution_count": 58,
   "metadata": {},
   "outputs": [
    {
     "name": "stdout",
     "output_type": "stream",
     "text": [
      "Number of total forks forked from default branches (main and/or master) \n",
      " gathered for this split: 857\n"
     ]
    }
   ],
   "source": [
    "df_forks_non_SE_py_def_branch = df_forks_non_SE_py[df_forks_non_SE_py['fork_branch_name'].isin(['master', 'main'])]\n",
    "print(f\"Number of total forks forked from default branches (main and/or master) \\n gathered for this split: {len(df_forks_non_SE_py_def_branch)}\")"
   ]
  },
  {
   "cell_type": "markdown",
   "metadata": {},
   "source": [
    "Columns of the dataframe:"
   ]
  },
  {
   "cell_type": "code",
   "execution_count": 59,
   "metadata": {},
   "outputs": [
    {
     "data": {
      "text/plain": [
       "Index(['forked_from', 'full_name', 'owner', 'html_url', 'fork_branch_name',\n",
       "       'created_at', 'updated_at', 'stargazers_count', 'watchers_count',\n",
       "       'forks_count', 'commits_ahead_by', 'commit_msgs', 'number_bugfix_msgs',\n",
       "       'bugfix_msgs'],\n",
       "      dtype='object')"
      ]
     },
     "execution_count": 59,
     "metadata": {},
     "output_type": "execute_result"
    }
   ],
   "source": [
    "df_forks_non_SE_py.columns"
   ]
  },
  {
   "cell_type": "markdown",
   "metadata": {},
   "source": [
    "'Count', below, is the number of forks done in relation to default branches (main or master). The other metrics (mean, standard deviation, min, etc) represent the number of commits ahead the fork has in relation to its forked repository."
   ]
  },
  {
   "cell_type": "code",
   "execution_count": 60,
   "metadata": {},
   "outputs": [
    {
     "data": {
      "text/plain": [
       "count    857.000000\n",
       "mean       2.638273\n",
       "std       11.415571\n",
       "min        0.000000\n",
       "25%        0.000000\n",
       "50%        0.000000\n",
       "75%        1.000000\n",
       "max      178.000000\n",
       "Name: commits_ahead_by, dtype: float64"
      ]
     },
     "execution_count": 60,
     "metadata": {},
     "output_type": "execute_result"
    }
   ],
   "source": [
    "df_forks_non_SE_py_def_branch['commits_ahead_by'].describe()"
   ]
  },
  {
   "cell_type": "markdown",
   "metadata": {},
   "source": [
    "'Count', below, is the number of forks done in relation to default branches (main or master). The other metrics (mean, standard deviation, min, etc) represent the number of commits ahead belonging to the fork project that are related to bugfixes:"
   ]
  },
  {
   "cell_type": "code",
   "execution_count": 61,
   "metadata": {},
   "outputs": [
    {
     "data": {
      "text/plain": [
       "count    857.000000\n",
       "mean       0.120187\n",
       "std        0.826419\n",
       "min        0.000000\n",
       "25%        0.000000\n",
       "50%        0.000000\n",
       "75%        0.000000\n",
       "max       16.000000\n",
       "Name: number_bugfix_msgs, dtype: float64"
      ]
     },
     "execution_count": 61,
     "metadata": {},
     "output_type": "execute_result"
    }
   ],
   "source": [
    "df_forks_non_SE_py_def_branch['number_bugfix_msgs'].describe()"
   ]
  },
  {
   "cell_type": "code",
   "execution_count": 62,
   "metadata": {},
   "outputs": [
    {
     "name": "stderr",
     "output_type": "stream",
     "text": [
      "/tmp/ipykernel_17784/2181840212.py:1: SettingWithCopyWarning: \n",
      "A value is trying to be set on a copy of a slice from a DataFrame.\n",
      "Try using .loc[row_indexer,col_indexer] = value instead\n",
      "\n",
      "See the caveats in the documentation: https://pandas.pydata.org/pandas-docs/stable/user_guide/indexing.html#returning-a-view-versus-a-copy\n",
      "  df_forks_SE_def_branch['split'] = \"Notebook (SE)\"\n",
      "/tmp/ipykernel_17784/2181840212.py:2: SettingWithCopyWarning: \n",
      "A value is trying to be set on a copy of a slice from a DataFrame.\n",
      "Try using .loc[row_indexer,col_indexer] = value instead\n",
      "\n",
      "See the caveats in the documentation: https://pandas.pydata.org/pandas-docs/stable/user_guide/indexing.html#returning-a-view-versus-a-copy\n",
      "  df_forks_non_SE_def_branch['split'] = \"Notebook (Edu)\"\n",
      "/tmp/ipykernel_17784/2181840212.py:4: SettingWithCopyWarning: \n",
      "A value is trying to be set on a copy of a slice from a DataFrame.\n",
      "Try using .loc[row_indexer,col_indexer] = value instead\n",
      "\n",
      "See the caveats in the documentation: https://pandas.pydata.org/pandas-docs/stable/user_guide/indexing.html#returning-a-view-versus-a-copy\n",
      "  df_forks_SE_py_def_branch['split'] = \"Python (SE)\"\n",
      "/tmp/ipykernel_17784/2181840212.py:5: SettingWithCopyWarning: \n",
      "A value is trying to be set on a copy of a slice from a DataFrame.\n",
      "Try using .loc[row_indexer,col_indexer] = value instead\n",
      "\n",
      "See the caveats in the documentation: https://pandas.pydata.org/pandas-docs/stable/user_guide/indexing.html#returning-a-view-versus-a-copy\n",
      "  df_forks_non_SE_py_def_branch['split'] = \"Python (Edu)\"\n"
     ]
    }
   ],
   "source": [
    "df_forks_SE_def_branch['split'] = \"Notebook (SE)\"\n",
    "df_forks_non_SE_def_branch['split'] = \"Notebook (Edu)\"\n",
    "\n",
    "df_forks_SE_py_def_branch['split'] = \"Python (SE)\"\n",
    "df_forks_non_SE_py_def_branch['split'] = \"Python (Edu)\"\n",
    "\n",
    "forks_notebook = pd.concat([df_forks_SE_def_branch,\n",
    "                            df_forks_non_SE_def_branch])\n",
    "\n",
    "forks_python = pd.concat([df_forks_SE_py_def_branch,\n",
    "                         df_forks_non_SE_py_def_branch])"
   ]
  },
  {
   "cell_type": "markdown",
   "metadata": {},
   "source": [
    "## Statistical Tests"
   ]
  },
  {
   "cell_type": "markdown",
   "metadata": {},
   "source": [
    "Using Mann-Whitney test to observe if there are any statistical significance between Notebook vs Python fork behavior. Only forks done based on default branches (master/main) are considered:"
   ]
  },
  {
   "cell_type": "markdown",
   "metadata": {},
   "source": [
    "Statistical significance in commits ahead by the forked repository between Notebooks vs Python repositories:"
   ]
  },
  {
   "cell_type": "code",
   "execution_count": 63,
   "metadata": {},
   "outputs": [
    {
     "name": "stdout",
     "output_type": "stream",
     "text": [
      "Mann-Whitney U statistic: 22023332.0\n",
      "P-value: 0.1258130540\n",
      "Absolute value of cohen d: 0.03875375871181544\n",
      "Very small difference between Notebooks vs Python (cohen D <= 0.2)\n"
     ]
    }
   ],
   "source": [
    "get_mann_test_and_cohen_d(forks_notebook, forks_python, \"commits_ahead_by\")"
   ]
  },
  {
   "cell_type": "markdown",
   "metadata": {},
   "source": [
    "Statistical significance in number of commit messages related to bugfix, when considering commits done ahead by the forked repository, between Notebooks vs Python repositories:"
   ]
  },
  {
   "cell_type": "code",
   "execution_count": 64,
   "metadata": {},
   "outputs": [
    {
     "name": "stdout",
     "output_type": "stream",
     "text": [
      "Mann-Whitney U statistic: 21580788.0\n",
      "P-value: 0.0000000000\n",
      "Absolute value of cohen d: 0.05120751512274936\n",
      "Very small difference between Notebooks vs Python (cohen D <= 0.2)\n"
     ]
    }
   ],
   "source": [
    "get_mann_test_and_cohen_d(forks_notebook, forks_python, \"number_bugfix_msgs\")"
   ]
  },
  {
   "cell_type": "markdown",
   "metadata": {},
   "source": [
    "## Plotting the data:"
   ]
  },
  {
   "cell_type": "code",
   "execution_count": 65,
   "metadata": {},
   "outputs": [],
   "source": [
    "# adjusitng indices only to plot the data:\n",
    "all_forks = pd.concat([forks_python, forks_notebook])\n",
    "all_forks.reset_index(drop=True, inplace=True)"
   ]
  },
  {
   "cell_type": "code",
   "execution_count": 66,
   "metadata": {},
   "outputs": [
    {
     "data": {
      "text/plain": [
       "Index(['forked_from', 'full_name', 'owner', 'html_url', 'fork_branch_name',\n",
       "       'created_at', 'updated_at', 'stargazers_count', 'watchers_count',\n",
       "       'forks_count', 'commits_ahead_by', 'commit_msgs', 'number_bugfix_msgs',\n",
       "       'bugfix_msgs', 'split'],\n",
       "      dtype='object')"
      ]
     },
     "execution_count": 66,
     "metadata": {},
     "output_type": "execute_result"
    }
   ],
   "source": [
    "all_forks.columns"
   ]
  },
  {
   "cell_type": "code",
   "execution_count": 67,
   "metadata": {},
   "outputs": [
    {
     "name": "stderr",
     "output_type": "stream",
     "text": [
      "/tmp/ipykernel_17784/2121987063.py:12: FutureWarning: \n",
      "\n",
      "Passing `palette` without assigning `hue` is deprecated and will be removed in v0.14.0. Assign the `y` variable to `hue` and set `legend=False` for the same effect.\n",
      "\n",
      "  sns.boxplot(data=all_forks, x=\"commits_ahead_by\", y=\"split\",\n",
      "/tmp/ipykernel_17784/2121987063.py:29: FutureWarning: \n",
      "\n",
      "Passing `palette` without assigning `hue` is deprecated and will be removed in v0.14.0. Assign the `y` variable to `hue` and set `legend=False` for the same effect.\n",
      "\n",
      "  sns.boxplot(data=all_forks, x=\"number_bugfix_msgs\", y=\"split\",\n"
     ]
    },
    {
     "data": {
      "image/png": "[encoded data removed]",
      "text/plain": [
       "<Figure size 1000x800 with 2 Axes>"
      ]
     },
     "metadata": {},
     "output_type": "display_data"
    }
   ],
   "source": [
    "\n",
    "fig, axs = plt.subplots(nrows=2, ncols=1, figsize=(10, 8))\n",
    "\n",
    "custom_palette = {\n",
    "    'Python (SE)': '#3399ff',  # Shade of blue\n",
    "    'Python (Edu)': '#80bfff',  # Lighter shade of blue\n",
    "    'Notebook (SE)': '#00e6ac',  # Shade of purple\n",
    "    'Notebook (Edu)': '#99ffe6',  # Lighter shade of purple\n",
    "    'Kaggle': '#ff704d' #Salmon\n",
    "}\n",
    "\n",
    "sns.set_style(\"darkgrid\")\n",
    "sns.boxplot(data=all_forks, x=\"commits_ahead_by\", y=\"split\", \n",
    "            palette=custom_palette, whis=(10,90), showfliers = False, width=0.5,\n",
    "            ax=axs[0],boxprops=dict(alpha=.9))\n",
    "#axs[0].set_xscale('log')\n",
    "#axs[0].xaxis.set_major_formatter(FuncFormatter(lambda x, _: '{:.0f}'.format(x)))\n",
    "# axs[0].get_xaxis().set_major_formatter(LogFormatter(base=10, labelOnlyBase=False))\n",
    "# axs[0].set_xticks([1, 2, 3, 4, 5])\n",
    "# axs[0].set_xticklabels([1, 2, 3, 4, 5])\n",
    "# axs[0].set_xticks([1, 2, 3, 4,5])\n",
    "axs[0].tick_params(axis='x', labelsize=12)\n",
    "axs[0].set_xlabel('Number of Commits Ahead By For Each Fork by Split', fontsize=12)\n",
    "axs[0].set_title('Number of Commits Ahead By For Each Fork', fontsize=16)\n",
    "axs[0].set_ylabel('Data Split', fontsize=14) \n",
    "\n",
    "\n",
    "\n",
    "sns.set_style(\"darkgrid\")\n",
    "sns.boxplot(data=all_forks, x=\"number_bugfix_msgs\", y=\"split\", \n",
    "            palette=custom_palette, whis=(0,90), showfliers = True, width=0.5,\n",
    "            ax=axs[1], boxprops=dict(alpha=.9))\n",
    "#axs[1].set_xscale('log')\n",
    "#axs[1].xaxis.set_major_formatter(FuncFormatter(lambda x, _: '{:.0f}'.format(x)))\n",
    "#axs[1].tick_params(axis='x', labelsize=12)\n",
    "axs[1].set_xlabel('Number of Bugfix Commit Messages in Each Fork by Split', fontsize=12)\n",
    "axs[1].set_title('Number of Bugfix Commit Messages in Each Fork', fontsize=16)\n",
    "axs[1].set_ylabel('Data Split', fontsize=14)\n",
    "\n",
    "\n",
    "\n",
    "plt.subplots_adjust(hspace=0.5)\n",
    "#plt.tight_layout()\n",
    "plt.savefig(\"boxplot_forks.pdf\", format='pdf',bbox_inches='tight')\n",
    "plt.show()\n"
   ]
  }
 ],
 "metadata": {
  "kernelspec": {
   "display_name": "env_bug",
   "language": "python",
   "name": "python3"
  },
  "language_info": {
   "codemirror_mode": {
    "name": "ipython",
    "version": 3
   },
   "file_extension": ".py",
   "mimetype": "text/x-python",
   "name": "python",
   "nbconvert_exporter": "python",
   "pygments_lexer": "ipython3",
   "version": "3.10.14"
  }
 },
 "nbformat": 4,
 "nbformat_minor": 2
}
