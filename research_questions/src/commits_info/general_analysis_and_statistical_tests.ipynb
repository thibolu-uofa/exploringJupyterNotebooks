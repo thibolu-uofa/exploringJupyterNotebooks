{
 "cells": [
  {
   "cell_type": "markdown",
   "metadata": {},
   "source": [
    "# Commits Analysis\n",
    "\n",
    "This notebook presents the following information, for all dataset splits - Notebooks datasets for both Software Enginnering purposes (Notebooks SE) and educational purposes (Notebooks Edu.), and Python datasets for Software Enginnering purposes (Python SE) and educational  purposes (Python Edu.), and for the Kaggle dataset:\n",
    "\n",
    "- Number of total commits of a given repository\n",
    "- Commit frequency of a given repository: number of days elapsed between 2 consecutives commits\n",
    "- Number of unique authors that have contributed to a given repository \n",
    "- Commit message length\n",
    "- Statiscal analysis for the previous items (mean, median, standard deviation, Mann-Whitney test and Cohen D effect size)"
   ]
  },
  {
   "cell_type": "code",
   "execution_count": 1,
   "metadata": {
    "ExecuteTime": {
     "end_time": "2024-07-18T17:34:45.388718Z",
     "start_time": "2024-07-18T17:34:45.371714Z"
    }
   },
   "outputs": [],
   "source": [
    "import pandas as pd\n",
    "import numpy as np\n",
    "from pathlib import Path\n",
    "import math\n",
    "from collections import Counter\n",
    "import pingouin as pg\n",
    "from scipy.stats import mannwhitneyu\n",
    "import matplotlib.pyplot as plt\n",
    "import seaborn as sns\n",
    "from matplotlib.ticker import FuncFormatter"
   ]
  },
  {
   "cell_type": "markdown",
   "metadata": {},
   "source": [
    "## Auxiliar Functions"
   ]
  },
  {
   "cell_type": "code",
   "execution_count": 2,
   "metadata": {
    "ExecuteTime": {
     "end_time": "2024-07-18T17:34:46.037296Z",
     "start_time": "2024-07-18T17:34:46.020562Z"
    }
   },
   "outputs": [],
   "source": [
    "def get_commit_diff_time_per_repo(df, split):\n",
    "    \"\"\" Gets the difference, in days, between each commit pushed\n",
    "        to a given repository. Repositories\n",
    "        are treated separately.\n",
    "    \"\"\"\n",
    "    # copying the dataframe to prevent modification of the original one:\n",
    "    df = df.copy()\n",
    "    df = df.dropna(subset=['commit_date'])\n",
    "    # converting commit dates to datetime objects:\n",
    "    df['commit_date'] = pd.to_datetime(df['commit_date'], errors='coerce')\n",
    "    # getting the difference, in days, between successive commits:\n",
    "    df['days_diff'] = df.groupby('repo_url')['commit_date'].diff().apply(lambda x: abs(x.days) if pd.notnull(x) else 0)\n",
    "    \n",
    "    print(df['days_diff'].describe())\n",
    "    df['split'] = split\n",
    "\n",
    "    return df\n",
    "\n",
    "def get_commit_avg_diff_time_per_repo(df, split):\n",
    "    \"\"\" Gets the average difference, in days, between each commit pushed\n",
    "        to a given repository. Repositories\n",
    "        are treated separately. The average of commit frequency is computed\n",
    "        per each repository url.\"\"\"\n",
    "\n",
    "    # copying the dataframe to prevent modification of the original one:\n",
    "    df = df.copy()\n",
    "    df = df.dropna(subset=['commit_date'])\n",
    "    df['commit_date'] = pd.to_datetime(df['commit_date'], errors='coerce')\n",
    "    # getting the difference, in days, between successive commits:\n",
    "    df['days_diff'] = df.groupby('repo_url')['commit_date'].diff().apply(lambda x: abs(x.days) if pd.notnull(x) else 0)\n",
    "    # getting the mean of days elapsed between successive commits, per repository:\n",
    "    avg_days_diff = df.groupby('repo_url')['days_diff'].mean().reset_index()\n",
    "\n",
    "    df_merged = pd.merge(df, avg_days_diff, on='repo_url', suffixes=('', '_avg'))\n",
    "\n",
    "    # eliminating repeated repo urls, since we only want\n",
    "    # the average per repository\n",
    "    # and keeping only one occurrence of each repo_url\n",
    "    df_merged = df_merged.drop_duplicates(subset=['repo_url'], keep='first')\n",
    "    df_merged['split'] = split\n",
    "    df_merged = df_merged[['repo_url', 'days_diff_avg', 'split']]\n",
    "\n",
    "    return df_merged\n",
    "\n",
    "def get_commit_msg_length(df, split: str):\n",
    "    \"\"\" Gets the number of chars of each commit message\"\"\"\n",
    "    # copying the dataframe to prevent modification of the original one:\n",
    "    df = df.copy()\n",
    "    df['commit_msg'] = df['commit_msg'].fillna('').astype(str)\n",
    "    df['commit_length'] = df['commit_msg'].apply(preprocess_commit)\n",
    "    print(df['commit_length'].describe())\n",
    "    df['split'] = split\n",
    "\n",
    "    return df\n",
    "\n",
    "def preprocess_commit(commit_message):\n",
    "    # cleaning commit messages:\n",
    "    cleaned_string = commit_message.replace(' ', '').replace('\\n', '')\n",
    "    return len(cleaned_string)\n",
    "\n",
    "def shannon_entropy(commit_message):\n",
    "    \"\"\"calculate the Shannon entropy of a commit message\"\"\"\n",
    "    \n",
    "    # counting the frequency of each character \n",
    "    data_length = len(commit_message)\n",
    "    char_frequencies = Counter(commit_message)\n",
    "    \n",
    "    # shannon entropy: measure of the amount of uncertainty or randomness in a \n",
    "    # set of symbols and\n",
    "    # calculates the probability of each character appearing in the text\n",
    "    entropy = -sum((count / data_length) * math.log2(count / data_length) for \n",
    "                   count in char_frequencies.values())\n",
    "    \n",
    "    return entropy\n",
    "\n",
    "def entropy_all_commits(df, split: str):\n",
    "    \"\"\"Applying the entropy function in commit messages of all\n",
    "    commits of a given split\"\"\"\n",
    "\n",
    "    # copying the dataframe to prevent modification of the original one:\n",
    "    df = df.copy()\n",
    "    df['commit_msg'] = df['commit_msg'].fillna('').astype(str)\n",
    "    df['commit_length'] = df['commit_msg'].apply(preprocess_commit)\n",
    "    # computing entropy for commit messages:\n",
    "    df['commit_msg_entropy'] = df['commit_msg'].apply(shannon_entropy)\n",
    "    df['split'] = split\n",
    "\n",
    "    print(df['commit_msg_entropy'].describe())\n",
    "\n",
    "    return df\n",
    "\n",
    "def get_number_commits_per_repo(df, split: str):\n",
    "    \"\"\"Get commits count per repository\"\"\"\n",
    "    # preventing changing the dataframe passed as parameter:\n",
    "    df = df.copy()\n",
    "    df['commit_count'] = df.groupby('repo_url')['commit_sha'].transform('count')\n",
    "    # keeping only one occurrence of each repo_url\n",
    "    df = df.drop_duplicates(subset=['repo_url'], keep='first')\n",
    "    df = df[['repo_url', 'commit_count']]\n",
    "    df['split'] = split\n",
    "    print(df['commit_count'].describe())\n",
    "    \n",
    "    return df\n",
    "\n",
    "\n",
    "def get_unique_authors_count(df, split: str):\n",
    "    \"\"\"Get unique authors for each repository separately. It is important\n",
    "    to use the user_id queried from GitHub API instead of user 'name' or 'email',\n",
    "    to prevent inconsistencies  (e.g: if a user changes its email account,\n",
    "    a user may be counted incorrectly twice)\"\"\"\n",
    "\n",
    "    # copying the dataframe to prevent modification of the original one:\n",
    "    df = df.copy()\n",
    "    df['unique_authors'] = df.groupby('repo_url')['user_id'].transform('nunique')\n",
    "    # gettign the name of the authors, for debugging purposes:\n",
    "    df_grouped = df.groupby('repo_url')['name'].apply(list).reset_index()\n",
    "    # merging the grouped data back into the original dataframe\n",
    "    df_merged = pd.merge(df, df_grouped, on='repo_url', suffixes=('', '_authors'))\n",
    "\n",
    "    # renaming the column to 'authors', mapping the unique authors per each\n",
    "    # repo url:\n",
    "    df_merged = df_merged.rename(columns={'name_authors': 'authors'})\n",
    "\n",
    "    # eliminaitng duplicated rows:\n",
    "    df_merged = df_merged.drop_duplicates(subset=['repo_url'], keep='first')\n",
    "    df_merged = df_merged[['repo_url','unique_authors', 'authors']]\n",
    "\n",
    "    df_merged['split'] = split\n",
    "\n",
    "    return df_merged\n",
    "\n",
    "def get_mann_test_and_cohen_d(df_column1, df_column2):\n",
    "    \"\"\"Applies Mann-Whitney hypothesis testing to 2 group sets\n",
    "    passed as input (2 dataframe columns passed as parameter).\n",
    "    Also gets Cohen D coefficient between these 2 groups,\n",
    "    that is an effect size measure if two groups have similar \n",
    "    standard deviations and are of the same size \n",
    "    \"\"\"\n",
    "\n",
    "    statistic, p_value = mannwhitneyu(df_column1, df_column2)\n",
    "    print(f\"Mann-Whitney U statistic: {statistic}\")\n",
    "    # printing more decimals:\n",
    "    formatted_p_value = \"{:.10f}\".format(p_value)\n",
    "    print(f\"P-value: {formatted_p_value}\")\n",
    "    \n",
    "    # returning the absolute value of cohen d:\n",
    "    cohen_d = pg.compute_effsize(df_column1, df_column2, eftype='cohen')\n",
    "    cohen_d = np.abs(cohen_d)\n",
    "    print(f\"Absolute value of cohen d: {cohen_d}\")\n",
    "    if cohen_d <= 0.2:\n",
    "        print(f\"Very small difference between Notebooks vs Python (cohen D <= 0.2)\")\n",
    "    if cohen_d > 0.2 and cohen_d <= 0.5:\n",
    "        print(f\"Small difference between Notebooks vs Python ( 0.2 > cohen D <= 0.5)\")\n",
    "    if cohen_d > 0.5 and cohen_d <= 0.8:\n",
    "        print(f\"Medium difference between Notebooks vs Python ( 0.5 > cohen D <= 0.8)\")\n",
    "    if cohen_d > 0.8:\n",
    "        print(f\"Big difference between Notebooks vs Python (cohen D > 0.8)\")\n"
   ]
  },
  {
   "cell_type": "markdown",
   "metadata": {},
   "source": [
    "### Getting the unique authors for each split:"
   ]
  },
  {
   "cell_type": "markdown",
   "metadata": {},
   "source": [
    "Number of unique authors for the Notebook data split for Software Engineer purposes: "
   ]
  },
  {
   "cell_type": "code",
   "execution_count": 3,
   "metadata": {
    "ExecuteTime": {
     "end_time": "2024-07-18T17:34:46.068289Z",
     "start_time": "2024-07-18T17:34:46.042289Z"
    }
   },
   "outputs": [
    {
     "data": {
      "text/plain": [
       "10914"
      ]
     },
     "execution_count": 3,
     "metadata": {},
     "output_type": "execute_result"
    }
   ],
   "source": [
    "csv_SE_path = Path(Path.cwd().parent,'contributors_RQ3_RQ4_RQ5',\"contributors_data_SE.csv\")\n",
    "authors_SE = pd.read_csv(csv_SE_path)\n",
    "len(authors_SE)\n"
   ]
  },
  {
   "cell_type": "markdown",
   "metadata": {},
   "source": [
    "Number of unique authors for the Notebook data split for Educational purposes: "
   ]
  },
  {
   "cell_type": "code",
   "execution_count": 4,
   "metadata": {
    "ExecuteTime": {
     "end_time": "2024-07-18T17:34:46.099290Z",
     "start_time": "2024-07-18T17:34:46.069289Z"
    }
   },
   "outputs": [
    {
     "data": {
      "text/plain": [
       "11412"
      ]
     },
     "execution_count": 4,
     "metadata": {},
     "output_type": "execute_result"
    }
   ],
   "source": [
    "csv_non_SE_path = Path(Path.cwd().parent,'contributors_RQ3_RQ4_RQ5',\"contributors_data_non_SE.csv\")\n",
    "authors_non_SE = pd.read_csv(csv_non_SE_path)\n",
    "len(authors_non_SE)\n"
   ]
  },
  {
   "cell_type": "markdown",
   "metadata": {},
   "source": [
    "Number of unique authors for the Python data split for Software Engineer purposes: "
   ]
  },
  {
   "cell_type": "code",
   "execution_count": 5,
   "metadata": {
    "ExecuteTime": {
     "end_time": "2024-07-18T17:34:46.177285Z",
     "start_time": "2024-07-18T17:34:46.133286Z"
    }
   },
   "outputs": [
    {
     "data": {
      "text/plain": [
       "21195"
      ]
     },
     "execution_count": 5,
     "metadata": {},
     "output_type": "execute_result"
    }
   ],
   "source": [
    "csv_SE_py_path = Path(Path.cwd().parent,'contributors_RQ3_RQ4_RQ5',\"contributors_data_SE_py.csv\")\n",
    "authors_SE_py = pd.read_csv(csv_SE_py_path)\n",
    "len(authors_SE_py)\n"
   ]
  },
  {
   "cell_type": "markdown",
   "metadata": {},
   "source": [
    "Number of unique authors for the Python data split for educational purposes: "
   ]
  },
  {
   "cell_type": "code",
   "execution_count": 6,
   "metadata": {
    "ExecuteTime": {
     "end_time": "2024-07-18T17:34:46.193285Z",
     "start_time": "2024-07-18T17:34:46.178286Z"
    }
   },
   "outputs": [
    {
     "data": {
      "text/plain": [
       "2034"
      ]
     },
     "execution_count": 6,
     "metadata": {},
     "output_type": "execute_result"
    }
   ],
   "source": [
    "csv_non_SE_py_path = Path(Path.cwd().parent,'contributors_RQ3_RQ4_RQ5',\"contributors_data_non_SE_py.csv\")\n",
    "authors_non_SE_py = pd.read_csv(csv_non_SE_py_path)\n",
    "len(authors_non_SE_py)\n"
   ]
  },
  {
   "cell_type": "code",
   "execution_count": 7,
   "metadata": {
    "ExecuteTime": {
     "end_time": "2024-07-18T17:34:46.286285Z",
     "start_time": "2024-07-18T17:34:46.211287Z"
    }
   },
   "outputs": [],
   "source": [
    "authors_SE = get_unique_authors_count(authors_SE,'Notebook (SE)')\n",
    "authors_non_SE = get_unique_authors_count(authors_non_SE, 'Notebook (Edu)')\n",
    "authors_SE_py = get_unique_authors_count(authors_SE_py, 'Python (SE)')\n",
    "authors_non_SE_py = get_unique_authors_count(authors_non_SE_py, 'Python (Edu)')"
   ]
  },
  {
   "cell_type": "markdown",
   "metadata": {},
   "source": [
    "### Analysis of Unique authors for the Notebooks (SE) split:"
   ]
  },
  {
   "cell_type": "markdown",
   "metadata": {},
   "source": [
    "The following cells present metrics (mean, standard deviation, quartiles, minimum and maximum values) for the number of unique contributing authors per repository "
   ]
  },
  {
   "cell_type": "markdown",
   "metadata": {},
   "source": [
    "'Count' is the number of repositories urls in the given split. Metrics for the unique authors per repository for the Notebooks data split for Software Engineer purposes:"
   ]
  },
  {
   "cell_type": "code",
   "execution_count": 8,
   "metadata": {
    "ExecuteTime": {
     "end_time": "2024-07-18T17:34:46.301285Z",
     "start_time": "2024-07-18T17:34:46.288287Z"
    }
   },
   "outputs": [
    {
     "data": {
      "text/plain": [
       "count    375.00000\n",
       "mean      29.10400\n",
       "std       64.88379\n",
       "min        1.00000\n",
       "25%        3.00000\n",
       "50%        8.00000\n",
       "75%       25.50000\n",
       "max      406.00000\n",
       "Name: unique_authors, dtype: float64"
      ]
     },
     "execution_count": 8,
     "metadata": {},
     "output_type": "execute_result"
    }
   ],
   "source": [
    "authors_SE['unique_authors'].describe()"
   ]
  },
  {
   "cell_type": "markdown",
   "metadata": {},
   "source": [
    "### Analysis of Unique authors for the Notebooks (Edu) split:"
   ]
  },
  {
   "cell_type": "markdown",
   "metadata": {},
   "source": [
    "'Count' is the number of repositories urls in the given split. Metrics for the unique authors per repository for the Notebooks data split for educational purposes:"
   ]
  },
  {
   "cell_type": "code",
   "execution_count": 9,
   "metadata": {
    "ExecuteTime": {
     "end_time": "2024-07-18T17:34:46.381307Z",
     "start_time": "2024-07-18T17:34:46.367306Z"
    }
   },
   "outputs": [
    {
     "data": {
      "text/plain": [
       "count    517.000000\n",
       "mean      22.073501\n",
       "std       55.112345\n",
       "min        1.000000\n",
       "25%        2.000000\n",
       "50%        5.000000\n",
       "75%       14.000000\n",
       "max      477.000000\n",
       "Name: unique_authors, dtype: float64"
      ]
     },
     "execution_count": 9,
     "metadata": {},
     "output_type": "execute_result"
    }
   ],
   "source": [
    "authors_non_SE['unique_authors'].describe()"
   ]
  },
  {
   "cell_type": "markdown",
   "metadata": {},
   "source": [
    "### Analysis of Unique authors for the Python (SE) split:"
   ]
  },
  {
   "cell_type": "markdown",
   "metadata": {},
   "source": [
    "'Count' is the number of repositories urls in the given split. Metrics for the unique authors per repository for the Python data split for Software Engineer purposes:"
   ]
  },
  {
   "cell_type": "code",
   "execution_count": 10,
   "metadata": {
    "ExecuteTime": {
     "end_time": "2024-07-18T17:34:46.411306Z",
     "start_time": "2024-07-18T17:34:46.399308Z"
    }
   },
   "outputs": [
    {
     "data": {
      "text/plain": [
       "count    606.000000\n",
       "mean      34.975248\n",
       "std       58.459093\n",
       "min        1.000000\n",
       "25%        4.250000\n",
       "50%       13.000000\n",
       "75%       38.000000\n",
       "max      426.000000\n",
       "Name: unique_authors, dtype: float64"
      ]
     },
     "execution_count": 10,
     "metadata": {},
     "output_type": "execute_result"
    }
   ],
   "source": [
    "authors_SE_py['unique_authors'].describe()"
   ]
  },
  {
   "cell_type": "markdown",
   "metadata": {},
   "source": [
    "### Analysis of Unique authors for the Python (Edu) split:"
   ]
  },
  {
   "cell_type": "markdown",
   "metadata": {},
   "source": [
    "'Count' is the number of repositories urls in the given split. Metrics for the unique authors per repository for the Python data split for educational purposes:"
   ]
  },
  {
   "cell_type": "code",
   "execution_count": 11,
   "metadata": {
    "ExecuteTime": {
     "end_time": "2024-07-18T17:34:46.539306Z",
     "start_time": "2024-07-18T17:34:46.525309Z"
    }
   },
   "outputs": [
    {
     "data": {
      "text/plain": [
       "count    109.000000\n",
       "mean      18.660550\n",
       "std       48.568055\n",
       "min        1.000000\n",
       "25%        1.000000\n",
       "50%        4.000000\n",
       "75%       11.000000\n",
       "max      318.000000\n",
       "Name: unique_authors, dtype: float64"
      ]
     },
     "execution_count": 11,
     "metadata": {},
     "output_type": "execute_result"
    }
   ],
   "source": [
    "authors_non_SE_py['unique_authors'].describe()"
   ]
  },
  {
   "cell_type": "markdown",
   "metadata": {},
   "source": [
    "Concatenating all dataframes related to authors in a single dataframe, to facilitate plotting:"
   ]
  },
  {
   "cell_type": "code",
   "execution_count": 12,
   "metadata": {
    "ExecuteTime": {
     "end_time": "2024-07-18T17:34:46.603312Z",
     "start_time": "2024-07-18T17:34:46.589311Z"
    }
   },
   "outputs": [],
   "source": [
    "authors_all_splits = pd.concat([authors_SE,\n",
    "                                authors_non_SE,\n",
    "                                authors_SE_py,\n",
    "                                authors_non_SE_py\n",
    "                                ])"
   ]
  },
  {
   "cell_type": "code",
   "execution_count": 13,
   "metadata": {
    "ExecuteTime": {
     "end_time": "2024-07-18T17:34:46.666303Z",
     "start_time": "2024-07-18T17:34:46.652304Z"
    }
   },
   "outputs": [
    {
     "data": {
      "text/html": [
       "<div>\n",
       "<style scoped>\n",
       "    .dataframe tbody tr th:only-of-type {\n",
       "        vertical-align: middle;\n",
       "    }\n",
       "\n",
       "    .dataframe tbody tr th {\n",
       "        vertical-align: top;\n",
       "    }\n",
       "\n",
       "    .dataframe thead th {\n",
       "        text-align: right;\n",
       "    }\n",
       "</style>\n",
       "<table border=\"1\" class=\"dataframe\">\n",
       "  <thead>\n",
       "    <tr style=\"text-align: right;\">\n",
       "      <th></th>\n",
       "      <th>repo_url</th>\n",
       "      <th>unique_authors</th>\n",
       "      <th>authors</th>\n",
       "      <th>split</th>\n",
       "    </tr>\n",
       "  </thead>\n",
       "  <tbody>\n",
       "    <tr>\n",
       "      <th>0</th>\n",
       "      <td>https://github.com/DeepVoltaire/AutoAugment</td>\n",
       "      <td>2</td>\n",
       "      <td>[Philip Popien, Ali Hassani]</td>\n",
       "      <td>Notebook (SE)</td>\n",
       "    </tr>\n",
       "    <tr>\n",
       "      <th>2</th>\n",
       "      <td>https://github.com/JoePenna/Dreambooth-Stable-...</td>\n",
       "      <td>18</td>\n",
       "      <td>[David B., Joe Penna, Xavier, nan, nan, Peter ...</td>\n",
       "      <td>Notebook (SE)</td>\n",
       "    </tr>\n",
       "    <tr>\n",
       "      <th>20</th>\n",
       "      <td>https://github.com/microsoft/FLAML</td>\n",
       "      <td>80</td>\n",
       "      <td>[Chi Wang, Shaokun Zhang, Susan Xueqing Liu, Q...</td>\n",
       "      <td>Notebook (SE)</td>\n",
       "    </tr>\n",
       "    <tr>\n",
       "      <th>100</th>\n",
       "      <td>https://github.com/marceloprates/prettymaps</td>\n",
       "      <td>13</td>\n",
       "      <td>[Marcelo de Oliveira Rosa Prates, Christoph Ri...</td>\n",
       "      <td>Notebook (SE)</td>\n",
       "    </tr>\n",
       "    <tr>\n",
       "      <th>113</th>\n",
       "      <td>https://github.com/megvii-research/CoNR</td>\n",
       "      <td>7</td>\n",
       "      <td>[Ailin Huang, hzwer, Transp. Chan, Ryan, Shuch...</td>\n",
       "      <td>Notebook (SE)</td>\n",
       "    </tr>\n",
       "  </tbody>\n",
       "</table>\n",
       "</div>"
      ],
      "text/plain": [
       "                                              repo_url  unique_authors  \\\n",
       "0          https://github.com/DeepVoltaire/AutoAugment               2   \n",
       "2    https://github.com/JoePenna/Dreambooth-Stable-...              18   \n",
       "20                  https://github.com/microsoft/FLAML              80   \n",
       "100        https://github.com/marceloprates/prettymaps              13   \n",
       "113            https://github.com/megvii-research/CoNR               7   \n",
       "\n",
       "                                               authors          split  \n",
       "0                         [Philip Popien, Ali Hassani]  Notebook (SE)  \n",
       "2    [David B., Joe Penna, Xavier, nan, nan, Peter ...  Notebook (SE)  \n",
       "20   [Chi Wang, Shaokun Zhang, Susan Xueqing Liu, Q...  Notebook (SE)  \n",
       "100  [Marcelo de Oliveira Rosa Prates, Christoph Ri...  Notebook (SE)  \n",
       "113  [Ailin Huang, hzwer, Transp. Chan, Ryan, Shuch...  Notebook (SE)  "
      ]
     },
     "execution_count": 13,
     "metadata": {},
     "output_type": "execute_result"
    }
   ],
   "source": [
    "authors_all_splits.head(5)"
   ]
  },
  {
   "cell_type": "markdown",
   "metadata": {},
   "source": [
    "### Getting the number of commits for each split:"
   ]
  },
  {
   "cell_type": "markdown",
   "metadata": {},
   "source": [
    "Number of commits for the Notebook data split for Software Engineer purposes: "
   ]
  },
  {
   "cell_type": "code",
   "execution_count": 14,
   "metadata": {
    "ExecuteTime": {
     "end_time": "2024-07-18T17:34:48.163836Z",
     "start_time": "2024-07-18T17:34:47.026304Z"
    }
   },
   "outputs": [
    {
     "data": {
      "text/plain": [
       "334269"
      ]
     },
     "execution_count": 14,
     "metadata": {},
     "output_type": "execute_result"
    }
   ],
   "source": [
    "csv_SE_path = Path(Path.cwd(),\"commits_info_active_SE_repos.csv\")\n",
    "commits_df_SE = pd.read_csv(csv_SE_path)\n",
    "len(commits_df_SE)"
   ]
  },
  {
   "cell_type": "markdown",
   "metadata": {},
   "source": [
    "Number of commits for the Notebook data split for educational purposes: "
   ]
  },
  {
   "cell_type": "code",
   "execution_count": 15,
   "metadata": {
    "ExecuteTime": {
     "end_time": "2024-07-18T17:34:48.867187Z",
     "start_time": "2024-07-18T17:34:48.164840Z"
    }
   },
   "outputs": [
    {
     "data": {
      "text/plain": [
       "253112"
      ]
     },
     "execution_count": 15,
     "metadata": {},
     "output_type": "execute_result"
    }
   ],
   "source": [
    "csv_non_SE_path = Path(Path.cwd(),\"commits_info_active_non_SE_repos.csv\")\n",
    "commits_df_non_SE = pd.read_csv(csv_non_SE_path)\n",
    "len(commits_df_non_SE)"
   ]
  },
  {
   "cell_type": "markdown",
   "metadata": {},
   "source": [
    "Number of commits for the Python data split for Software Engineer purposes: "
   ]
  },
  {
   "cell_type": "code",
   "execution_count": 16,
   "metadata": {
    "ExecuteTime": {
     "end_time": "2024-07-18T17:34:52.808922Z",
     "start_time": "2024-07-18T17:34:48.868188Z"
    }
   },
   "outputs": [
    {
     "data": {
      "text/plain": [
       "844771"
      ]
     },
     "execution_count": 16,
     "metadata": {},
     "output_type": "execute_result"
    }
   ],
   "source": [
    "csv_SE_py_path = Path(Path.cwd(),\"commits_info_active_SE_py_repos.csv\")\n",
    "commits_df_SE_py = pd.read_csv(csv_SE_py_path)\n",
    "len(commits_df_SE_py)"
   ]
  },
  {
   "cell_type": "markdown",
   "metadata": {},
   "source": [
    "Number of commits for the Python data split for educational purposes: "
   ]
  },
  {
   "cell_type": "code",
   "execution_count": 17,
   "metadata": {
    "ExecuteTime": {
     "end_time": "2024-07-18T17:34:52.982027Z",
     "start_time": "2024-07-18T17:34:52.811912Z"
    }
   },
   "outputs": [
    {
     "data": {
      "text/plain": [
       "39879"
      ]
     },
     "execution_count": 17,
     "metadata": {},
     "output_type": "execute_result"
    }
   ],
   "source": [
    "csv_non_SE_py_path = Path(Path.cwd(),\"commits_info_active_non_SE_py_repos.csv\")\n",
    "commits_df_non_SE_py = pd.read_csv(csv_non_SE_py_path)\n",
    "len(commits_df_non_SE_py)"
   ]
  },
  {
   "cell_type": "markdown",
   "metadata": {},
   "source": [
    "### Analysis of commit count the Notebooks (SE) split:"
   ]
  },
  {
   "cell_type": "markdown",
   "metadata": {},
   "source": [
    "The following cells present metrics (mean, standard deviation, quartiles, minimum and maximum values) for the number of commits per repository "
   ]
  },
  {
   "cell_type": "markdown",
   "metadata": {},
   "source": [
    "'Count' is the number of repositories urls in the given split. Metrics for the number of commits per repository for the Notebook data split for Software Engineer purposes:"
   ]
  },
  {
   "cell_type": "code",
   "execution_count": 18,
   "metadata": {
    "ExecuteTime": {
     "end_time": "2024-07-18T17:34:53.045028Z",
     "start_time": "2024-07-18T17:34:52.983027Z"
    }
   },
   "outputs": [
    {
     "name": "stdout",
     "output_type": "stream",
     "text": [
      "count      376.000000\n",
      "mean       889.013298\n",
      "std       3001.554977\n",
      "min          2.000000\n",
      "25%         53.750000\n",
      "50%        154.500000\n",
      "75%        643.750000\n",
      "max      39088.000000\n",
      "Name: commit_count, dtype: float64\n"
     ]
    }
   ],
   "source": [
    "num_commits_df_SE = get_number_commits_per_repo(commits_df_SE, \"Notebook (SE)\")\n"
   ]
  },
  {
   "cell_type": "markdown",
   "metadata": {},
   "source": [
    "### Analysis of commit count for the Notebooks (Edu) split:"
   ]
  },
  {
   "cell_type": "markdown",
   "metadata": {},
   "source": [
    "'Count' is the number of repositories urls in the given split. Metrics for the number of commits per repository for the Notebook data split for educational purposes:"
   ]
  },
  {
   "cell_type": "code",
   "execution_count": 19,
   "metadata": {
    "ExecuteTime": {
     "end_time": "2024-07-18T17:34:53.109031Z",
     "start_time": "2024-07-18T17:34:53.046031Z"
    }
   },
   "outputs": [
    {
     "name": "stdout",
     "output_type": "stream",
     "text": [
      "count      523.000000\n",
      "mean       483.961759\n",
      "std       1222.084154\n",
      "min          1.000000\n",
      "25%         57.500000\n",
      "50%        138.000000\n",
      "75%        401.500000\n",
      "max      15060.000000\n",
      "Name: commit_count, dtype: float64\n"
     ]
    }
   ],
   "source": [
    "num_commits_df_non_SE = get_number_commits_per_repo(commits_df_non_SE, \"Notebook (Edu)\")"
   ]
  },
  {
   "cell_type": "markdown",
   "metadata": {},
   "source": [
    "### Analysis of commit count for the Python (SE) split:"
   ]
  },
  {
   "cell_type": "markdown",
   "metadata": {},
   "source": [
    "'Count' is the number of repositories urls in the given split. Metrics for the number of commits per repository for the Python data split for Software Engineer purposes:"
   ]
  },
  {
   "cell_type": "code",
   "execution_count": 20,
   "metadata": {
    "ExecuteTime": {
     "end_time": "2024-07-18T17:34:53.268027Z",
     "start_time": "2024-07-18T17:34:53.110030Z"
    }
   },
   "outputs": [
    {
     "name": "stdout",
     "output_type": "stream",
     "text": [
      "count       607.000000\n",
      "mean       1391.714992\n",
      "std        5983.253415\n",
      "min           2.000000\n",
      "25%          78.000000\n",
      "50%         289.000000\n",
      "75%         936.000000\n",
      "max      114409.000000\n",
      "Name: commit_count, dtype: float64\n"
     ]
    }
   ],
   "source": [
    "num_commits_df_SE_py = get_number_commits_per_repo(commits_df_SE_py, \"Python (SE)\")\n"
   ]
  },
  {
   "cell_type": "markdown",
   "metadata": {},
   "source": [
    "### Analysis of commit count for the Python (Edu) split:"
   ]
  },
  {
   "cell_type": "markdown",
   "metadata": {},
   "source": [
    "'Count' is the number of repositories urls in the given split. Metrics for the number of commits per repository for the Python data split for educational purposes:"
   ]
  },
  {
   "cell_type": "code",
   "execution_count": 21,
   "metadata": {
    "ExecuteTime": {
     "end_time": "2024-07-18T17:34:53.283026Z",
     "start_time": "2024-07-18T17:34:53.269029Z"
    }
   },
   "outputs": [
    {
     "name": "stdout",
     "output_type": "stream",
     "text": [
      "count     110.000000\n",
      "mean      362.536364\n",
      "std       746.019144\n",
      "min         1.000000\n",
      "25%        39.000000\n",
      "50%       117.000000\n",
      "75%       335.250000\n",
      "max      5402.000000\n",
      "Name: commit_count, dtype: float64\n"
     ]
    }
   ],
   "source": [
    "num_commits_df_non_SE_py = get_number_commits_per_repo(commits_df_non_SE_py, \"Python (Edu)\")\n"
   ]
  },
  {
   "cell_type": "markdown",
   "metadata": {},
   "source": [
    "Concatenating all dataframes split into a single dataframe, for plotting purposes:"
   ]
  },
  {
   "cell_type": "code",
   "execution_count": 22,
   "metadata": {
    "ExecuteTime": {
     "end_time": "2024-07-18T17:34:53.299028Z",
     "start_time": "2024-07-18T17:34:53.284028Z"
    }
   },
   "outputs": [],
   "source": [
    "all_commits_df = pd.concat([num_commits_df_SE,\n",
    "                            num_commits_df_non_SE,\n",
    "                            num_commits_df_SE_py,\n",
    "                            num_commits_df_non_SE_py]\n",
    "                            )"
   ]
  },
  {
   "cell_type": "markdown",
   "metadata": {},
   "source": [
    "### Getting the average difference, in days, between commits:"
   ]
  },
  {
   "cell_type": "markdown",
   "metadata": {},
   "source": [
    "The following cells present metrics (mean, standard deviation, quartiles, minimum and maximum values) for the time between 2 successive commits in each repository\n",
    "\n",
    "#### Analysis of elapsed average time between 2 successive commits, in days, for the Notebooks (SE) split\n"
   ]
  },
  {
   "cell_type": "code",
   "execution_count": 23,
   "metadata": {
    "ExecuteTime": {
     "end_time": "2024-07-18T17:35:16.269025Z",
     "start_time": "2024-07-18T17:35:12.301289Z"
    }
   },
   "outputs": [],
   "source": [
    "time_avg_diff_SE = get_commit_avg_diff_time_per_repo(commits_df_SE, \"Notebook (SE)\")"
   ]
  },
  {
   "cell_type": "code",
   "execution_count": 24,
   "metadata": {
    "ExecuteTime": {
     "end_time": "2024-07-18T17:35:19.233417Z",
     "start_time": "2024-07-18T17:35:16.269564Z"
    }
   },
   "outputs": [],
   "source": [
    "time_avg_diff_non_SE = get_commit_avg_diff_time_per_repo(commits_df_non_SE, \"Notebook (Edu)\")"
   ]
  },
  {
   "cell_type": "code",
   "execution_count": 25,
   "metadata": {
    "ExecuteTime": {
     "end_time": "2024-07-18T17:35:28.617139Z",
     "start_time": "2024-07-18T17:35:19.234424Z"
    }
   },
   "outputs": [],
   "source": [
    "time_avg_diff_SE_py = get_commit_avg_diff_time_per_repo(commits_df_SE_py, \"Python (SE)\")"
   ]
  },
  {
   "cell_type": "code",
   "execution_count": 26,
   "metadata": {
    "ExecuteTime": {
     "end_time": "2024-07-18T17:35:29.100806Z",
     "start_time": "2024-07-18T17:35:28.618136Z"
    }
   },
   "outputs": [],
   "source": [
    "time_avg_diff_non_SE_py = get_commit_avg_diff_time_per_repo(commits_df_non_SE_py, \"Python (Edu)\")"
   ]
  },
  {
   "cell_type": "markdown",
   "metadata": {},
   "source": [
    "Concatenating all dataframe sinto a single one, to facilitate plotting:"
   ]
  },
  {
   "cell_type": "code",
   "execution_count": 27,
   "metadata": {
    "ExecuteTime": {
     "end_time": "2024-07-18T17:35:29.132177Z",
     "start_time": "2024-07-18T17:35:29.118181Z"
    }
   },
   "outputs": [],
   "source": [
    "all_time_avg_diff = pd.concat([time_avg_diff_SE,\n",
    "                           time_avg_diff_non_SE,\n",
    "                           time_avg_diff_SE_py,\n",
    "                           time_avg_diff_non_SE_py])"
   ]
  },
  {
   "cell_type": "markdown",
   "metadata": {},
   "source": [
    "## Details of the Commit Frequency for Python and Noteboooks SE/Educational"
   ]
  },
  {
   "cell_type": "markdown",
   "metadata": {},
   "source": [
    "'Count' is the number of repositories urls in the given split. Metrics for the average days elapsed between 2 successive commits per repository for the Notebook data split for Software Engineer purposes:"
   ]
  },
  {
   "cell_type": "code",
   "execution_count": 28,
   "metadata": {
    "ExecuteTime": {
     "end_time": "2024-07-18T17:49:00.461052Z",
     "start_time": "2024-07-18T17:49:00.455051Z"
    }
   },
   "outputs": [
    {
     "data": {
      "text/plain": [
       "count    376.000000\n",
       "mean      14.092960\n",
       "std       23.664551\n",
       "min        0.500000\n",
       "25%        2.987984\n",
       "50%        6.602177\n",
       "75%       15.080159\n",
       "max      220.000000\n",
       "Name: days_diff_avg, dtype: float64"
      ]
     },
     "execution_count": 28,
     "metadata": {},
     "output_type": "execute_result"
    }
   ],
   "source": [
    "time_avg_diff_SE['days_diff_avg'].describe()"
   ]
  },
  {
   "cell_type": "markdown",
   "metadata": {},
   "source": [
    "'Count' is the number of repositories urls in the given split. Metrics for the average days elapsed between 2 successive commits per repository for the Notebook data split for educational purposes:"
   ]
  },
  {
   "cell_type": "code",
   "execution_count": 29,
   "metadata": {
    "ExecuteTime": {
     "end_time": "2024-07-18T17:49:02.771397Z",
     "start_time": "2024-07-18T17:49:02.757826Z"
    }
   },
   "outputs": [
    {
     "data": {
      "text/plain": [
       "count    523.000000\n",
       "mean      14.538514\n",
       "std       25.459897\n",
       "min        0.000000\n",
       "25%        3.375898\n",
       "50%        6.838583\n",
       "75%       15.367647\n",
       "max      291.250000\n",
       "Name: days_diff_avg, dtype: float64"
      ]
     },
     "execution_count": 29,
     "metadata": {},
     "output_type": "execute_result"
    }
   ],
   "source": [
    "time_avg_diff_non_SE['days_diff_avg'].describe()"
   ]
  },
  {
   "cell_type": "markdown",
   "metadata": {},
   "source": [
    "'Count' is the number of repositories urls in the given split. Metrics for the average days elapsed between 2 successive commits per repository for the Python data split for Software Engineer purposes:"
   ]
  },
  {
   "cell_type": "code",
   "execution_count": 30,
   "metadata": {
    "ExecuteTime": {
     "end_time": "2024-07-18T17:49:04.159975Z",
     "start_time": "2024-07-18T17:49:04.142857Z"
    }
   },
   "outputs": [
    {
     "data": {
      "text/plain": [
       "count    607.000000\n",
       "mean      13.672955\n",
       "std       25.790709\n",
       "min        0.750000\n",
       "25%        3.218125\n",
       "50%        7.250000\n",
       "75%       13.802982\n",
       "max      422.714286\n",
       "Name: days_diff_avg, dtype: float64"
      ]
     },
     "execution_count": 30,
     "metadata": {},
     "output_type": "execute_result"
    }
   ],
   "source": [
    "time_avg_diff_SE_py['days_diff_avg'].describe()"
   ]
  },
  {
   "cell_type": "markdown",
   "metadata": {},
   "source": [
    "'Count' is the number of repositories urls in the given split. Metrics for the average days elapsed between 2 successive commits per repository for the Notebook data split for educational purposes:"
   ]
  },
  {
   "cell_type": "code",
   "execution_count": 31,
   "metadata": {
    "ExecuteTime": {
     "end_time": "2024-07-18T17:49:05.750516Z",
     "start_time": "2024-07-18T17:49:05.732976Z"
    }
   },
   "outputs": [
    {
     "data": {
      "text/plain": [
       "count    110.000000\n",
       "mean      16.677136\n",
       "std       46.035840\n",
       "min        0.000000\n",
       "25%        4.185322\n",
       "50%        7.417733\n",
       "75%       14.731219\n",
       "max      472.000000\n",
       "Name: days_diff_avg, dtype: float64"
      ]
     },
     "execution_count": 31,
     "metadata": {},
     "output_type": "execute_result"
    }
   ],
   "source": [
    "time_avg_diff_non_SE_py['days_diff_avg'].describe()"
   ]
  },
  {
   "cell_type": "markdown",
   "metadata": {},
   "source": [
    "#### Analysis of commit length for the Notebook (SE) split:"
   ]
  },
  {
   "cell_type": "markdown",
   "metadata": {},
   "source": [
    "'Count' is the number of repositories urls in the given split. Metrics for the commit message length per repository for the Notebook data split for Software Engineer purposes:"
   ]
  },
  {
   "cell_type": "code",
   "execution_count": 32,
   "metadata": {
    "ExecuteTime": {
     "end_time": "2024-07-18T17:35:29.946876Z",
     "start_time": "2024-07-18T17:35:29.653179Z"
    }
   },
   "outputs": [
    {
     "name": "stdout",
     "output_type": "stream",
     "text": [
      "count    334269.000000\n",
      "mean         90.256309\n",
      "std        1597.622133\n",
      "min           0.000000\n",
      "25%          21.000000\n",
      "50%          39.000000\n",
      "75%          74.000000\n",
      "max      557315.000000\n",
      "Name: commit_length, dtype: float64\n"
     ]
    }
   ],
   "source": [
    "commit_length_SE = get_commit_msg_length(commits_df_SE, \"Notebook (SE)\")"
   ]
  },
  {
   "cell_type": "markdown",
   "metadata": {},
   "source": [
    "#### Analysis of commit length for the Notebook (Edu) split:"
   ]
  },
  {
   "cell_type": "markdown",
   "metadata": {},
   "source": [
    "'Count' is the number of repositories urls in the given split. Metrics for the commit message length per repository for the Notebook data split for educational purposes:"
   ]
  },
  {
   "cell_type": "code",
   "execution_count": 33,
   "metadata": {
    "ExecuteTime": {
     "end_time": "2024-07-18T17:35:30.103401Z",
     "start_time": "2024-07-18T17:35:29.948880Z"
    }
   },
   "outputs": [
    {
     "name": "stdout",
     "output_type": "stream",
     "text": [
      "count    253112.000000\n",
      "mean         48.529821\n",
      "std         362.668908\n",
      "min           0.000000\n",
      "25%          15.000000\n",
      "50%          23.000000\n",
      "75%          54.000000\n",
      "max      142013.000000\n",
      "Name: commit_length, dtype: float64\n"
     ]
    }
   ],
   "source": [
    "commit_length_non_SE = get_commit_msg_length(commits_df_non_SE, \"Notebook (Edu)\")"
   ]
  },
  {
   "cell_type": "markdown",
   "metadata": {},
   "source": [
    "#### Analysis of commit length for the Python (SE) split:"
   ]
  },
  {
   "cell_type": "markdown",
   "metadata": {},
   "source": [
    "'Count' is the number of repositories urls in the given split. Metrics for the commit message length per repository for the Python data split for Software Engineer purposes:"
   ]
  },
  {
   "cell_type": "code",
   "execution_count": 34,
   "metadata": {
    "ExecuteTime": {
     "end_time": "2024-07-18T17:35:30.899093Z",
     "start_time": "2024-07-18T17:35:30.105400Z"
    }
   },
   "outputs": [
    {
     "name": "stdout",
     "output_type": "stream",
     "text": [
      "count    844771.000000\n",
      "mean         97.321421\n",
      "std         579.917800\n",
      "min           0.000000\n",
      "25%          27.000000\n",
      "50%          50.000000\n",
      "75%         102.000000\n",
      "max      275374.000000\n",
      "Name: commit_length, dtype: float64\n"
     ]
    }
   ],
   "source": [
    "commit_length_SE_py = get_commit_msg_length(commits_df_SE_py, \"Python (SE)\")"
   ]
  },
  {
   "cell_type": "markdown",
   "metadata": {},
   "source": [
    "#### Analysis of commit length for the Python (Edu) split:"
   ]
  },
  {
   "cell_type": "markdown",
   "metadata": {},
   "source": [
    "'Count' is the number of repositories urls in the given split. Metrics for the commit message length per repository for the Python data split for educational purposes:"
   ]
  },
  {
   "cell_type": "code",
   "execution_count": 35,
   "metadata": {
    "ExecuteTime": {
     "end_time": "2024-07-18T17:35:30.931092Z",
     "start_time": "2024-07-18T17:35:30.901093Z"
    }
   },
   "outputs": [
    {
     "name": "stdout",
     "output_type": "stream",
     "text": [
      "count    39879.000000\n",
      "mean        64.414905\n",
      "std        242.526870\n",
      "min          0.000000\n",
      "25%         18.000000\n",
      "50%         37.000000\n",
      "75%         57.000000\n",
      "max      15237.000000\n",
      "Name: commit_length, dtype: float64\n"
     ]
    }
   ],
   "source": [
    "commit_length_non_SE_py = get_commit_msg_length(commits_df_non_SE_py, \"Python (Edu)\")"
   ]
  },
  {
   "cell_type": "markdown",
   "metadata": {},
   "source": [
    "Concatenating the dataframes into a single one, for plotting purposes:"
   ]
  },
  {
   "cell_type": "code",
   "execution_count": 36,
   "metadata": {
    "ExecuteTime": {
     "end_time": "2024-07-18T17:35:30.993093Z",
     "start_time": "2024-07-18T17:35:30.932093Z"
    }
   },
   "outputs": [],
   "source": [
    "all_commit_length = pd.concat([commit_length_SE,\n",
    "                               commit_length_non_SE,\n",
    "                               commit_length_SE_py,\n",
    "                               commit_length_non_SE_py])"
   ]
  },
  {
   "cell_type": "markdown",
   "metadata": {},
   "source": [
    "### Getting the entropy of commit messages:"
   ]
  },
  {
   "cell_type": "markdown",
   "metadata": {},
   "source": [
    "'Count' is the number of repositories urls in the given split. Metrics for the commit message entropy per repository for the Notebook data split for Software Engineer purposes:"
   ]
  },
  {
   "cell_type": "code",
   "execution_count": 37,
   "metadata": {
    "ExecuteTime": {
     "end_time": "2024-07-18T17:35:36.721119Z",
     "start_time": "2024-07-18T17:35:34.152272Z"
    }
   },
   "outputs": [
    {
     "name": "stdout",
     "output_type": "stream",
     "text": [
      "count    334269.000000\n",
      "mean          4.095676\n",
      "std           0.554617\n",
      "min           0.000000\n",
      "25%           3.750000\n",
      "50%           4.115181\n",
      "75%           4.506336\n",
      "max           6.640818\n",
      "Name: commit_msg_entropy, dtype: float64\n"
     ]
    }
   ],
   "source": [
    "entropy_SE = entropy_all_commits(commits_df_SE, 'Notebook (SE)')"
   ]
  },
  {
   "cell_type": "markdown",
   "metadata": {},
   "source": [
    "'Count' is the number of repositories urls in the given split. Metrics for the commit message entropy per repository for the Notebook data split for educational purposes:"
   ]
  },
  {
   "cell_type": "code",
   "execution_count": 38,
   "metadata": {
    "ExecuteTime": {
     "end_time": "2024-07-18T17:35:38.197723Z",
     "start_time": "2024-07-18T17:35:36.723121Z"
    }
   },
   "outputs": [
    {
     "name": "stdout",
     "output_type": "stream",
     "text": [
      "count    253112.000000\n",
      "mean          3.899230\n",
      "std           0.577750\n",
      "min          -0.000000\n",
      "25%           3.572469\n",
      "50%           3.845351\n",
      "75%           4.329486\n",
      "max           6.424693\n",
      "Name: commit_msg_entropy, dtype: float64\n"
     ]
    }
   ],
   "source": [
    "entropy_non_SE = entropy_all_commits(commits_df_non_SE, 'Notebook (Edu)')"
   ]
  },
  {
   "cell_type": "markdown",
   "metadata": {},
   "source": [
    "'Count' is the number of repositories urls in the given split. Metrics for the commit message entropy per repository for the Python data split for Software Engineer purposes:"
   ]
  },
  {
   "cell_type": "code",
   "execution_count": 39,
   "metadata": {
    "ExecuteTime": {
     "end_time": "2024-07-18T17:35:45.046669Z",
     "start_time": "2024-07-18T17:35:38.198723Z"
    }
   },
   "outputs": [
    {
     "name": "stdout",
     "output_type": "stream",
     "text": [
      "count    844771.000000\n",
      "mean          4.226871\n",
      "std           0.519938\n",
      "min          -0.000000\n",
      "25%           3.919563\n",
      "50%           4.248060\n",
      "75%           4.600101\n",
      "max           7.005957\n",
      "Name: commit_msg_entropy, dtype: float64\n"
     ]
    }
   ],
   "source": [
    "entropy_SE_py = entropy_all_commits(commits_df_SE_py, 'Python (SE)')"
   ]
  },
  {
   "cell_type": "markdown",
   "metadata": {},
   "source": [
    "'Count' is the number of repositories urls in the given split. Metrics for the commit message entropy per repository for the Python data split for educational purposes:"
   ]
  },
  {
   "cell_type": "code",
   "execution_count": 40,
   "metadata": {
    "ExecuteTime": {
     "end_time": "2024-07-18T17:35:45.331788Z",
     "start_time": "2024-07-18T17:35:45.047668Z"
    }
   },
   "outputs": [
    {
     "name": "stdout",
     "output_type": "stream",
     "text": [
      "count    39879.000000\n",
      "mean         4.101636\n",
      "std          0.606329\n",
      "min         -0.000000\n",
      "25%          3.750000\n",
      "50%          4.118580\n",
      "75%          4.545455\n",
      "max          5.898225\n",
      "Name: commit_msg_entropy, dtype: float64\n"
     ]
    }
   ],
   "source": [
    "entropy_non_SE_py = entropy_all_commits(commits_df_non_SE_py, 'Python (Edu)')"
   ]
  },
  {
   "cell_type": "markdown",
   "metadata": {},
   "source": [
    "Concatenating all dataframes into a single one, for plotting purposes:"
   ]
  },
  {
   "cell_type": "code",
   "execution_count": 41,
   "metadata": {
    "ExecuteTime": {
     "end_time": "2024-07-18T17:35:45.409839Z",
     "start_time": "2024-07-18T17:35:45.332788Z"
    }
   },
   "outputs": [],
   "source": [
    "all_entropy_msgs = pd.concat([entropy_SE,\n",
    "                              entropy_non_SE,\n",
    "                              entropy_SE_py,\n",
    "                              entropy_non_SE_py])"
   ]
  },
  {
   "cell_type": "markdown",
   "metadata": {},
   "source": [
    "Plotting the commists and authors data, for all splits:"
   ]
  },
  {
   "cell_type": "code",
   "execution_count": 50,
   "metadata": {
    "ExecuteTime": {
     "end_time": "2024-07-18T17:35:50.449048Z",
     "start_time": "2024-07-18T17:35:46.909373Z"
    }
   },
   "outputs": [
    {
     "name": "stderr",
     "output_type": "stream",
     "text": [
      "/tmp/ipykernel_19242/3754073330.py:13: FutureWarning: \n",
      "\n",
      "Passing `palette` without assigning `hue` is deprecated and will be removed in v0.14.0. Assign the `y` variable to `hue` and set `legend=False` for the same effect.\n",
      "\n",
      "  sns.boxplot(data=all_commits_df, x=\"commit_count\", y=\"split\",\n",
      "/tmp/ipykernel_19242/3754073330.py:26: FutureWarning: \n",
      "\n",
      "Passing `palette` without assigning `hue` is deprecated and will be removed in v0.14.0. Assign the `y` variable to `hue` and set `legend=False` for the same effect.\n",
      "\n",
      "  sns.boxplot(data=all_time_avg_diff, x=\"days_diff_avg\", y=\"split\",\n",
      "/tmp/ipykernel_19242/3754073330.py:39: FutureWarning: \n",
      "\n",
      "Passing `palette` without assigning `hue` is deprecated and will be removed in v0.14.0. Assign the `y` variable to `hue` and set `legend=False` for the same effect.\n",
      "\n",
      "  sns.boxplot(data=authors_all_splits, x=\"unique_authors\", y=\"split\",\n",
      "/tmp/ipykernel_19242/3754073330.py:52: FutureWarning: \n",
      "\n",
      "Passing `palette` without assigning `hue` is deprecated and will be removed in v0.14.0. Assign the `y` variable to `hue` and set `legend=False` for the same effect.\n",
      "\n",
      "  sns.boxplot(data=all_commit_length, x=\"commit_length\", y=\"split\",\n",
      "/tmp/ipykernel_19242/3754073330.py:63: FutureWarning: \n",
      "\n",
      "Passing `palette` without assigning `hue` is deprecated and will be removed in v0.14.0. Assign the `y` variable to `hue` and set `legend=False` for the same effect.\n",
      "\n",
      "  sns.boxplot(data=all_entropy_msgs, x=\"commit_msg_entropy\", y=\"split\",\n"
     ]
    },
    {
     "data": {
      "image/png": "[encoded data removed]",
      "text/plain": [
       "<Figure size 500x900 with 5 Axes>"
      ]
     },
     "metadata": {},
     "output_type": "display_data"
    }
   ],
   "source": [
    "custom_palette = {\n",
    "    'Python (SE)': '#175b96',  \n",
    "    'Python (Edu)': '#2293f5',  \n",
    "    'Notebook (SE)': '#069178',  \n",
    "    'Notebook (Edu)': '#07f0c5',  \n",
    "}\n",
    "plt.rcParams['font.family'] = 'serif'\n",
    "\n",
    "fig, axs = plt.subplots(nrows=5, ncols=1, figsize=(5, 9))\n",
    "\n",
    "# plot number of Commits\n",
    "sns.set_style(\"darkgrid\")\n",
    "sns.boxplot(data=all_commits_df, x=\"commit_count\", y=\"split\", \n",
    "            palette=custom_palette,whis=(20,80), showfliers = False, width=0.5,\n",
    "            ax=axs[0])\n",
    "\n",
    "axs[0].xaxis.set_major_formatter(FuncFormatter(lambda x, _: '{:.0f}'.format(x)))\n",
    "axs[0].set_xlim(left=0)\n",
    "axs[0].set_title('Number of Total Commits per Repository by Split', fontsize=10)\n",
    "axs[0].set_xlabel('Number of Commits per Repository', fontsize = 8)\n",
    "axs[0].set_ylabel('Data Split', fontsize=10)\n",
    "axs[0].tick_params(axis='x', labelsize=8)\n",
    "\n",
    "# plot average commit frequency (in days)\n",
    "sns.set_style(\"darkgrid\")\n",
    "sns.boxplot(data=all_time_avg_diff, x=\"days_diff_avg\", y=\"split\", \n",
    "            palette=custom_palette, whis=(10,90), showfliers = False, width=0.5,\n",
    "            ax=axs[1])\n",
    "\n",
    "axs[1].xaxis.set_major_formatter(FuncFormatter(lambda x, _: '{:.0f}'.format(x)))\n",
    "axs[1].set_xlim(left=0)\n",
    "axs[1].set_title('Commit frequency Per Repository by Split (in days)', fontsize=10)\n",
    "axs[1].set_xlabel('Commit frequency (in days) per Repository',fontsize = 8)\n",
    "axs[1].set_ylabel('Data Split', fontsize = 10)\n",
    "axs[1].tick_params(axis='x', labelsize=8)\n",
    "\n",
    "# plot number of Unique Authors:\n",
    "sns.set_style(\"darkgrid\")\n",
    "sns.boxplot(data=authors_all_splits, x=\"unique_authors\", y=\"split\", \n",
    "            palette=custom_palette, whis=(10,90), showfliers = False, width=0.5,\n",
    "            ax=axs[2])\n",
    "\n",
    "axs[2].xaxis.set_major_formatter(FuncFormatter(lambda x, _: '{:.0f}'.format(x)))\n",
    "axs[2].set_xlim(left=0)\n",
    "axs[2].set_xlabel('Number of Unique Authors per Repository',fontsize = 8)\n",
    "axs[2].set_ylabel('Data Split', fontsize = 10)\n",
    "axs[2].set_title('Number of Unique Authors per Repository by Split', fontsize = 10)\n",
    "axs[2].tick_params(axis='x', labelsize=8)\n",
    "\n",
    "# plot commit Length\n",
    "sns.set_style(\"darkgrid\")\n",
    "sns.boxplot(data=all_commit_length, x=\"commit_length\", y=\"split\", \n",
    "            palette=custom_palette, whis=(10,90), showfliers = False, width=0.5,\n",
    "            ax=axs[3])\n",
    "axs[3].set_title('Commit Message Length (in characters) by Split', fontsize=10)\n",
    "axs[3].set_xlim(left=0)\n",
    "axs[3].set_xlabel('Commit Message Length (in characters)', fontsize = 8)\n",
    "axs[3].set_ylabel('Data Split',fontsize = 10)\n",
    "axs[3].tick_params(axis='x', labelsize=8)\n",
    "\n",
    "# plot entropy\n",
    "sns.set_style(\"darkgrid\")\n",
    "sns.boxplot(data=all_entropy_msgs, x=\"commit_msg_entropy\", y=\"split\", \n",
    "            palette=custom_palette, whis=(10,90), showfliers = False, width=0.5,\n",
    "            ax=axs[4])\n",
    "axs[4].set_title('Commit Message Entropy by Split', fontsize=10)\n",
    "axs[4].set_xlabel('Commit Message Entropy', fontsize = 8)\n",
    "axs[4].set_ylabel('Data Split',fontsize = 10)\n",
    "axs[4].tick_params(axis='x', labelsize=8)\n",
    "\n",
    "plt.subplots_adjust(hspace=0.8)\n",
    "plt.savefig(\"commits_analyis.pdf\", format='pdf',bbox_inches='tight')\n",
    "plt.show()\n"
   ]
  },
  {
   "cell_type": "markdown",
   "metadata": {},
   "source": [
    "## Statistical Tests (between Notebooks and Python)"
   ]
  },
  {
   "cell_type": "code",
   "execution_count": 43,
   "metadata": {
    "ExecuteTime": {
     "end_time": "2024-07-18T17:36:08.103070Z",
     "start_time": "2024-07-18T17:36:07.915598Z"
    }
   },
   "outputs": [],
   "source": [
    "all_commits_notebooks = pd.concat([num_commits_df_SE,\n",
    "                            num_commits_df_non_SE\n",
    "                            ])\n",
    "\n",
    "all_commits_python = pd.concat([num_commits_df_SE_py,\n",
    "                                num_commits_df_non_SE_py])\n",
    "\n",
    "all_time_avg_diff_notebooks = pd.concat([time_avg_diff_SE,\n",
    "                           time_avg_diff_non_SE\n",
    "                           ])\n",
    "\n",
    "all_time_avg_diff_python = pd.concat([time_avg_diff_SE_py,\n",
    "                                    time_avg_diff_non_SE_py])\n",
    "\n",
    "\n",
    "authors_notebooks = pd.concat([authors_SE,\n",
    "                                authors_non_SE,\n",
    "                            ])\n",
    "\n",
    "authors_python = pd.concat([authors_SE_py,\n",
    "                            authors_non_SE_py])\n",
    "\n",
    "commit_length_notebook = pd.concat([commit_length_SE,\n",
    "                                    commit_length_non_SE,\n",
    "                                    ])\n",
    "\n",
    "commit_length_python = pd.concat([commit_length_SE_py,\n",
    "                                    commit_length_non_SE_py])\n",
    "\n",
    "entropy_msgs_notebooks = pd.concat([entropy_SE,\n",
    "                              entropy_non_SE\n",
    "                              ])\n",
    "\n",
    "entropy_msgs_python = pd.concat([entropy_SE_py,\n",
    "                              entropy_non_SE_py])\n",
    "\n",
    "                           "
   ]
  },
  {
   "cell_type": "markdown",
   "metadata": {},
   "source": [
    "### Statistical Mann-Whitney test and Cohen D coefficient for commit count (Notebook x Python comparison to check statistical significance) "
   ]
  },
  {
   "cell_type": "code",
   "execution_count": 44,
   "metadata": {
    "ExecuteTime": {
     "end_time": "2024-07-18T17:36:08.119094Z",
     "start_time": "2024-07-18T17:36:08.104076Z"
    }
   },
   "outputs": [
    {
     "name": "stdout",
     "output_type": "stream",
     "text": [
      "Mann-Whitney U statistic: 278582.0\n",
      "P-value: 0.0000027326\n",
      "Absolute value of cohen d: 0.1444880827195511\n",
      "Very small difference between Notebooks vs Python (cohen D <= 0.2)\n"
     ]
    }
   ],
   "source": [
    "get_mann_test_and_cohen_d(all_commits_notebooks['commit_count'], all_commits_python['commit_count'])"
   ]
  },
  {
   "cell_type": "markdown",
   "metadata": {},
   "source": [
    "### Statistical Mann-Whitney test and Cohen D coefficient for the average difference, in days, between commits (Notebook x Python comparison to check statistical significance) "
   ]
  },
  {
   "cell_type": "code",
   "execution_count": 46,
   "metadata": {
    "ExecuteTime": {
     "end_time": "2024-07-18T17:36:08.389076Z",
     "start_time": "2024-07-18T17:36:08.374078Z"
    }
   },
   "outputs": [
    {
     "name": "stdout",
     "output_type": "stream",
     "text": [
      "Mann-Whitney U statistic: 318466.5\n",
      "P-value: 0.6815378329\n",
      "Absolute value of cohen d: 0.008062749941628018\n",
      "Very small difference between Notebooks vs Python (cohen D <= 0.2)\n"
     ]
    }
   ],
   "source": [
    "get_mann_test_and_cohen_d(all_time_avg_diff_notebooks['days_diff_avg'], all_time_avg_diff_python['days_diff_avg'])"
   ]
  },
  {
   "cell_type": "markdown",
   "metadata": {},
   "source": [
    "### Statistical Mann-Whitney test and Cohen D coefficient for unique authors (Notebook x Python comparison to check statistical significance) "
   ]
  },
  {
   "cell_type": "code",
   "execution_count": 47,
   "metadata": {
    "ExecuteTime": {
     "end_time": "2024-07-18T17:36:08.405076Z",
     "start_time": "2024-07-18T17:36:08.391077Z"
    }
   },
   "outputs": [
    {
     "name": "stdout",
     "output_type": "stream",
     "text": [
      "Mann-Whitney U statistic: 262574.5\n",
      "P-value: 0.0000000010\n",
      "Absolute value of cohen d: 0.1274255850513676\n",
      "Very small difference between Notebooks vs Python (cohen D <= 0.2)\n"
     ]
    }
   ],
   "source": [
    "get_mann_test_and_cohen_d(authors_notebooks['unique_authors'], authors_python['unique_authors'])\n"
   ]
  },
  {
   "cell_type": "markdown",
   "metadata": {},
   "source": [
    "### Statistical Mann-Whitney test and Cohen D coefficient for commit messages length (Notebook x Python comparison to check statistical significance) "
   ]
  },
  {
   "cell_type": "code",
   "execution_count": 48,
   "metadata": {
    "ExecuteTime": {
     "end_time": "2024-07-18T17:36:08.563076Z",
     "start_time": "2024-07-18T17:36:08.406077Z"
    }
   },
   "outputs": [
    {
     "name": "stdout",
     "output_type": "stream",
     "text": [
      "Mann-Whitney U statistic: 194741360920.5\n",
      "P-value: 0.0000000000\n",
      "Absolute value of cohen d: 0.02639296359896537\n",
      "Very small difference between Notebooks vs Python (cohen D <= 0.2)\n"
     ]
    }
   ],
   "source": [
    "get_mann_test_and_cohen_d(commit_length_notebook['commit_length'], commit_length_python['commit_length'])\n"
   ]
  },
  {
   "cell_type": "markdown",
   "metadata": {},
   "source": [
    "### Statistical Mann-Whitney test and Cohen D coefficient for commit message entropy (Notebook x Python comparison to check statistical significance) "
   ]
  },
  {
   "cell_type": "code",
   "execution_count": 49,
   "metadata": {
    "ExecuteTime": {
     "end_time": "2024-07-18T17:36:08.767078Z",
     "start_time": "2024-07-18T17:36:08.565077Z"
    }
   },
   "outputs": [
    {
     "name": "stdout",
     "output_type": "stream",
     "text": [
      "Mann-Whitney U statistic: 201283903550.5\n",
      "P-value: 0.0000000000\n",
      "Absolute value of cohen d: 0.386013907890955\n",
      "Small difference between Notebooks vs Python ( 0.2 > cohen D <= 0.5)\n"
     ]
    }
   ],
   "source": [
    "get_mann_test_and_cohen_d(entropy_msgs_notebooks['commit_msg_entropy'], entropy_msgs_python['commit_msg_entropy'])\n"
   ]
  }
 ],
 "metadata": {
  "kernelspec": {
   "display_name": "env_bug",
   "language": "python",
   "name": "python3"
  },
  "language_info": {
   "codemirror_mode": {
    "name": "ipython",
    "version": 3
   },
   "file_extension": ".py",
   "mimetype": "text/x-python",
   "name": "python",
   "nbconvert_exporter": "python",
   "pygments_lexer": "ipython3",
   "version": "3.10.14"
  }
 },
 "nbformat": 4,
 "nbformat_minor": 2
}
