{
 "cells": [
  {
   "cell_type": "code",
   "execution_count": 1,
   "metadata": {},
   "outputs": [],
   "source": [
    "import pandas as pd"
   ]
  },
  {
   "cell_type": "markdown",
   "metadata": {},
   "source": [
    "## Language Analysis of active SE purposes repositories:"
   ]
  },
  {
   "cell_type": "code",
   "execution_count": 2,
   "metadata": {},
   "outputs": [
    {
     "name": "stdout",
     "output_type": "stream",
     "text": [
      "Total number of notebooks belonging to active SE purposes repositories: 8631\n"
     ]
    }
   ],
   "source": [
    "df_SE = pd.read_csv(\"data_only_notebooks/language_info_active_SE_purpose_repos.csv\")\n",
    "print(f\"Total number of notebooks belonging to active SE purposes repositories: {len(df_SE)}\")"
   ]
  },
  {
   "cell_type": "markdown",
   "metadata": {},
   "source": [
    "Number of distinct languages of notebooks in the SE split:"
   ]
  },
  {
   "cell_type": "code",
   "execution_count": 3,
   "metadata": {},
   "outputs": [
    {
     "data": {
      "text/plain": [
       "39"
      ]
     },
     "execution_count": 3,
     "metadata": {},
     "output_type": "execute_result"
    }
   ],
   "source": [
    "df_SE['language'].nunique()"
   ]
  },
  {
   "cell_type": "code",
   "execution_count": 4,
   "metadata": {},
   "outputs": [
    {
     "name": "stdout",
     "output_type": "stream",
     "text": [
      "python 5809\n",
      "\n",
      "\n",
      "python3 1754\n",
      "\n",
      "\n",
      "Python 655\n",
      "\n",
      "\n",
      "Groovy 98\n",
      "\n",
      "\n",
      "markdown 41\n",
      "\n",
      "\n",
      "unknown 33\n",
      "\n",
      "\n",
      "Scala 31\n",
      "\n",
      "\n",
      "julia 30\n",
      "\n",
      "\n",
      "python2 25\n",
      "\n",
      "\n",
      "powershell 24\n",
      "\n",
      "\n",
      "sql 18\n",
      "\n",
      "\n",
      "Prolog 14\n",
      "\n",
      "\n",
      "qsharp 12\n",
      "\n",
      "\n",
      "R 10\n",
      "\n",
      "\n",
      "SQL 9\n",
      "\n",
      "\n",
      "Batchfile 8\n",
      "\n",
      "\n",
      "pyspark3kernel 8\n",
      "\n",
      "\n",
      "Java 7\n",
      "\n",
      "\n",
      "Kotlin 7\n",
      "\n",
      "\n",
      "Clojure 7\n",
      "\n",
      "\n",
      "Java11 5\n",
      "\n",
      "\n",
      "Julia 4\n",
      "\n",
      "\n",
      "PowerShell 3\n",
      "\n",
      "\n",
      "scala 2\n",
      "\n",
      "\n",
      "Dockerfile 2\n",
      "\n",
      "\n",
      "pyspark 2\n",
      "\n",
      "\n",
      "c 1\n",
      "\n",
      "\n",
      "dyalog-kernel 1\n",
      "\n",
      "\n",
      "aa 1\n",
      "\n",
      "\n",
      "lua 1\n",
      "\n",
      "\n",
      "conda-env-DeepPurpose-py 1\n",
      "\n",
      "\n",
      "Matlab 1\n",
      "\n",
      "\n",
      "Markdown 1\n",
      "\n",
      "\n",
      "julia-1.7 1\n",
      "\n",
      "\n",
      "pycharm-7906112d 1\n",
      "\n",
      "\n",
      "Lua 1\n",
      "\n",
      "\n",
      "Lisp 1\n",
      "\n",
      "\n",
      "JavaScript 1\n",
      "\n",
      "\n",
      "nlpaug_dev 1\n",
      "\n",
      "\n"
     ]
    }
   ],
   "source": [
    "for key,item in df_SE['language'].value_counts().items():\n",
    "    print(key, item)\n",
    "    print(\"\\n\")"
   ]
  },
  {
   "cell_type": "code",
   "execution_count": 10,
   "metadata": {},
   "outputs": [],
   "source": [
    "with open(\"language_only_nbs_SE_repos.txt\", 'w', encoding='utf-8') as f:\n",
    "    for key, value in (df_SE['language'].value_counts()).items():\n",
    "        print(key, value, file=f)"
   ]
  },
  {
   "cell_type": "markdown",
   "metadata": {},
   "source": [
    "## Jupyter notebook count per language in the SE purpose split:\n",
    "\n",
    "Python: 8243 (python 5809 + python3 1754 + Python 655 + python2 25)\n",
    "\n",
    "Groovy 98\n",
    "\n",
    "markdown 41\n",
    "\n",
    "Julia: 34 (Julia 4 + julia 30)\n",
    "\n",
    "unknown 33\n",
    "\n",
    "Scala 33 (Scala 31 + scala 2\n",
    "\n",
    "powershell 24\n",
    "\n",
    "sql 27 (18 +9)\n",
    "\n",
    "Prolog 14\n",
    "\n",
    "qsharp 12\n",
    "\n",
    "Java: 12 (java 7 + Java11 5)\n",
    "\n",
    "R 10\n",
    "\n",
    "Batchfile 8\n",
    "\n",
    "Pyspark: 10 (pyspark3kernel 8 + pyspark 2)\n",
    "\n",
    "Kotlin 7\n",
    "\n",
    "Clojure 7"
   ]
  },
  {
   "cell_type": "markdown",
   "metadata": {},
   "source": [
    "## Language Analysis of active non SE purposes repositories:"
   ]
  },
  {
   "cell_type": "code",
   "execution_count": 5,
   "metadata": {},
   "outputs": [
    {
     "name": "stdout",
     "output_type": "stream",
     "text": [
      "Total number of notebooks belonging to active non SE purposes repositories: 27837\n"
     ]
    }
   ],
   "source": [
    "df_non_SE = pd.read_csv(\"data_only_notebooks/language_info_active_non_SE_purpose_repos.csv\")\n",
    "print(f\"Total number of notebooks belonging to active non SE purposes repositories: {len(df_non_SE)}\")"
   ]
  },
  {
   "cell_type": "markdown",
   "metadata": {},
   "source": [
    "Number of distinct languages of notebooks in the non SE split:"
   ]
  },
  {
   "cell_type": "code",
   "execution_count": 6,
   "metadata": {},
   "outputs": [
    {
     "data": {
      "text/plain": [
       "40"
      ]
     },
     "execution_count": 6,
     "metadata": {},
     "output_type": "execute_result"
    }
   ],
   "source": [
    "df_non_SE['language'].nunique()"
   ]
  },
  {
   "cell_type": "code",
   "execution_count": 7,
   "metadata": {},
   "outputs": [
    {
     "name": "stdout",
     "output_type": "stream",
     "text": [
      "python 23737\n",
      "\n",
      "\n",
      "python3 1852\n",
      "\n",
      "\n",
      "Python 1003\n",
      "\n",
      "\n",
      "unknown 340\n",
      "\n",
      "\n",
      "julia 279\n",
      "\n",
      "\n",
      "matlab 123\n",
      "\n",
      "\n",
      "R 101\n",
      "\n",
      "\n",
      "markdown 96\n",
      "\n",
      "\n",
      "qsharp 61\n",
      "\n",
      "\n",
      "python2 38\n",
      "\n",
      "\n",
      "Java 34\n",
      "\n",
      "\n",
      "swift 27\n",
      "\n",
      "\n",
      "pyspark 18\n",
      "\n",
      "\n",
      "Lua 18\n",
      "\n",
      "\n",
      "scala 16\n",
      "\n",
      "\n",
      "Julia 16\n",
      "\n",
      "\n",
      "INI 12\n",
      "\n",
      "\n",
      "Ruby 11\n",
      "\n",
      "\n",
      "Shell 7\n",
      "\n",
      "\n",
      "Kotlin 6\n",
      "\n",
      "\n",
      "Markdown 6\n",
      "\n",
      "\n",
      "Batchfile 6\n",
      "\n",
      "\n",
      "scala211 4\n",
      "\n",
      "\n",
      "conda_python3 3\n",
      "\n",
      "\n",
      "Matlab 3\n",
      "\n",
      "\n",
      "JavaScript 3\n",
      "\n",
      "\n",
      "ir 2\n",
      "\n",
      "\n",
      "bash 2\n",
      "\n",
      "\n",
      "conda_pytorch_p36 2\n",
      "\n",
      "\n",
      "Rust 1\n",
      "\n",
      "\n",
      "haskell 1\n",
      "\n",
      "\n",
      "TeX 1\n",
      "\n",
      "\n",
      "SQL 1\n",
      "\n",
      "\n",
      "XML 1\n",
      "\n",
      "\n",
      "Haskell 1\n",
      "\n",
      "\n",
      "sql 1\n",
      "\n",
      "\n",
      "octave 1\n",
      "\n",
      "\n",
      "c++ 1\n",
      "\n",
      "\n",
      "CoffeeScript 1\n",
      "\n",
      "\n",
      "lua 1\n",
      "\n",
      "\n"
     ]
    }
   ],
   "source": [
    "for key,item in df_non_SE['language'].value_counts().items():\n",
    "    print(key, item)\n",
    "    print(\"\\n\")"
   ]
  },
  {
   "cell_type": "code",
   "execution_count": 9,
   "metadata": {},
   "outputs": [],
   "source": [
    "with open(\"language_only_nbs_non_SE_repos.txt\", 'w', encoding='utf-8') as f:\n",
    "    for key, value in (df_non_SE['language'].value_counts()).items():\n",
    "        print(key, value, file=f)"
   ]
  },
  {
   "cell_type": "markdown",
   "metadata": {},
   "source": [
    "## Jupyter notebook count per language in the non SE purpose split:\n",
    "\n",
    "Python: 26,633 (python 23737 + python3 1852 + Python 1003 +python2 38 + conda_python3 3)\n",
    "\n",
    "Misc: 340 (unknown 340)\n",
    "\n",
    "Julia: 295 (julia 279 + Julia 16)\n",
    "\n",
    "Matlab: 126 (matlab 123 + Matlab 3)\n",
    "\n",
    "Markdown: 102 (markdown 96 + Markdown 6)\n",
    "\n",
    "R: 101\n",
    "\n",
    "Qsharp: 61\n",
    "\n",
    "Java: 34\n",
    "\n",
    "Swift: 27\n",
    "\n",
    "Scala: 20 (scala 16 + scala211 4)\n",
    "\n",
    "Pyspark: 18\n",
    "\n",
    "Lua: 18\n",
    "\n",
    "INI: 12\n",
    "\n",
    "Ruby: 11\n",
    "\n",
    "Shell: 7\n",
    "\n",
    "Kotlin: 6\n",
    "\n",
    "Batchfile: 6\n"
   ]
  },
  {
   "cell_type": "markdown",
   "metadata": {},
   "source": []
  }
 ],
 "metadata": {
  "kernelspec": {
   "display_name": "env_bug",
   "language": "python",
   "name": "python3"
  },
  "language_info": {
   "codemirror_mode": {
    "name": "ipython",
    "version": 3
   },
   "file_extension": ".py",
   "mimetype": "text/x-python",
   "name": "python",
   "nbconvert_exporter": "python",
   "pygments_lexer": "ipython3",
   "version": "3.10.9"
  }
 },
 "nbformat": 4,
 "nbformat_minor": 2
}
