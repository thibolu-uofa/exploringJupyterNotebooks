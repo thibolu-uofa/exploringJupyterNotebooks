{
 "cells": [
  {
   "cell_type": "markdown",
   "metadata": {},
   "source": [
    "# Complexity Analysis\n",
    "\n",
    "This notebook presents the following information, for all dataset splits - Notebooks datasets for both Software Enginnering purposes (Notebooks SE) and educational purposes (Notebooks Edu.), and Python datasets for Software Enginnering purposes (Python SE) and educational  purposes (Python Edu.), and for the Kaggle dataset:\n",
    "\n",
    "- average cyclomatic complexity: computed for each file belonging to a given dataset split\n",
    "- number of lines of code (loc): computed for each file belonging to a given dataset split\n",
    "- number of code lines: computed for each file belonging to a given dataset split\n",
    "- number of natural language lines: computed for each file belonging to a given dataset split. It counts the number of comment lines, and when analyzing notebooks, it also includes the number of lines in markdown cells\n",
    "- ratio code to natural language: ratio, in interval 0 to 1, with the proportion of lines of code divided by number of lines of natural language. \n",
    "\n",
    "$ Ratio = $ total_lines_of_code  / (total_lines_of_code + markdown_lines + comment_lines) \n",
    "\n",
    "- statistical tests (Mann-Whitney test with effect size measure of Cohen D): to compare significant differences between the dataset splits of Python dataset and Notebook dataset.\n",
    "\n",
    "The csv data contains one file per row."
   ]
  },
  {
   "cell_type": "code",
   "execution_count": 1,
   "metadata": {},
   "outputs": [],
   "source": [
    "import pandas as pd\n",
    "import os\n",
    "from pathlib import Path\n",
    "from scipy.stats import pearsonr\n",
    "from scipy.stats import ttest_ind\n",
    "import seaborn as sns\n",
    "import matplotlib.pyplot as plt\n",
    "from matplotlib.ticker import ScalarFormatter, FuncFormatter, LogFormatter, MaxNLocator, MultipleLocator\n",
    "import pingouin as pg\n",
    "from scipy.stats import mannwhitneyu\n",
    "import numpy as np\n"
   ]
  },
  {
   "cell_type": "markdown",
   "metadata": {},
   "source": [
    "## Auxiliar Functions"
   ]
  },
  {
   "cell_type": "code",
   "execution_count": 2,
   "metadata": {},
   "outputs": [],
   "source": [
    "def get_dataframe_by_split(split: str, keep_type: str):\n",
    "    \"\"\"Reads the generated data for complexity analysis and filters only python and Jupyter\n",
    "    notebook files to be analyzed. This function also removes files that  have errors\n",
    "    during the parsing.\n",
    "    If the data belongs to a Notebook data split, only .ipynb files are kept for analysis. \n",
    "    If the data belongs to a Python data split, only .py files are kept for analysis\"\"\"\n",
    "    \n",
    "    csv_complexity = Path(Path.cwd().parent, \"complexity\", \"data_all_repos\", (split + \".csv\"))\n",
    "    df_complex = pd.read_csv(csv_complexity)\n",
    "    zero_complexity = df_complex.loc[df_complex['average_cyclomatic_complexity'] == 0]\n",
    "    # removing files that had Lizard errors (with 0 cyclomatic complexity)\n",
    "    df_complex_processed = df_complex.loc[df_complex['average_cyclomatic_complexity'] != 0]\n",
    "    # including only files that could have their classes counted succesfully:\n",
    "    df_complex_processed = df_complex_processed.loc[df_complex['success_counting_classes'] == True]\n",
    "    print(f\"Percentage of files with successful class count: {len(df_complex_processed)/len(df_complex)}\")\n",
    "\n",
    "    # getting only the files that didn't have any error during complexity computation:\n",
    "    df_complex_processed = df_complex_processed.loc[df_complex_processed['errors'].isna()]\n",
    "    print(f\"Percentage of files without errors: {len(df_complex_processed)/len(df_complex)}\")\n",
    "    df_complex_processed['split'] = split\n",
    "    print(f\"Number of Jupyter notebooks and python files for the {split} split: {len(df_complex_processed)}\")\n",
    "    print(f\"Percentage of files, for all file types, with 0 average cyclomatic complexity: {len(zero_complexity)/len(df_complex)}\")\n",
    "\n",
    "    df_complex_single_type = df_complex_processed.loc[df_complex_processed['file_type'] == keep_type]\n",
    "    zero_complexity_single_type = df_complex_single_type.loc[df_complex_single_type['average_cyclomatic_complexity'] == 0]\n",
    "    print(f\"Number of {keep_type} files for the {split} split: {len(df_complex_single_type)}\")\n",
    "    print(f\"Percentage of files, for the {keep_type} file type, with 0 average cyclomatic complexity: {len(zero_complexity_single_type)/len(df_complex_single_type)}\")\n",
    "\n",
    "    return df_complex_single_type, df_complex_processed\n",
    "\n",
    "\n",
    "def ratio_code_to_natural_language(df, split):\n",
    "    \"\"\"Gets the ratio, on a range between 0 to 1, between total \n",
    "    lines of code divided by total lines of code, comment and/or markdown lines:\n",
    "        Ratio = total lines of code / (total lines of code + markdown lines + comment lines)\n",
    "    For notebooks, natural language \n",
    "    lines are defined by comments in cell codes + markdown lines.\n",
    "    For python, only comment lines counts as natural language lines,\n",
    "    since the markdown lines count is always 0.\n",
    "    \"\"\"\n",
    "    # copying the dataframe to prevent modificating the original one:\n",
    "    df = df.copy()\n",
    "    df['natural_language'] = df['num_comment_lines'] + df['markdown_lines_count']\n",
    "    df['ratio_code_natural_language'] = df['loc']/(df['natural_language'] + df['loc'])\n",
    "    print(df['ratio_code_natural_language'].describe())\n",
    "\n",
    "    df['split'] = split\n",
    "\n",
    "    return df\n",
    "\n",
    "\n",
    "def get_mann_test_and_cohen_d(df_1, df_2, column_name):\n",
    "    \"\"\"Applies Mann-Whitney hipothesis testing to 2 group sets\n",
    "    passed as input (2 dataframe columns passed as parameter).\n",
    "    Also gets Cohen D coefficient between these 2 groups,\n",
    "    that is a effect size measure if two groups have similar \n",
    "    standard deviations and are of the same size \n",
    "    \"\"\"\n",
    "    df_1 = df_1.dropna(subset=[column_name])\n",
    "    df_2 = df_2.dropna(subset=[column_name])\n",
    "\n",
    "    statistic, p_value = mannwhitneyu(df_1[column_name], df_2[column_name])\n",
    "    print(f\"Mann-Whitney U statistic: {statistic}\")\n",
    "    # printing more decimals:\n",
    "    formatted_p_value = \"{:.10f}\".format(p_value)\n",
    "    print(f\"P-value: {formatted_p_value}\")\n",
    "    \n",
    "    # returning the absolute value of cohen d:\n",
    "    cohen_d = pg.compute_effsize(df_1[column_name], df_2[column_name], eftype='cohen')\n",
    "    cohen_d = np.abs(cohen_d)\n",
    "    print(f\"Absolute value of cohen d: {cohen_d}\")\n",
    "    if cohen_d <= 0.2:\n",
    "        print(f\"Very small difference between Notebooks vs Python (cohen D <= 0.2)\")\n",
    "    if cohen_d > 0.2 and cohen_d <= 0.5:\n",
    "        print(f\"Small difference between Notebooks vs Python ( 0.2 > cohen D <= 0.5)\")\n",
    "    if cohen_d > 0.5 and cohen_d <= 0.8:\n",
    "        print(f\"Medium difference between Notebooks vs Python ( 0.5 > cohen D <= 0.8)\")\n",
    "    if cohen_d > 0.8:\n",
    "        print(f\"Big difference between Notebooks vs Python (cohen D > 0.8)\")\n"
   ]
  },
  {
   "cell_type": "markdown",
   "metadata": {},
   "source": [
    "### Analysis of the Notebook (SE) split:"
   ]
  },
  {
   "cell_type": "code",
   "execution_count": 3,
   "metadata": {},
   "outputs": [
    {
     "name": "stdout",
     "output_type": "stream",
     "text": [
      "Percentage of files with successful class count: 0.8579768878902175\n",
      "Percentage of files without errors: 0.8579768878902175\n",
      "Number of Jupyter notebooks and python files for the SE_nb split: 42765\n",
      "Percentage of files, for all file types, with 0 average cyclomatic complexity: 0.1416419227991333\n",
      "Number of notebook files for the SE_nb split: 6204\n",
      "Percentage of files, for the notebook file type, with 0 average cyclomatic complexity: 0.0\n"
     ]
    }
   ],
   "source": [
    "complexity_df_SE, complexity_df_SE_all_filetypes = get_dataframe_by_split(split=\"SE_nb\", keep_type=\"notebook\")\n"
   ]
  },
  {
   "cell_type": "markdown",
   "metadata": {},
   "source": [
    "Number of file types (.ipynb files and .py files) for the Notebook data split for Software Engineering purposes:"
   ]
  },
  {
   "cell_type": "code",
   "execution_count": 4,
   "metadata": {},
   "outputs": [
    {
     "data": {
      "text/plain": [
       "file_type\n",
       "python      36561\n",
       "notebook     6204\n",
       "Name: count, dtype: int64"
      ]
     },
     "execution_count": 4,
     "metadata": {},
     "output_type": "execute_result"
    }
   ],
   "source": [
    "complexity_df_SE_all_filetypes['file_type'].value_counts()"
   ]
  },
  {
   "cell_type": "markdown",
   "metadata": {},
   "source": [
    "Metrics for the average cyclomatic complexity of notebooks belonging to the Software Engineer purposes split (SE), using the Lizard library:"
   ]
  },
  {
   "cell_type": "markdown",
   "metadata": {},
   "source": [
    "Count, below, is the number of notebook files (.ipynb)  in the given split"
   ]
  },
  {
   "cell_type": "code",
   "execution_count": 5,
   "metadata": {},
   "outputs": [
    {
     "data": {
      "text/plain": [
       "count    6204.000000\n",
       "mean        4.933466\n",
       "std         8.367739\n",
       "min         1.000000\n",
       "25%         1.000000\n",
       "50%         2.000000\n",
       "75%         3.600000\n",
       "max        48.000000\n",
       "Name: average_cyclomatic_complexity, dtype: float64"
      ]
     },
     "execution_count": 5,
     "metadata": {},
     "output_type": "execute_result"
    }
   ],
   "source": [
    "complexity_df_SE['average_cyclomatic_complexity'].describe()"
   ]
  },
  {
   "cell_type": "markdown",
   "metadata": {},
   "source": [
    "Count, below, is the number of notebook files (.ipynb)  in the given split"
   ]
  },
  {
   "cell_type": "markdown",
   "metadata": {},
   "source": [
    "Lines of code (LOC) for the Notebook dataset split for Software Engineering purposes:"
   ]
  },
  {
   "cell_type": "code",
   "execution_count": 6,
   "metadata": {},
   "outputs": [
    {
     "data": {
      "text/plain": [
       "count    6204.000000\n",
       "mean      150.890393\n",
       "std       184.050889\n",
       "min         2.000000\n",
       "25%        49.000000\n",
       "50%       107.000000\n",
       "75%       194.000000\n",
       "max      2339.000000\n",
       "Name: loc, dtype: float64"
      ]
     },
     "execution_count": 6,
     "metadata": {},
     "output_type": "execute_result"
    }
   ],
   "source": [
    "complexity_df_SE['loc'].describe()"
   ]
  },
  {
   "cell_type": "markdown",
   "metadata": {},
   "source": [
    "Analyzing the number of functions for the Notebook dataset split for Software Engineering purposes:\n",
    "\n",
    "Count, below, is the number of notebook files (.ipynb)  in the given split"
   ]
  },
  {
   "cell_type": "code",
   "execution_count": 7,
   "metadata": {},
   "outputs": [
    {
     "data": {
      "text/plain": [
       "count    6204.000000\n",
       "mean        4.344294\n",
       "std         9.602469\n",
       "min         1.000000\n",
       "25%         1.000000\n",
       "50%         1.000000\n",
       "75%         4.000000\n",
       "max       162.000000\n",
       "Name: num_functions, dtype: float64"
      ]
     },
     "execution_count": 7,
     "metadata": {},
     "output_type": "execute_result"
    }
   ],
   "source": [
    "complexity_df_SE['num_functions'].describe()"
   ]
  },
  {
   "cell_type": "markdown",
   "metadata": {},
   "source": [
    "Number of classes for the Notebook dataset split for Software Engineering purposes: \n",
    "\n",
    "\n",
    "Count, below, is the number of notebook files (.ipynb)  in the given split"
   ]
  },
  {
   "cell_type": "code",
   "execution_count": 8,
   "metadata": {},
   "outputs": [
    {
     "data": {
      "text/plain": [
       "count    6204.000000\n",
       "mean        0.235171\n",
       "std         2.073916\n",
       "min         0.000000\n",
       "25%         0.000000\n",
       "50%         0.000000\n",
       "75%         0.000000\n",
       "max        77.000000\n",
       "Name: num_classes, dtype: float64"
      ]
     },
     "execution_count": 8,
     "metadata": {},
     "output_type": "execute_result"
    }
   ],
   "source": [
    "complexity_df_SE['num_classes'].describe()"
   ]
  },
  {
   "cell_type": "markdown",
   "metadata": {},
   "source": [
    "Ratio: total lines of code (loc) divided by natural language (markdown lines + comment lines) and code lines for the Notebooks dataset for Software Engineering purposes:\n",
    "\n",
    "$Ratio =$ total lines of code (loc) / (markdown lines + comment lines + total lines of code)"
   ]
  },
  {
   "cell_type": "markdown",
   "metadata": {},
   "source": [
    "Count, below, is the number of notebook files (.ipynb)  in the given split"
   ]
  },
  {
   "cell_type": "code",
   "execution_count": 9,
   "metadata": {},
   "outputs": [
    {
     "name": "stdout",
     "output_type": "stream",
     "text": [
      "count    6204.000000\n",
      "mean        0.652088\n",
      "std         0.205463\n",
      "min         0.030812\n",
      "25%         0.545455\n",
      "50%         0.671053\n",
      "75%         0.797150\n",
      "max         1.000000\n",
      "Name: ratio_code_natural_language, dtype: float64\n"
     ]
    }
   ],
   "source": [
    "ratio_code_nl_SE = ratio_code_to_natural_language(complexity_df_SE, 'Notebook (SE)')"
   ]
  },
  {
   "cell_type": "markdown",
   "metadata": {},
   "source": [
    "## Analysis of the Notebook (Educational) split:"
   ]
  },
  {
   "cell_type": "code",
   "execution_count": 10,
   "metadata": {},
   "outputs": [
    {
     "name": "stdout",
     "output_type": "stream",
     "text": [
      "Percentage of files with successful class count: 0.8599218150870696\n",
      "Percentage of files without errors: 0.8599218150870696\n",
      "Number of Jupyter notebooks and python files for the Educational_nb split: 45974\n",
      "Percentage of files, for all file types, with 0 average cyclomatic complexity: 0.13957316274806875\n",
      "Number of notebook files for the Educational_nb split: 23765\n",
      "Percentage of files, for the notebook file type, with 0 average cyclomatic complexity: 0.0\n"
     ]
    }
   ],
   "source": [
    "complexity_df_non_SE, complexity_df_non_SE_all_filetypes = get_dataframe_by_split(split=\"Educational_nb\", keep_type='notebook')"
   ]
  },
  {
   "cell_type": "markdown",
   "metadata": {},
   "source": [
    "Number of notebook files (.ipynb)  in the Notebook dataset split for educational purposes:\n",
    "\n"
   ]
  },
  {
   "cell_type": "code",
   "execution_count": 11,
   "metadata": {},
   "outputs": [
    {
     "data": {
      "text/plain": [
       "file_type\n",
       "notebook    23765\n",
       "Name: count, dtype: int64"
      ]
     },
     "execution_count": 11,
     "metadata": {},
     "output_type": "execute_result"
    }
   ],
   "source": [
    "complexity_df_non_SE['file_type'].value_counts()"
   ]
  },
  {
   "cell_type": "markdown",
   "metadata": {},
   "source": [
    "Metrics for the average cyclomatic complexity of notebooks belonging to the educational purposes split (Non SE), using the Lizard library:"
   ]
  },
  {
   "cell_type": "markdown",
   "metadata": {},
   "source": [
    "\n",
    "\n",
    "Count, below, is the number of notebook files (.ipynb)  in the given split"
   ]
  },
  {
   "cell_type": "code",
   "execution_count": 12,
   "metadata": {},
   "outputs": [
    {
     "data": {
      "text/plain": [
       "count    23765.000000\n",
       "mean         1.810618\n",
       "std          1.337436\n",
       "min          1.000000\n",
       "25%          1.000000\n",
       "50%          1.333333\n",
       "75%          2.000000\n",
       "max         28.000000\n",
       "Name: average_cyclomatic_complexity, dtype: float64"
      ]
     },
     "execution_count": 12,
     "metadata": {},
     "output_type": "execute_result"
    }
   ],
   "source": [
    "complexity_df_non_SE['average_cyclomatic_complexity'].describe()"
   ]
  },
  {
   "cell_type": "markdown",
   "metadata": {},
   "source": [
    "Logical lines of code (LOC) for the Notebook dataset split for educational purposes:"
   ]
  },
  {
   "cell_type": "markdown",
   "metadata": {},
   "source": [
    "\n",
    "\n",
    "Count, below, is the number of notebook files (.ipynb)  in the given split"
   ]
  },
  {
   "cell_type": "code",
   "execution_count": 13,
   "metadata": {},
   "outputs": [
    {
     "data": {
      "text/plain": [
       "count    23765.000000\n",
       "mean       127.867705\n",
       "std        165.516665\n",
       "min          2.000000\n",
       "25%         34.000000\n",
       "50%         78.000000\n",
       "75%        157.000000\n",
       "max       3528.000000\n",
       "Name: loc, dtype: float64"
      ]
     },
     "execution_count": 13,
     "metadata": {},
     "output_type": "execute_result"
    }
   ],
   "source": [
    "complexity_df_non_SE['loc'].describe()"
   ]
  },
  {
   "cell_type": "markdown",
   "metadata": {},
   "source": [
    "Function count, per file, for the Notebook dataset split for educational purposes:\n",
    "\n",
    "Count, below, is the number of notebook files (.ipynb)  in the given split"
   ]
  },
  {
   "cell_type": "code",
   "execution_count": 14,
   "metadata": {},
   "outputs": [
    {
     "data": {
      "text/plain": [
       "count    23765.000000\n",
       "mean         4.352998\n",
       "std          8.328939\n",
       "min          1.000000\n",
       "25%          1.000000\n",
       "50%          1.000000\n",
       "75%          5.000000\n",
       "max        296.000000\n",
       "Name: num_functions, dtype: float64"
      ]
     },
     "execution_count": 14,
     "metadata": {},
     "output_type": "execute_result"
    }
   ],
   "source": [
    "complexity_df_non_SE['num_functions'].describe()"
   ]
  },
  {
   "cell_type": "markdown",
   "metadata": {},
   "source": [
    "Number of classes, per file, for the Notebook dataset split for educational purposes:\n",
    "\n",
    "Count, below, is the number of notebook files (.ipynb)  in the given split"
   ]
  },
  {
   "cell_type": "code",
   "execution_count": 15,
   "metadata": {},
   "outputs": [
    {
     "data": {
      "text/plain": [
       "count    23765.000000\n",
       "mean         0.275784\n",
       "std          2.060854\n",
       "min          0.000000\n",
       "25%          0.000000\n",
       "50%          0.000000\n",
       "75%          0.000000\n",
       "max         81.000000\n",
       "Name: num_classes, dtype: float64"
      ]
     },
     "execution_count": 15,
     "metadata": {},
     "output_type": "execute_result"
    }
   ],
   "source": [
    "complexity_df_non_SE['num_classes'].describe()"
   ]
  },
  {
   "cell_type": "markdown",
   "metadata": {},
   "source": [
    "Ratio total lines of code (loc) divided by natural language (markdown lines + comment lines) for educational purposes:\n",
    "\n",
    "Count, below, is the number of notebook files (.ipynb)  in the given split"
   ]
  },
  {
   "cell_type": "code",
   "execution_count": 16,
   "metadata": {},
   "outputs": [
    {
     "name": "stdout",
     "output_type": "stream",
     "text": [
      "count    23765.000000\n",
      "mean         0.613415\n",
      "std          0.208521\n",
      "min          0.006094\n",
      "25%          0.431034\n",
      "50%          0.610884\n",
      "75%          0.785714\n",
      "max          1.000000\n",
      "Name: ratio_code_natural_language, dtype: float64\n"
     ]
    }
   ],
   "source": [
    "ratio_code_nl_non_SE = ratio_code_to_natural_language(complexity_df_non_SE, 'Notebook (Edu)')"
   ]
  },
  {
   "cell_type": "markdown",
   "metadata": {},
   "source": [
    "### Analysis of the Python (SE) split:"
   ]
  },
  {
   "cell_type": "code",
   "execution_count": 17,
   "metadata": {},
   "outputs": [
    {
     "name": "stdout",
     "output_type": "stream",
     "text": [
      "Percentage of files with successful class count: 0.87188676404156\n",
      "Percentage of files without errors: 0.87188676404156\n",
      "Number of Jupyter notebooks and python files for the SE_py split: 57902\n",
      "Percentage of files, for all file types, with 0 average cyclomatic complexity: 0.12799277217286553\n",
      "Number of python files for the SE_py split: 57412\n",
      "Percentage of files, for the python file type, with 0 average cyclomatic complexity: 0.0\n"
     ]
    },
    {
     "name": "stderr",
     "output_type": "stream",
     "text": [
      "/tmp/ipykernel_26995/3830705784.py:9: DtypeWarning: Columns (9) have mixed types. Specify dtype option on import or set low_memory=False.\n",
      "  df_complex = pd.read_csv(csv_complexity)\n"
     ]
    }
   ],
   "source": [
    "complexity_df_SE_py, complexity_df_SE_py_all_filetypes = get_dataframe_by_split(split=\"SE_py\", keep_type='python')"
   ]
  },
  {
   "cell_type": "markdown",
   "metadata": {},
   "source": [
    "Analyzing the file types (.py or .ipynb) for the Python data split for Software Engineering purposes:"
   ]
  },
  {
   "cell_type": "code",
   "execution_count": 18,
   "metadata": {},
   "outputs": [
    {
     "data": {
      "text/plain": [
       "file_type\n",
       "python      57412\n",
       "notebook      490\n",
       "Name: count, dtype: int64"
      ]
     },
     "execution_count": 18,
     "metadata": {},
     "output_type": "execute_result"
    }
   ],
   "source": [
    "complexity_df_SE_py_all_filetypes['file_type'].value_counts()"
   ]
  },
  {
   "cell_type": "markdown",
   "metadata": {},
   "source": [
    "Number of lines of code (LOC) for the Python dataset split for Software Engineering purposes:\n",
    "\n",
    "Count, below, is the number of python files (.py)  in the given split"
   ]
  },
  {
   "cell_type": "code",
   "execution_count": 19,
   "metadata": {},
   "outputs": [
    {
     "data": {
      "text/plain": [
       "count     57412.000000\n",
       "mean        181.068609\n",
       "std        1035.351820\n",
       "min           1.000000\n",
       "25%          27.000000\n",
       "50%          72.000000\n",
       "75%         178.000000\n",
       "max      218766.000000\n",
       "Name: loc, dtype: float64"
      ]
     },
     "execution_count": 19,
     "metadata": {},
     "output_type": "execute_result"
    }
   ],
   "source": [
    "complexity_df_SE_py['loc'].describe()"
   ]
  },
  {
   "cell_type": "markdown",
   "metadata": {},
   "source": [
    "Number of functions, per file, for the Python dataset split for Software Engineering purposes:\n",
    "\n",
    "Count, below, is the number of python files (.py)  in the given split"
   ]
  },
  {
   "cell_type": "code",
   "execution_count": 20,
   "metadata": {},
   "outputs": [
    {
     "data": {
      "text/plain": [
       "count    57412.000000\n",
       "mean        10.003606\n",
       "std         22.094022\n",
       "min          1.000000\n",
       "25%          1.000000\n",
       "50%          4.000000\n",
       "75%         10.000000\n",
       "max       1428.000000\n",
       "Name: num_functions, dtype: float64"
      ]
     },
     "execution_count": 20,
     "metadata": {},
     "output_type": "execute_result"
    }
   ],
   "source": [
    "complexity_df_SE_py['num_functions'].describe()"
   ]
  },
  {
   "cell_type": "markdown",
   "metadata": {},
   "source": [
    "Number of classes, per file, for the Python dataset split for Software Engineering purposes: \n",
    "\n",
    "\n",
    "Count, below, is the number of python files (.py)  in the given split"
   ]
  },
  {
   "cell_type": "code",
   "execution_count": 21,
   "metadata": {},
   "outputs": [
    {
     "data": {
      "text/plain": [
       "count    57412.000000\n",
       "mean         1.756201\n",
       "std          6.082126\n",
       "min          0.000000\n",
       "25%          0.000000\n",
       "50%          1.000000\n",
       "75%          1.000000\n",
       "max        497.000000\n",
       "Name: num_classes, dtype: float64"
      ]
     },
     "execution_count": 21,
     "metadata": {},
     "output_type": "execute_result"
    }
   ],
   "source": [
    "complexity_df_SE_py['num_classes'].describe()"
   ]
  },
  {
   "cell_type": "markdown",
   "metadata": {},
   "source": [
    "Ratio total lines of code (loc) divided by natural language (markdown lines + comment lines) for the Python dataset with Software Engineering purposes:\n",
    "\n",
    "\n",
    "Count, below, is the number of python files (.py)  in the given split"
   ]
  },
  {
   "cell_type": "code",
   "execution_count": 22,
   "metadata": {},
   "outputs": [
    {
     "name": "stdout",
     "output_type": "stream",
     "text": [
      "count    57412.000000\n",
      "mean         0.852986\n",
      "std          0.167959\n",
      "min          0.024390\n",
      "25%          0.787636\n",
      "50%          0.914286\n",
      "75%          0.976744\n",
      "max          1.000000\n",
      "Name: ratio_code_natural_language, dtype: float64\n"
     ]
    }
   ],
   "source": [
    "ratio_code_nl_SE_py = ratio_code_to_natural_language(complexity_df_SE_py, 'Python (SE)')"
   ]
  },
  {
   "cell_type": "markdown",
   "metadata": {},
   "source": [
    "### Analysis of the Python (Educational) split:"
   ]
  },
  {
   "cell_type": "code",
   "execution_count": 23,
   "metadata": {},
   "outputs": [
    {
     "name": "stdout",
     "output_type": "stream",
     "text": [
      "Percentage of files with successful class count: 0.8629811768695947\n",
      "Percentage of files without errors: 0.8629811768695947\n",
      "Number of Jupyter notebooks and python files for the Educational_py split: 5089\n",
      "Percentage of files, for all file types, with 0 average cyclomatic complexity: 0.13583177887061218\n",
      "Number of python files for the Educational_py split: 5048\n",
      "Percentage of files, for the python file type, with 0 average cyclomatic complexity: 0.0\n"
     ]
    }
   ],
   "source": [
    "complexity_df_non_SE_py, complexity_df_non_SE_py_all_filetypes = get_dataframe_by_split(split=\"Educational_py\", keep_type='python')"
   ]
  },
  {
   "cell_type": "markdown",
   "metadata": {},
   "source": [
    "Number of file types (.py and .ipynb) encountered in the Python data split for educational purposes:"
   ]
  },
  {
   "cell_type": "code",
   "execution_count": 24,
   "metadata": {},
   "outputs": [
    {
     "data": {
      "text/plain": [
       "file_type\n",
       "python      5048\n",
       "notebook      41\n",
       "Name: count, dtype: int64"
      ]
     },
     "execution_count": 24,
     "metadata": {},
     "output_type": "execute_result"
    }
   ],
   "source": [
    "complexity_df_non_SE_py_all_filetypes['file_type'].value_counts()"
   ]
  },
  {
   "cell_type": "markdown",
   "metadata": {},
   "source": [
    "Average cyclomatic complexity, per file, for the Python dataset split for educational purposes:\n",
    "\n",
    "Count, below, is the number of python files (.py)  in the given split"
   ]
  },
  {
   "cell_type": "code",
   "execution_count": 25,
   "metadata": {},
   "outputs": [
    {
     "data": {
      "text/plain": [
       "count    5048.000000\n",
       "mean        3.298042\n",
       "std         4.126908\n",
       "min         1.000000\n",
       "25%         1.166667\n",
       "50%         2.250000\n",
       "75%         4.000000\n",
       "max       108.000000\n",
       "Name: average_cyclomatic_complexity, dtype: float64"
      ]
     },
     "execution_count": 25,
     "metadata": {},
     "output_type": "execute_result"
    }
   ],
   "source": [
    "complexity_df_non_SE_py['average_cyclomatic_complexity'].describe()"
   ]
  },
  {
   "cell_type": "markdown",
   "metadata": {},
   "source": [
    "Lines of code (LOC) for the Python dataset split for educational purposes:\n",
    "\n",
    "\n",
    "Count, below, is the number of python files (.py)  in the given split"
   ]
  },
  {
   "cell_type": "code",
   "execution_count": 26,
   "metadata": {},
   "outputs": [
    {
     "data": {
      "text/plain": [
       "count    5048.000000\n",
       "mean      117.926704\n",
       "std       248.182766\n",
       "min         2.000000\n",
       "25%        23.000000\n",
       "50%        57.000000\n",
       "75%       131.000000\n",
       "max      7608.000000\n",
       "Name: loc, dtype: float64"
      ]
     },
     "execution_count": 26,
     "metadata": {},
     "output_type": "execute_result"
    }
   ],
   "source": [
    "complexity_df_non_SE_py['loc'].describe()"
   ]
  },
  {
   "cell_type": "markdown",
   "metadata": {},
   "source": [
    "Number of functions, per file, for the Educational Python dataset split:\n",
    "\n",
    "\n",
    "\n",
    "Count, below, is the number of python files (.py)  in the given split"
   ]
  },
  {
   "cell_type": "code",
   "execution_count": 27,
   "metadata": {},
   "outputs": [
    {
     "data": {
      "text/plain": [
       "count    5048.000000\n",
       "mean        6.017036\n",
       "std        12.867637\n",
       "min         1.000000\n",
       "25%         1.000000\n",
       "50%         3.000000\n",
       "75%         7.000000\n",
       "max       311.000000\n",
       "Name: num_functions, dtype: float64"
      ]
     },
     "execution_count": 27,
     "metadata": {},
     "output_type": "execute_result"
    }
   ],
   "source": [
    "complexity_df_non_SE_py['num_functions'].describe()"
   ]
  },
  {
   "cell_type": "markdown",
   "metadata": {},
   "source": [
    "Classes complexity for the Python Educational dataset split:\n",
    "\n",
    "\n",
    "Count, below, is the number of python files (.py)  in the given split"
   ]
  },
  {
   "cell_type": "code",
   "execution_count": 28,
   "metadata": {},
   "outputs": [
    {
     "data": {
      "text/plain": [
       "count    5048.000000\n",
       "mean        0.882132\n",
       "std         2.327414\n",
       "min         0.000000\n",
       "25%         0.000000\n",
       "50%         0.000000\n",
       "75%         1.000000\n",
       "max        57.000000\n",
       "Name: num_classes, dtype: float64"
      ]
     },
     "execution_count": 28,
     "metadata": {},
     "output_type": "execute_result"
    }
   ],
   "source": [
    "complexity_df_non_SE_py['num_classes'].describe()"
   ]
  },
  {
   "cell_type": "markdown",
   "metadata": {},
   "source": [
    "Ratio total lines of code (loc) divided by natural language (markdown lines + comment lines)\n",
    "\n",
    "Count, below, is the number of python files (.py)  in the given split"
   ]
  },
  {
   "cell_type": "code",
   "execution_count": 29,
   "metadata": {},
   "outputs": [
    {
     "name": "stdout",
     "output_type": "stream",
     "text": [
      "count    5048.000000\n",
      "mean        0.835809\n",
      "std         0.168226\n",
      "min         0.045977\n",
      "25%         0.752450\n",
      "50%         0.888889\n",
      "75%         0.967779\n",
      "max         1.000000\n",
      "Name: ratio_code_natural_language, dtype: float64\n"
     ]
    }
   ],
   "source": [
    "ratio_code_nl_non_SE_py = ratio_code_to_natural_language(complexity_df_non_SE_py, \n",
    "                                                         'Python (Edu)')"
   ]
  },
  {
   "cell_type": "markdown",
   "metadata": {},
   "source": [
    "## Analysis of the Kaggle dataset:"
   ]
  },
  {
   "cell_type": "code",
   "execution_count": 30,
   "metadata": {},
   "outputs": [
    {
     "name": "stdout",
     "output_type": "stream",
     "text": [
      "Percentage of files with successful class count: 0.9229268292682927\n",
      "Percentage of files without errors: 0.9229268292682927\n",
      "Number of Jupyter notebooks and python files for the Kaggle split: 946\n",
      "Percentage of files, for all file types, with 0 average cyclomatic complexity: 0.07707317073170732\n",
      "Number of notebook files for the Kaggle split: 946\n",
      "Percentage of files, for the notebook file type, with 0 average cyclomatic complexity: 0.0\n"
     ]
    }
   ],
   "source": [
    "complexity_kaggle, complexity_kaggle_all_filetypes = get_dataframe_by_split(split=\"Kaggle\", keep_type='notebook')"
   ]
  },
  {
   "cell_type": "markdown",
   "metadata": {},
   "source": [
    "Number of notebooks successfuly parsed belonging to the Kaggle dataset:"
   ]
  },
  {
   "cell_type": "code",
   "execution_count": 31,
   "metadata": {},
   "outputs": [
    {
     "data": {
      "text/plain": [
       "file_type\n",
       "notebook    946\n",
       "Name: count, dtype: int64"
      ]
     },
     "execution_count": 31,
     "metadata": {},
     "output_type": "execute_result"
    }
   ],
   "source": [
    "complexity_kaggle_all_filetypes['file_type'].value_counts()"
   ]
  },
  {
   "cell_type": "markdown",
   "metadata": {},
   "source": [
    "Average cyclomatic complexity, per file, for the Kaggle notebooks dataset:\n",
    "\n",
    "Count, below, is the number of notebook files (.ipynb)  in the given dataset"
   ]
  },
  {
   "cell_type": "code",
   "execution_count": 32,
   "metadata": {},
   "outputs": [
    {
     "data": {
      "text/plain": [
       "count    946.000000\n",
       "mean       2.496972\n",
       "std        1.860042\n",
       "min        1.000000\n",
       "25%        1.169643\n",
       "50%        2.000000\n",
       "75%        3.000000\n",
       "max       17.000000\n",
       "Name: average_cyclomatic_complexity, dtype: float64"
      ]
     },
     "execution_count": 32,
     "metadata": {},
     "output_type": "execute_result"
    }
   ],
   "source": [
    "complexity_kaggle['average_cyclomatic_complexity'].describe()"
   ]
  },
  {
   "cell_type": "markdown",
   "metadata": {},
   "source": [
    "Logical lines of code (LOC) for the Kaggle notebooks dataset:\n",
    "\n",
    "Count, below, is the number of notebook files (.ipynb)  in the given dataset"
   ]
  },
  {
   "cell_type": "code",
   "execution_count": 33,
   "metadata": {},
   "outputs": [
    {
     "data": {
      "text/plain": [
       "count     946.000000\n",
       "mean      173.665962\n",
       "std       178.336542\n",
       "min         6.000000\n",
       "25%        65.250000\n",
       "50%       120.000000\n",
       "75%       202.000000\n",
       "max      1195.000000\n",
       "Name: loc, dtype: float64"
      ]
     },
     "execution_count": 33,
     "metadata": {},
     "output_type": "execute_result"
    }
   ],
   "source": [
    "complexity_kaggle['loc'].describe()"
   ]
  },
  {
   "cell_type": "markdown",
   "metadata": {},
   "source": [
    "Number of functions, per file, for the Kaggle notebooks dataset:\n",
    "\n",
    "Count, below, is the number of notebook files (.ipynb)  in the given dataset"
   ]
  },
  {
   "cell_type": "code",
   "execution_count": 34,
   "metadata": {},
   "outputs": [
    {
     "data": {
      "text/plain": [
       "count    946.000000\n",
       "mean       4.137421\n",
       "std        6.813318\n",
       "min        1.000000\n",
       "25%        1.000000\n",
       "50%        1.000000\n",
       "75%        4.000000\n",
       "max       74.000000\n",
       "Name: num_functions, dtype: float64"
      ]
     },
     "execution_count": 34,
     "metadata": {},
     "output_type": "execute_result"
    }
   ],
   "source": [
    "complexity_kaggle['num_functions'].describe()"
   ]
  },
  {
   "cell_type": "markdown",
   "metadata": {},
   "source": [
    "Number of classes, per file, for the Kaggle notebooks dataset:\n",
    "\n",
    "Count, below, is the number of notebook files (.ipynb)  in the given dataset"
   ]
  },
  {
   "cell_type": "code",
   "execution_count": 35,
   "metadata": {},
   "outputs": [
    {
     "data": {
      "text/plain": [
       "count    946.000000\n",
       "mean       0.263214\n",
       "std        0.982094\n",
       "min        0.000000\n",
       "25%        0.000000\n",
       "50%        0.000000\n",
       "75%        0.000000\n",
       "max       18.000000\n",
       "Name: num_classes, dtype: float64"
      ]
     },
     "execution_count": 35,
     "metadata": {},
     "output_type": "execute_result"
    }
   ],
   "source": [
    "complexity_kaggle['num_classes'].describe()"
   ]
  },
  {
   "cell_type": "markdown",
   "metadata": {},
   "source": [
    "Ratio total lines of code (loc) divided by natural language (markdown lines + comment lines) for the Kaggle notebooks dataset:\n",
    "\n",
    "Count, below, is the number of notebook files (.ipynb)  in the given dataset"
   ]
  },
  {
   "cell_type": "code",
   "execution_count": 36,
   "metadata": {},
   "outputs": [
    {
     "name": "stdout",
     "output_type": "stream",
     "text": [
      "count    946.000000\n",
      "mean       0.739831\n",
      "std        0.171272\n",
      "min        0.142857\n",
      "25%        0.649036\n",
      "50%        0.767904\n",
      "75%        0.867351\n",
      "max        1.000000\n",
      "Name: ratio_code_natural_language, dtype: float64\n"
     ]
    }
   ],
   "source": [
    "ratio_code_nl_kaggle= ratio_code_to_natural_language(complexity_kaggle, 'Kaggle')"
   ]
  },
  {
   "cell_type": "markdown",
   "metadata": {},
   "source": [
    "Separating the data between Notebook x Python:"
   ]
  },
  {
   "cell_type": "code",
   "execution_count": 37,
   "metadata": {},
   "outputs": [],
   "source": [
    "complexity_notebook = pd.concat([complexity_df_SE,\n",
    "                                 complexity_df_non_SE])\n",
    "\n",
    "complexity_python = pd.concat([complexity_df_SE_py,\n",
    "                               complexity_df_non_SE_py])\n",
    "\n",
    "\n",
    "\n",
    "all_complexity_data = pd.concat([complexity_notebook, complexity_python, complexity_kaggle])\n",
    "\n",
    "ratio_code_nl_notebook = pd.concat([ratio_code_nl_SE, ratio_code_nl_non_SE])\n",
    "\n",
    "ratio_code_nl_python = pd.concat([ratio_code_nl_SE_py, ratio_code_nl_non_SE_py])\n",
    "\n",
    "all_ratio_code_nl_data = pd.concat([ratio_code_nl_notebook, ratio_code_nl_python, ratio_code_nl_kaggle])"
   ]
  },
  {
   "cell_type": "markdown",
   "metadata": {},
   "source": [
    "## Statistical Tests"
   ]
  },
  {
   "cell_type": "markdown",
   "metadata": {},
   "source": [
    "Using Mann-Whitney test to observe if there are any statistical significance between Notebook vs Python repositories"
   ]
  },
  {
   "cell_type": "markdown",
   "metadata": {},
   "source": [
    "Statistical significance in  lines of code (loc) between Notebooks vs Python repositories:"
   ]
  },
  {
   "cell_type": "code",
   "execution_count": 38,
   "metadata": {},
   "outputs": [
    {
     "name": "stdout",
     "output_type": "stream",
     "text": [
      "Mann-Whitney U statistic: 1007045060.0\n",
      "P-value: 0.0000000000\n",
      "Absolute value of cohen d: 0.05259576784450489\n",
      "Very small difference between Notebooks vs Python (cohen D <= 0.2)\n"
     ]
    }
   ],
   "source": [
    "get_mann_test_and_cohen_d(complexity_notebook, complexity_python, \"loc\")"
   ]
  },
  {
   "cell_type": "markdown",
   "metadata": {},
   "source": [
    "Statistical significance in number of functions between Notebooks vs Python repositories:"
   ]
  },
  {
   "cell_type": "code",
   "execution_count": 39,
   "metadata": {},
   "outputs": [
    {
     "name": "stdout",
     "output_type": "stream",
     "text": [
      "Mann-Whitney U statistic: 637900466.5\n",
      "P-value: 0.0000000000\n",
      "Absolute value of cohen d: 0.29032299485969854\n",
      "Small difference between Notebooks vs Python ( 0.2 > cohen D <= 0.5)\n"
     ]
    }
   ],
   "source": [
    "get_mann_test_and_cohen_d(complexity_notebook, complexity_python, \"num_functions\")"
   ]
  },
  {
   "cell_type": "markdown",
   "metadata": {},
   "source": [
    "Statistical significance in classes complexity between Notebooks vs Python repositories:"
   ]
  },
  {
   "cell_type": "code",
   "execution_count": 40,
   "metadata": {},
   "outputs": [
    {
     "name": "stdout",
     "output_type": "stream",
     "text": [
      "Mann-Whitney U statistic: 457687283.5\n",
      "P-value: 0.0000000000\n",
      "Absolute value of cohen d: 0.2853965420645588\n",
      "Small difference between Notebooks vs Python ( 0.2 > cohen D <= 0.5)\n"
     ]
    }
   ],
   "source": [
    "get_mann_test_and_cohen_d(complexity_notebook, complexity_python, \"num_classes\")"
   ]
  },
  {
   "cell_type": "markdown",
   "metadata": {},
   "source": [
    "Statistical significance in ratio code to natural language between Notebooks vs Python repositories:"
   ]
  },
  {
   "cell_type": "code",
   "execution_count": 41,
   "metadata": {},
   "outputs": [
    {
     "name": "stdout",
     "output_type": "stream",
     "text": [
      "Mann-Whitney U statistic: 343507508.0\n",
      "P-value: 0.0000000000\n",
      "Absolute value of cohen d: 1.2637321996578041\n",
      "Big difference between Notebooks vs Python (cohen D > 0.8)\n"
     ]
    }
   ],
   "source": [
    "get_mann_test_and_cohen_d(ratio_code_nl_notebook, ratio_code_nl_python, 'ratio_code_natural_language')"
   ]
  },
  {
   "cell_type": "markdown",
   "metadata": {},
   "source": [
    "Statistical significance in average cyclomatic complexity between Notebooks vs Python repositories (using lizard library):"
   ]
  },
  {
   "cell_type": "code",
   "execution_count": 42,
   "metadata": {},
   "outputs": [
    {
     "name": "stdout",
     "output_type": "stream",
     "text": [
      "Mann-Whitney U statistic: 787722473.0\n",
      "P-value: 0.0000000000\n",
      "Absolute value of cohen d: 0.05598957949259196\n",
      "Very small difference between Notebooks vs Python (cohen D <= 0.2)\n"
     ]
    }
   ],
   "source": [
    "get_mann_test_and_cohen_d(complexity_notebook, complexity_python, 'average_cyclomatic_complexity')"
   ]
  },
  {
   "cell_type": "markdown",
   "metadata": {},
   "source": [
    "Plotting the data:"
   ]
  },
  {
   "cell_type": "code",
   "execution_count": 43,
   "metadata": {},
   "outputs": [
    {
     "data": {
      "text/plain": [
       "split\n",
       "SE_py             57412\n",
       "Educational_nb    23765\n",
       "SE_nb              6204\n",
       "Educational_py     5048\n",
       "Kaggle              946\n",
       "Name: count, dtype: int64"
      ]
     },
     "execution_count": 43,
     "metadata": {},
     "output_type": "execute_result"
    }
   ],
   "source": [
    "all_complexity_data['split'].value_counts()"
   ]
  },
  {
   "cell_type": "code",
   "execution_count": 44,
   "metadata": {},
   "outputs": [],
   "source": [
    "# adjusitng indices only to plot the data:\n",
    "all_complexity_data.reset_index(drop=True, inplace=True)\n",
    "\n",
    "all_complexity_data['split'] = all_complexity_data['split'].map({'SE_py': 'Python (SE)', \n",
    "                                                          'Educational_nb': 'Notebook (Edu)',\n",
    "                                                          'SE_nb': 'Notebook (SE)',\n",
    "                                                          'Educational_py': 'Python (Edu)',\n",
    "                                                          'Kaggle': 'Kaggle'})\n",
    "\n",
    "\n",
    "all_ratio_code_nl_data.reset_index(drop=True, inplace=True)\n"
   ]
  },
  {
   "cell_type": "markdown",
   "metadata": {},
   "source": [
    "Number of files belonging to each split:"
   ]
  },
  {
   "cell_type": "code",
   "execution_count": 45,
   "metadata": {},
   "outputs": [
    {
     "data": {
      "text/plain": [
       "split\n",
       "Python (SE)       57412\n",
       "Notebook (Edu)    23765\n",
       "Notebook (SE)      6204\n",
       "Python (Edu)       5048\n",
       "Kaggle              946\n",
       "Name: count, dtype: int64"
      ]
     },
     "execution_count": 45,
     "metadata": {},
     "output_type": "execute_result"
    }
   ],
   "source": [
    "all_complexity_data['split'].value_counts()"
   ]
  },
  {
   "cell_type": "code",
   "execution_count": 46,
   "metadata": {},
   "outputs": [
    {
     "data": {
      "text/plain": [
       "split\n",
       "Python (SE)       57412\n",
       "Notebook (Edu)    23765\n",
       "Notebook (SE)      6204\n",
       "Python (Edu)       5048\n",
       "Kaggle              946\n",
       "Name: count, dtype: int64"
      ]
     },
     "execution_count": 46,
     "metadata": {},
     "output_type": "execute_result"
    }
   ],
   "source": [
    "all_ratio_code_nl_data['split'].value_counts()"
   ]
  },
  {
   "cell_type": "markdown",
   "metadata": {},
   "source": [
    "Plotting:"
   ]
  },
  {
   "cell_type": "code",
   "execution_count": 48,
   "metadata": {},
   "outputs": [
    {
     "name": "stderr",
     "output_type": "stream",
     "text": [
      "/tmp/ipykernel_26995/4104211573.py:13: FutureWarning: \n",
      "\n",
      "Passing `palette` without assigning `hue` is deprecated and will be removed in v0.14.0. Assign the `y` variable to `hue` and set `legend=False` for the same effect.\n",
      "\n",
      "  sns.boxplot(data=all_complexity_data, x=\"num_functions\", y=\"split\",\n",
      "/tmp/ipykernel_26995/4104211573.py:24: FutureWarning: \n",
      "\n",
      "Passing `palette` without assigning `hue` is deprecated and will be removed in v0.14.0. Assign the `y` variable to `hue` and set `legend=False` for the same effect.\n",
      "\n",
      "  sns.boxplot(data=all_complexity_data, x=\"average_cyclomatic_complexity\", y=\"split\",\n",
      "/tmp/ipykernel_26995/4104211573.py:37: FutureWarning: \n",
      "\n",
      "Passing `palette` without assigning `hue` is deprecated and will be removed in v0.14.0. Assign the `y` variable to `hue` and set `legend=False` for the same effect.\n",
      "\n",
      "  sns.boxplot(data=all_complexity_data, x=\"loc\", y=\"split\",\n",
      "/tmp/ipykernel_26995/4104211573.py:48: FutureWarning: \n",
      "\n",
      "Passing `palette` without assigning `hue` is deprecated and will be removed in v0.14.0. Assign the `y` variable to `hue` and set `legend=False` for the same effect.\n",
      "\n",
      "  sns.boxplot(data=\n"
     ]
    },
    {
     "data": {
      "image/png": "[encoded data removed]",
      "text/plain": [
       "<Figure size 500x900 with 4 Axes>"
      ]
     },
     "metadata": {},
     "output_type": "display_data"
    }
   ],
   "source": [
    "custom_palette = {\n",
    "    'Python (SE)': '#175b96',  \n",
    "    'Python (Edu)': '#2293f5',  \n",
    "    'Notebook (SE)': '#069178',  \n",
    "    'Notebook (Edu)': '#07f0c5',  \n",
    "    'Kaggle': '#e64072' \n",
    "}\n",
    "plt.rcParams['font.family'] = 'serif'\n",
    "\n",
    "fig, axs = plt.subplots(nrows=4, ncols=1, figsize=(5, 9))\n",
    "\n",
    "sns.set_style(\"darkgrid\")\n",
    "sns.boxplot(data=all_complexity_data, x=\"num_functions\", y=\"split\", \n",
    "            palette=custom_palette, whis=(0,80), showfliers = False, width=0.5,\n",
    "            ax=axs[0],boxprops=dict(alpha=1))\n",
    "\n",
    "axs[0].tick_params(axis='x', labelsize=8)\n",
    "axs[0].set_xlabel('Number of Functions by File', fontsize=8)\n",
    "axs[0].set_title('Number of Functions by File by Split', fontsize=10)\n",
    "axs[0].set_ylabel('Data Split', fontsize=10) \n",
    "axs[0].xaxis.set_major_locator(MultipleLocator(1))\n",
    "\n",
    "sns.set_style(\"darkgrid\")\n",
    "sns.boxplot(data=all_complexity_data, x=\"average_cyclomatic_complexity\", y=\"split\", \n",
    "            palette=custom_palette, whis=(10,90), showfliers = False, width=0.5,\n",
    "            ax=axs[1],boxprops=dict(alpha=1))\n",
    "\n",
    "axs[1].tick_params(axis='x', labelsize=8)\n",
    "axs[1].set_xlabel('Average Cyclomatic Complexity by File', fontsize=8)\n",
    "axs[1].set_title('Average Cyclomatic Complexity by Split', fontsize=10)\n",
    "axs[1].set_ylabel('Data Split', fontsize=10) \n",
    "axs[1].xaxis.set_major_locator(MultipleLocator(1))\n",
    "\n",
    "\n",
    "\n",
    "sns.set_style(\"darkgrid\")\n",
    "sns.boxplot(data=all_complexity_data, x=\"loc\", y=\"split\", \n",
    "            palette=custom_palette, whis=(10,90), showfliers = False, width=0.5,\n",
    "            ax=axs[2], boxprops=dict(alpha=1))\n",
    "\n",
    "axs[2].xaxis.set_major_formatter(FuncFormatter(lambda x, _: '{:.0f}'.format(x)))\n",
    "axs[2].tick_params(axis='x', labelsize=8)\n",
    "axs[2].set_xlabel('Logical Lines of Code (LOC)', fontsize=8)\n",
    "axs[2].set_title('Logical Lines of Code (LOC) by Split', fontsize=10)\n",
    "axs[2].set_ylabel('Data Split', fontsize=10)\n",
    "\n",
    "sns.set_style(\"darkgrid\")\n",
    "sns.boxplot(data=\n",
    "all_ratio_code_nl_data, x=\"ratio_code_natural_language\", y=\"split\", \n",
    "            palette=custom_palette,  whis=(0, 100),  showfliers = False, width = 0.5,\n",
    "            ax=axs[3], boxprops=dict(alpha=1))\n",
    "\n",
    "axs[3].set_xlabel('Ratio Code to Natural Language', fontsize=8)\n",
    "axs[3].tick_params(axis='x', labelsize=8)\n",
    "axs[3].set_title('Ratio Code to Natural Language by Split', fontsize=10)\n",
    "axs[3].set_ylabel('Data Split', fontsize=10)\n",
    "axs[3].set_xlim(left=0)\n",
    "\n",
    "plt.subplots_adjust(hspace=0.7)\n",
    "#plt.tight_layout()\n",
    "plt.savefig(\"boxplot_complexity.pdf\", format='pdf',bbox_inches='tight')\n",
    "plt.show()\n"
   ]
  }
 ],
 "metadata": {
  "kernelspec": {
   "display_name": "env_bug",
   "language": "python",
   "name": "python3"
  },
  "language_info": {
   "codemirror_mode": {
    "name": "ipython",
    "version": 3
   },
   "file_extension": ".py",
   "mimetype": "text/x-python",
   "name": "python",
   "nbconvert_exporter": "python",
   "pygments_lexer": "ipython3",
   "version": "3.10.14"
  }
 },
 "nbformat": 4,
 "nbformat_minor": 2
}
