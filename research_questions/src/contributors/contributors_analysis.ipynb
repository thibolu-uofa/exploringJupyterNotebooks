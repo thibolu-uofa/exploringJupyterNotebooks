{
 "cells": [
  {
   "cell_type": "code",
   "execution_count": 60,
   "metadata": {},
   "outputs": [],
   "source": [
    "import pandas as pd\n",
    "import os\n",
    "from datetime import datetime\n",
    "from pathlib import Path\n",
    "from research_questions.configs.configs import Configs\n",
    "\n",
    "from scipy.stats import pearsonr\n",
    "from scipy.stats import ttest_ind\n",
    "import seaborn as sns\n",
    "import matplotlib.pyplot as plt\n",
    "from matplotlib.ticker import ScalarFormatter, FuncFormatter, LogFormatter\n",
    "import pingouin as pg\n",
    "from scipy.stats import mannwhitneyu\n",
    "import numpy as np"
   ]
  },
  {
   "cell_type": "markdown",
   "metadata": {},
   "source": [
    "## Auxiliar Functions"
   ]
  },
  {
   "cell_type": "code",
   "execution_count": 61,
   "metadata": {},
   "outputs": [],
   "source": [
    "def merge_csv_results(folder_split):\n",
    "\n",
    "\n",
    "    csv_files = [file for file in os.listdir(folder_split) if file.endswith('.csv')]\n",
    "\n",
    "    dataframes = []\n",
    "\n",
    "    for csv_file in csv_files:\n",
    "        file_path = os.path.join(folder_split, csv_file)\n",
    "        df = pd.read_csv(file_path)\n",
    "        print(file_path)\n",
    "        print(len(df))\n",
    "        dataframes.append(df)\n",
    "\n",
    "    merged_df = pd.concat(dataframes, ignore_index=True)\n",
    "\n",
    "    merged_df.to_csv(f'contributors_data_{folder_split}.csv', index=False)\n",
    "\n",
    "    return merged_df\n",
    "\n",
    "\n",
    "\n",
    "def get_mann_test_and_cohen_d(df_1, df_2, column_name):\n",
    "    \"\"\"Applies Mann-Whitney hipothesis testing to 2 group sets\n",
    "    passed as input (2 dataframe columns passed as parameter).\n",
    "    Also gets Cohen D coefficient between these 2 groups,\n",
    "    that is a effect size measure if two groups have similar \n",
    "    standard deviations and are of the same size \n",
    "    \"\"\"\n",
    "    df_1 = df_1.dropna(subset=[column_name])\n",
    "    df_2 = df_2.dropna(subset=[column_name])\n",
    "\n",
    "    statistic, p_value = mannwhitneyu(df_1[column_name], df_2[column_name])\n",
    "    print(f\"Mann-Whitney U statistic: {statistic}\")\n",
    "    # printing more decimals:\n",
    "    formatted_p_value = \"{:.10f}\".format(p_value)\n",
    "    print(f\"P-value: {formatted_p_value}\")\n",
    "    \n",
    "    # returning the absolute value of cohen d:\n",
    "    cohen_d = pg.compute_effsize(df_1[column_name], df_2[column_name], eftype='cohen')\n",
    "    cohen_d = np.abs(cohen_d)\n",
    "    print(f\"Absolute value of cohen d: {cohen_d}\")\n",
    "    if cohen_d <= 0.2:\n",
    "        print(f\"Very small difference between Notebooks vs Python (cohen D <= 0.2)\")\n",
    "    if cohen_d > 0.2 and cohen_d <= 0.5:\n",
    "        print(f\"Small difference between Notebooks vs Python ( 0.2 > cohen D <= 0.5)\")\n",
    "    if cohen_d > 0.5 and cohen_d <= 0.8:\n",
    "        print(f\"Medium difference between Notebooks vs Python ( 0.5 > cohen D <= 0.8)\")\n",
    "    if cohen_d > 0.8:\n",
    "        print(f\"Big difference between Notebooks vs Python (cohen D > 0.8)\")\n",
    "\n"
   ]
  },
  {
   "cell_type": "markdown",
   "metadata": {},
   "source": [
    "Choosing the current datetime to be 04/27/2024 (as set in configs.json file):"
   ]
  },
  {
   "cell_type": "code",
   "execution_count": 62,
   "metadata": {},
   "outputs": [],
   "source": [
    "current_time = '2024-04-27'"
   ]
  },
  {
   "cell_type": "code",
   "execution_count": 63,
   "metadata": {},
   "outputs": [],
   "source": [
    "def get_account_age(account_creation_datetime, current_time):\n",
    "    \n",
    "    account_creation_date = datetime.strptime(\n",
    "        account_creation_datetime, '%Y-%m-%dT%H:%M:%SZ')\n",
    "    \n",
    "    current_datetime = datetime.strptime(\n",
    "        current_time, '%Y-%m-%d')\n",
    "    \n",
    "    elapsed_years = current_datetime.year - account_creation_date.year\n",
    "    \n",
    "    \n",
    "    return elapsed_years"
   ]
  },
  {
   "cell_type": "code",
   "execution_count": 64,
   "metadata": {},
   "outputs": [],
   "source": [
    "def get_number_contributors_per_repo(df, split, print_results=True):\n",
    "\n",
    "    distinct_user_counts = df.groupby('repo_url')['user_id'].nunique()\n",
    "    \n",
    "    # Convert the series to a DataFrame\n",
    "    df_num_contributors_per_repo = distinct_user_counts.reset_index()\n",
    "\n",
    "    # Rename the columns for clarity\n",
    "    df_num_contributors_per_repo.columns = ['repo_url', 'num_contributors']\n",
    "    df_num_contributors_per_repo['split'] = split\n",
    "\n",
    "    average_distinct_users = distinct_user_counts.mean()\n",
    "    max_distinct_users = distinct_user_counts.max()\n",
    "    min_distinct_users = distinct_user_counts.min()\n",
    "    median_distinct_users = distinct_user_counts.median()\n",
    "\n",
    "    max_repo_url = distinct_user_counts.idxmax()\n",
    "\n",
    "    if print_results:\n",
    "        print(f\"Average number of contributors per repository: {average_distinct_users}\")\n",
    "        print(f\"Maximum number of contributors per repository: {max_distinct_users} ({max_repo_url})\")\n",
    "        print(f\"Minimum number of contributors per repository: {min_distinct_users}\")\n",
    "        print(f\"Median number of contributors per repository: {median_distinct_users}\")\n",
    "\n",
    "    contributors_info = {\n",
    "        \"avg_unique_contributors\": average_distinct_users,\n",
    "        \"median_contributors\": median_distinct_users,\n",
    "        \"max_contributors\":  max_distinct_users,\n",
    "        \"min_contributors\": min_distinct_users,\n",
    "        \"total_contributors\": len(df)\n",
    "        }\n",
    "\n",
    "\n",
    "    return contributors_info, df_num_contributors_per_repo"
   ]
  },
  {
   "cell_type": "markdown",
   "metadata": {},
   "source": [
    "Functions to generate data summary:"
   ]
  },
  {
   "cell_type": "code",
   "execution_count": 65,
   "metadata": {},
   "outputs": [],
   "source": [
    "def get_statistics_age(df, name):\n",
    "\n",
    "    \n",
    "    desc = df.describe()\n",
    "    stats = {\n",
    "        'split' : name,\n",
    "        'avg_age': desc.loc['mean', 'account_age'],\n",
    "        'median_age': df['account_age'].median(),\n",
    "        'max_age': df['account_age'].max(),\n",
    "        'min_age': df['account_age'].min(),\n",
    "        'total_contributors': desc.loc['count', 'account_age'],\n",
    "    }\n",
    "    return stats\n",
    "\n",
    "def get_summary_age(df_list): \n",
    "\n",
    "    all_stats = []\n",
    "\n",
    "    for item in df_list:\n",
    "        df = item['data']\n",
    "        name = item['split_name']\n",
    "        stats = get_statistics_age(df,name)\n",
    "        all_stats.append(stats)\n",
    "\n",
    "\n",
    "    combined_stats = pd.DataFrame(all_stats)\n",
    "\n",
    "    return combined_stats"
   ]
  },
  {
   "cell_type": "code",
   "execution_count": 66,
   "metadata": {},
   "outputs": [],
   "source": [
    "def get_statistics_contributors(df, name):\n",
    "\n",
    "    \n",
    "    stats, _ = get_number_contributors_per_repo(df=df, print_results=False, split='optional')\n",
    "    stats['split']=name\n",
    "    \n",
    "    return stats\n",
    "\n",
    "def get_summary_contributors(df_list): \n",
    "    \n",
    "    all_stats = []\n",
    "\n",
    "    for item in df_list:\n",
    "        \n",
    "        df = item['data']\n",
    "        name = item['split_name']\n",
    "        \n",
    "        stats = get_statistics_contributors(df,name)\n",
    "        \n",
    "        all_stats.append(stats)\n",
    "\n",
    "\n",
    "    combined_stats = pd.DataFrame(all_stats)\n",
    "\n",
    "    return combined_stats"
   ]
  },
  {
   "cell_type": "markdown",
   "metadata": {},
   "source": [
    "## Analysis of the SE split:"
   ]
  },
  {
   "cell_type": "code",
   "execution_count": 67,
   "metadata": {},
   "outputs": [
    {
     "name": "stdout",
     "output_type": "stream",
     "text": [
      "SE/contributors_SE_250_to_377.csv\n",
      "4723\n",
      "SE/contributors_SE_0_to_250.csv\n",
      "6191\n"
     ]
    }
   ],
   "source": [
    "df_contributors_SE = merge_csv_results('SE')"
   ]
  },
  {
   "cell_type": "markdown",
   "metadata": {},
   "source": [
    "Total number of contributors of the Notebook data split for Software Engineering purposes:"
   ]
  },
  {
   "cell_type": "code",
   "execution_count": 68,
   "metadata": {},
   "outputs": [
    {
     "data": {
      "text/plain": [
       "10914"
      ]
     },
     "execution_count": 68,
     "metadata": {},
     "output_type": "execute_result"
    }
   ],
   "source": [
    "len(df_contributors_SE)"
   ]
  },
  {
   "cell_type": "markdown",
   "metadata": {},
   "source": [
    "Number of unique repository urls in the Notebook SE split:"
   ]
  },
  {
   "cell_type": "code",
   "execution_count": 69,
   "metadata": {},
   "outputs": [
    {
     "data": {
      "text/plain": [
       "375"
      ]
     },
     "execution_count": 69,
     "metadata": {},
     "output_type": "execute_result"
    }
   ],
   "source": [
    "df_contributors_SE['repo_url'].nunique()"
   ]
  },
  {
   "cell_type": "code",
   "execution_count": 70,
   "metadata": {},
   "outputs": [],
   "source": [
    "df_contributors_SE['account_age'] = df_contributors_SE['created_at'].apply(\n",
    "    lambda x: get_account_age(x, current_time))"
   ]
  },
  {
   "cell_type": "markdown",
   "metadata": {},
   "source": [
    "### Average year account of contributors for the SE split:"
   ]
  },
  {
   "cell_type": "markdown",
   "metadata": {},
   "source": [
    "Statistics (mean, median, quartiles, standard deviation, etc) for the ages of experience of developers for the Notebook dataset split for Software Engineering purposes:\n",
    "\n",
    "('count', below, is the number of unqiue contributors of the Notebook dataset split for Software Engineering purposes)"
   ]
  },
  {
   "cell_type": "code",
   "execution_count": 71,
   "metadata": {},
   "outputs": [
    {
     "data": {
      "text/plain": [
       "count    10914.000000\n",
       "mean         8.969947\n",
       "std          3.448408\n",
       "min          0.000000\n",
       "25%          6.000000\n",
       "50%          9.000000\n",
       "75%         12.000000\n",
       "max         16.000000\n",
       "Name: account_age, dtype: float64"
      ]
     },
     "execution_count": 71,
     "metadata": {},
     "output_type": "execute_result"
    }
   ],
   "source": [
    "df_contributors_SE['account_age'].describe()"
   ]
  },
  {
   "cell_type": "markdown",
   "metadata": {},
   "source": [
    "### Unique contributors per repository for the Notebook dataset split for Software Engineering purposes:\n"
   ]
  },
  {
   "cell_type": "code",
   "execution_count": 72,
   "metadata": {},
   "outputs": [
    {
     "name": "stdout",
     "output_type": "stream",
     "text": [
      "Average number of contributors per repository: 29.104\n",
      "Maximum number of contributors per repository: 406 (https://github.com/GoogleCloudPlatform/python-docs-samples)\n",
      "Minimum number of contributors per repository: 1\n",
      "Median number of contributors per repository: 8.0\n"
     ]
    }
   ],
   "source": [
    "_, contributors_per_repo_SE = get_number_contributors_per_repo(df_contributors_SE, split='Notebook (SE)')"
   ]
  },
  {
   "cell_type": "markdown",
   "metadata": {},
   "source": [
    "## Location of contributors  for the Notebook dataset split for Software Engineering purposes:\n",
    "\n"
   ]
  },
  {
   "cell_type": "markdown",
   "metadata": {},
   "source": [
    "('count', below, is the number of unqiue contributors of the Notebook dataset split for Software Engineering purposes)"
   ]
  },
  {
   "cell_type": "code",
   "execution_count": 73,
   "metadata": {},
   "outputs": [
    {
     "data": {
      "text/plain": [
       "10914"
      ]
     },
     "execution_count": 73,
     "metadata": {},
     "output_type": "execute_result"
    }
   ],
   "source": [
    "df_SE_location = pd.read_csv(\"country_contributors_SE.csv\")\n",
    "len(df_SE_location)"
   ]
  },
  {
   "cell_type": "markdown",
   "metadata": {},
   "source": [
    "Saving the number of contributors by location, on a txt file, for the Notebook dataset split for Software Engineering purposes"
   ]
  },
  {
   "cell_type": "code",
   "execution_count": 74,
   "metadata": {},
   "outputs": [],
   "source": [
    "with open('location_SE.txt', 'w') as f:\n",
    "    for key,item in df_SE_location['location'].value_counts().items():\n",
    "        print(key, item, file=f)\n",
    "        "
   ]
  },
  {
   "cell_type": "markdown",
   "metadata": {},
   "source": [
    "Number of contributors, by country, for the Notebook dataset split for Software Engineering purposes"
   ]
  },
  {
   "cell_type": "code",
   "execution_count": 75,
   "metadata": {},
   "outputs": [
    {
     "data": {
      "text/plain": [
       "country\n",
       "absent location in GitHub    4893\n",
       "United States                2415\n",
       "Germany                       373\n",
       "United Kingdom                356\n",
       "India                         318\n",
       "                             ... \n",
       "Croatia                         1\n",
       "Costa Rica                      1\n",
       "Sudan                           1\n",
       "Panama                          1\n",
       "North Macedonia                 1\n",
       "Name: count, Length: 107, dtype: int64"
      ]
     },
     "execution_count": 75,
     "metadata": {},
     "output_type": "execute_result"
    }
   ],
   "source": [
    "df_SE_location['country'].value_counts()"
   ]
  },
  {
   "cell_type": "markdown",
   "metadata": {},
   "source": [
    "Saving the number of contributors by country for the Notebook dataset split for Software Engineering purposes:"
   ]
  },
  {
   "cell_type": "code",
   "execution_count": 76,
   "metadata": {},
   "outputs": [],
   "source": [
    "with open('country_SE.txt', 'w') as f:\n",
    "    for key,item in df_SE_location['country'].value_counts().items():\n",
    "        print(key, item, file=f)\n",
    "        "
   ]
  },
  {
   "cell_type": "markdown",
   "metadata": {},
   "source": [
    "# Analysis of the Notebook data split for educational purposes:"
   ]
  },
  {
   "cell_type": "code",
   "execution_count": 77,
   "metadata": {},
   "outputs": [
    {
     "name": "stdout",
     "output_type": "stream",
     "text": [
      "non_SE/contributors_non_SE_250_to_526.csv\n",
      "5868\n",
      "non_SE/contributors_non_SE_0_to_250.csv\n",
      "5544\n"
     ]
    }
   ],
   "source": [
    "df_contributors_non_SE = merge_csv_results('non_SE')"
   ]
  },
  {
   "cell_type": "markdown",
   "metadata": {},
   "source": [
    "Number of unique contributors of the Notebook dataset split for educational purposes:"
   ]
  },
  {
   "cell_type": "code",
   "execution_count": 78,
   "metadata": {},
   "outputs": [
    {
     "data": {
      "text/plain": [
       "11412"
      ]
     },
     "execution_count": 78,
     "metadata": {},
     "output_type": "execute_result"
    }
   ],
   "source": [
    "len(df_contributors_non_SE)"
   ]
  },
  {
   "cell_type": "markdown",
   "metadata": {},
   "source": [
    "Number of unique urls of the Notebook dataset split for educational purposes:"
   ]
  },
  {
   "cell_type": "code",
   "execution_count": 79,
   "metadata": {},
   "outputs": [
    {
     "data": {
      "text/plain": [
       "517"
      ]
     },
     "execution_count": 79,
     "metadata": {},
     "output_type": "execute_result"
    }
   ],
   "source": [
    "df_contributors_non_SE['repo_url'].nunique()"
   ]
  },
  {
   "cell_type": "code",
   "execution_count": 80,
   "metadata": {},
   "outputs": [],
   "source": [
    "df_contributors_non_SE['account_age'] = df_contributors_non_SE['created_at'].apply(\n",
    "    lambda x: get_account_age(x, current_time))"
   ]
  },
  {
   "cell_type": "markdown",
   "metadata": {},
   "source": [
    "### Average year account of contributors for the  Notebook dataset split for educational purposes:\n",
    "\n",
    "('count', below, is the number of unqiue contributors of the Notebook dataset split for educational purposes):"
   ]
  },
  {
   "cell_type": "code",
   "execution_count": 81,
   "metadata": {},
   "outputs": [
    {
     "data": {
      "text/plain": [
       "count    11412.000000\n",
       "mean         7.682878\n",
       "std          3.440256\n",
       "min          0.000000\n",
       "25%          5.000000\n",
       "50%          7.000000\n",
       "75%         10.000000\n",
       "max         16.000000\n",
       "Name: account_age, dtype: float64"
      ]
     },
     "execution_count": 81,
     "metadata": {},
     "output_type": "execute_result"
    }
   ],
   "source": [
    "df_contributors_non_SE['account_age'].describe()"
   ]
  },
  {
   "cell_type": "markdown",
   "metadata": {},
   "source": [
    "### Contributors per repository for the Notebook dataset split for educational purposes:"
   ]
  },
  {
   "cell_type": "code",
   "execution_count": 82,
   "metadata": {},
   "outputs": [
    {
     "name": "stdout",
     "output_type": "stream",
     "text": [
      "Average number of contributors per repository: 22.073500967117987\n",
      "Maximum number of contributors per repository: 477 (https://github.com/ossamamehmood/Hacktoberfest2022)\n",
      "Minimum number of contributors per repository: 1\n",
      "Median number of contributors per repository: 5.0\n"
     ]
    }
   ],
   "source": [
    "_,contributors_per_repo_non_SE = get_number_contributors_per_repo(df_contributors_non_SE, split=\"Notebook (Edu)\")"
   ]
  },
  {
   "cell_type": "markdown",
   "metadata": {},
   "source": [
    "## Location of contributors for the Notebook dataset split for educational purposes:\n",
    "\n"
   ]
  },
  {
   "cell_type": "markdown",
   "metadata": {},
   "source": [
    "Number of unique contributors for the  Notebook dataset split for educational purposes:"
   ]
  },
  {
   "cell_type": "code",
   "execution_count": 83,
   "metadata": {},
   "outputs": [
    {
     "data": {
      "text/plain": [
       "11412"
      ]
     },
     "execution_count": 83,
     "metadata": {},
     "output_type": "execute_result"
    }
   ],
   "source": [
    "df_non_SE_location = pd.read_csv(\"country_contributors_non_SE.csv\")\n",
    "len(df_non_SE_location)"
   ]
  },
  {
   "cell_type": "markdown",
   "metadata": {},
   "source": [
    "Location of contributors  for the Notebook dataset split for educational purposes:"
   ]
  },
  {
   "cell_type": "code",
   "execution_count": 84,
   "metadata": {},
   "outputs": [
    {
     "data": {
      "text/plain": [
       "location\n",
       "India              334\n",
       "London              86\n",
       "Seattle, WA         79\n",
       "San Francisco       73\n",
       "Bangalore           63\n",
       "                  ... \n",
       "Denizli, Turkey      1\n",
       "Ankara / TURKEY      1\n",
       "Izmir,TURKEY         1\n",
       "TURKEY               1\n",
       "Sanremo              1\n",
       "Name: count, Length: 2316, dtype: int64"
      ]
     },
     "execution_count": 84,
     "metadata": {},
     "output_type": "execute_result"
    }
   ],
   "source": [
    "df_non_SE_location['location'].value_counts()"
   ]
  },
  {
   "cell_type": "markdown",
   "metadata": {},
   "source": [
    "Saving the number of contributors by location for the Notebook dataset split for educational  purposes:"
   ]
  },
  {
   "cell_type": "code",
   "execution_count": 85,
   "metadata": {},
   "outputs": [],
   "source": [
    "with open('location_non_SE.txt', 'w') as f:\n",
    "    for key,item in df_non_SE_location['location'].value_counts().items():\n",
    "        print(key, item, file=f)\n",
    "        "
   ]
  },
  {
   "cell_type": "markdown",
   "metadata": {},
   "source": [
    "Number of contributors by country for the Notebook dataset split for educational purposes"
   ]
  },
  {
   "cell_type": "code",
   "execution_count": 86,
   "metadata": {},
   "outputs": [
    {
     "data": {
      "text/plain": [
       "country\n",
       "absent location in GitHub    4820\n",
       "United States                1685\n",
       "India                        1445\n",
       "China                         402\n",
       "Germany                       273\n",
       "                             ... \n",
       "Guatemala                       1\n",
       "Iceland                         1\n",
       "Cuba                            1\n",
       "Jamaica                         1\n",
       "Lebanon                         1\n",
       "Name: count, Length: 113, dtype: int64"
      ]
     },
     "execution_count": 86,
     "metadata": {},
     "output_type": "execute_result"
    }
   ],
   "source": [
    "df_non_SE_location['country'].value_counts()"
   ]
  },
  {
   "cell_type": "markdown",
   "metadata": {},
   "source": [
    "Saving the number of contributors by country for the Notebook dataset split for educational purposes"
   ]
  },
  {
   "cell_type": "code",
   "execution_count": 87,
   "metadata": {},
   "outputs": [],
   "source": [
    "with open('country_non_SE.txt', 'w') as f:\n",
    "    for key,item in df_non_SE_location['country'].value_counts().items():\n",
    "        print(key, item, file=f)\n",
    "        "
   ]
  },
  {
   "cell_type": "markdown",
   "metadata": {},
   "source": [
    "## Analysis of the SE split for python repositories:"
   ]
  },
  {
   "cell_type": "code",
   "execution_count": 88,
   "metadata": {},
   "outputs": [
    {
     "name": "stdout",
     "output_type": "stream",
     "text": [
      "SE_py/contributors_SE_py_500_to_608.csv\n",
      "4281\n",
      "SE_py/contributors_SE_py_250_to_500.csv\n",
      "8343\n",
      "SE_py/contributors_SE_py_0_to_250.csv\n",
      "8571\n"
     ]
    }
   ],
   "source": [
    "df_contributors_SE_py = merge_csv_results('SE_py')"
   ]
  },
  {
   "cell_type": "markdown",
   "metadata": {},
   "source": [
    "Total number of unique contributors of the Python dataset split for Software Engineering purposes"
   ]
  },
  {
   "cell_type": "code",
   "execution_count": 89,
   "metadata": {},
   "outputs": [
    {
     "data": {
      "text/plain": [
       "21195"
      ]
     },
     "execution_count": 89,
     "metadata": {},
     "output_type": "execute_result"
    }
   ],
   "source": [
    "len(df_contributors_SE_py)"
   ]
  },
  {
   "cell_type": "markdown",
   "metadata": {},
   "source": [
    "Number of unique urls of the Python dataset split for Software Engineering purposes:"
   ]
  },
  {
   "cell_type": "code",
   "execution_count": 90,
   "metadata": {},
   "outputs": [
    {
     "data": {
      "text/plain": [
       "606"
      ]
     },
     "execution_count": 90,
     "metadata": {},
     "output_type": "execute_result"
    }
   ],
   "source": [
    "df_contributors_SE_py['repo_url'].nunique()"
   ]
  },
  {
   "cell_type": "code",
   "execution_count": 91,
   "metadata": {},
   "outputs": [],
   "source": [
    "df_contributors_SE_py['account_age'] = df_contributors_SE_py['created_at'].apply(\n",
    "    lambda x: get_account_age(x, current_time))"
   ]
  },
  {
   "cell_type": "markdown",
   "metadata": {},
   "source": [
    "### Average year account of contributors for the SE split for python repositories:"
   ]
  },
  {
   "cell_type": "markdown",
   "metadata": {},
   "source": [
    "Statistics (mean, median, quartiles, standard deviation, etc) for the ages of experience of developers for the Python dataset split for Software Engineering purposes:"
   ]
  },
  {
   "cell_type": "code",
   "execution_count": 92,
   "metadata": {},
   "outputs": [
    {
     "data": {
      "text/plain": [
       "count    21195.000000\n",
       "mean        10.122906\n",
       "std          3.572810\n",
       "min          0.000000\n",
       "25%          8.000000\n",
       "50%         11.000000\n",
       "75%         13.000000\n",
       "max         16.000000\n",
       "Name: account_age, dtype: float64"
      ]
     },
     "execution_count": 92,
     "metadata": {},
     "output_type": "execute_result"
    }
   ],
   "source": [
    "df_contributors_SE_py['account_age'].describe()"
   ]
  },
  {
   "cell_type": "markdown",
   "metadata": {},
   "source": [
    "### Unique Contributors per repository for the Python dataset split for Software Engineering purposes:"
   ]
  },
  {
   "cell_type": "code",
   "execution_count": 93,
   "metadata": {},
   "outputs": [
    {
     "name": "stdout",
     "output_type": "stream",
     "text": [
      "Average number of contributors per repository: 34.975247524752476\n",
      "Maximum number of contributors per repository: 426 (https://github.com/duneanalytics/spellbook)\n",
      "Minimum number of contributors per repository: 1\n",
      "Median number of contributors per repository: 13.0\n"
     ]
    }
   ],
   "source": [
    "_, contributors_per_repo_SE_py = get_number_contributors_per_repo(df_contributors_SE_py, \n",
    "                                                                  split='Python (SE)')"
   ]
  },
  {
   "cell_type": "markdown",
   "metadata": {},
   "source": [
    "## Location of contributors for the Python dataset split for Software Engineering purposes:"
   ]
  },
  {
   "cell_type": "code",
   "execution_count": 94,
   "metadata": {},
   "outputs": [
    {
     "data": {
      "text/plain": [
       "21195"
      ]
     },
     "execution_count": 94,
     "metadata": {},
     "output_type": "execute_result"
    }
   ],
   "source": [
    "df_SE_py_location = pd.read_csv(\"country_contributors_SE_py.csv\")\n",
    "len(df_SE_py_location)"
   ]
  },
  {
   "cell_type": "markdown",
   "metadata": {},
   "source": [
    "Number of contributors by location for the Python dataset split for Software Engineering purposes"
   ]
  },
  {
   "cell_type": "code",
   "execution_count": 95,
   "metadata": {},
   "outputs": [
    {
     "data": {
      "text/plain": [
       "location\n",
       "Germany                      245\n",
       "San Francisco, CA            161\n",
       "France                       159\n",
       "London, UK                   144\n",
       "London                       139\n",
       "                            ... \n",
       "Derby, UK                      1\n",
       "<script>alert(1)</script>      1\n",
       "Lost in the Web                1\n",
       "Québec City                    1\n",
       "Shaanxi Province               1\n",
       "Name: count, Length: 3545, dtype: int64"
      ]
     },
     "execution_count": 95,
     "metadata": {},
     "output_type": "execute_result"
    }
   ],
   "source": [
    "df_SE_py_location['location'].value_counts()"
   ]
  },
  {
   "cell_type": "markdown",
   "metadata": {},
   "source": [
    "Saving the number of contributors by location, on a txt file, for the Python dataset split for Software Engineering purposes"
   ]
  },
  {
   "cell_type": "code",
   "execution_count": 96,
   "metadata": {},
   "outputs": [],
   "source": [
    "with open('location_SE_py.txt', 'w') as f:\n",
    "    for key,item in df_SE_py_location['location'].value_counts().items():\n",
    "        print(key, item, file=f)\n",
    "        "
   ]
  },
  {
   "cell_type": "markdown",
   "metadata": {},
   "source": [
    "Number of contributors by country for the Python dataset split for Software Engineering purposes"
   ]
  },
  {
   "cell_type": "code",
   "execution_count": 97,
   "metadata": {},
   "outputs": [
    {
     "data": {
      "text/plain": [
       "country\n",
       "absent location in GitHub    8625\n",
       "United States                3527\n",
       "Germany                       962\n",
       "China                         721\n",
       "United Kingdom                721\n",
       "                             ... \n",
       "Malta                           1\n",
       "Yemen                           1\n",
       "Angola                          1\n",
       "Sierra Leone                    1\n",
       "Brunei                          1\n",
       "Name: count, Length: 129, dtype: int64"
      ]
     },
     "execution_count": 97,
     "metadata": {},
     "output_type": "execute_result"
    }
   ],
   "source": [
    "df_SE_py_location['country'].value_counts()"
   ]
  },
  {
   "cell_type": "markdown",
   "metadata": {},
   "source": [
    "Saving the number of contributors by country for the Python dataset split for Software Engineering purposes"
   ]
  },
  {
   "cell_type": "code",
   "execution_count": 98,
   "metadata": {},
   "outputs": [],
   "source": [
    "with open('country_SE_py.txt', 'w') as f:\n",
    "    for key,item in df_SE_py_location['country'].value_counts().items():\n",
    "        print(key, item, file=f)\n",
    "        "
   ]
  },
  {
   "cell_type": "markdown",
   "metadata": {},
   "source": [
    "## Analysis of the non SE split for python repositories:"
   ]
  },
  {
   "cell_type": "code",
   "execution_count": 99,
   "metadata": {},
   "outputs": [
    {
     "name": "stdout",
     "output_type": "stream",
     "text": [
      "non_SE_py/contributors_non_SE_py_0_to_110.csv\n",
      "2034\n"
     ]
    }
   ],
   "source": [
    "df_contributors_non_SE_py = merge_csv_results('non_SE_py')"
   ]
  },
  {
   "cell_type": "markdown",
   "metadata": {},
   "source": [
    "Unique contributors per repository for the Python dataset split for educational purposes"
   ]
  },
  {
   "cell_type": "code",
   "execution_count": 100,
   "metadata": {},
   "outputs": [
    {
     "data": {
      "text/plain": [
       "2034"
      ]
     },
     "execution_count": 100,
     "metadata": {},
     "output_type": "execute_result"
    }
   ],
   "source": [
    "len(df_contributors_non_SE_py)"
   ]
  },
  {
   "cell_type": "markdown",
   "metadata": {},
   "source": [
    "Number of GitHub urls for the Python dataset split for educational purposes"
   ]
  },
  {
   "cell_type": "code",
   "execution_count": 101,
   "metadata": {},
   "outputs": [
    {
     "data": {
      "text/plain": [
       "109"
      ]
     },
     "execution_count": 101,
     "metadata": {},
     "output_type": "execute_result"
    }
   ],
   "source": [
    "df_contributors_non_SE_py['repo_url'].nunique()"
   ]
  },
  {
   "cell_type": "code",
   "execution_count": 102,
   "metadata": {},
   "outputs": [],
   "source": [
    "df_contributors_non_SE_py['account_age'] = df_contributors_non_SE_py['created_at'].apply(\n",
    "    lambda x: get_account_age(x, current_time))"
   ]
  },
  {
   "cell_type": "markdown",
   "metadata": {},
   "source": [
    "### Average year account of contributors for the Python dataset split for educational purposes"
   ]
  },
  {
   "cell_type": "markdown",
   "metadata": {},
   "source": [
    "Statistics (mean, median, quartiles, standard deviation, etc) for the ages of experience of developers for the Python dataset split for educational purposes"
   ]
  },
  {
   "cell_type": "code",
   "execution_count": 103,
   "metadata": {},
   "outputs": [
    {
     "data": {
      "text/plain": [
       "count    2034.000000\n",
       "mean        8.546214\n",
       "std         3.553827\n",
       "min         0.000000\n",
       "25%         6.000000\n",
       "50%         8.000000\n",
       "75%        11.000000\n",
       "max        16.000000\n",
       "Name: account_age, dtype: float64"
      ]
     },
     "execution_count": 103,
     "metadata": {},
     "output_type": "execute_result"
    }
   ],
   "source": [
    "df_contributors_non_SE_py['account_age'].describe()"
   ]
  },
  {
   "cell_type": "markdown",
   "metadata": {},
   "source": [
    "### Contributors per repository for the Python dataset split for educational purposes:"
   ]
  },
  {
   "cell_type": "code",
   "execution_count": 104,
   "metadata": {},
   "outputs": [
    {
     "name": "stdout",
     "output_type": "stream",
     "text": [
      "Average number of contributors per repository: 18.660550458715598\n",
      "Maximum number of contributors per repository: 318 (https://github.com/Ishaan28malik/Hacktoberfest-2023)\n",
      "Minimum number of contributors per repository: 1\n",
      "Median number of contributors per repository: 4.0\n"
     ]
    }
   ],
   "source": [
    "_, contributors_per_repo_non_SE_py = get_number_contributors_per_repo(df_contributors_non_SE_py,\n",
    "                                                                      split='Python (Educational)')"
   ]
  },
  {
   "cell_type": "markdown",
   "metadata": {},
   "source": [
    "## Location of contributors for the Python dataset split for educational purposes:"
   ]
  },
  {
   "cell_type": "code",
   "execution_count": 105,
   "metadata": {},
   "outputs": [
    {
     "data": {
      "text/plain": [
       "2034"
      ]
     },
     "execution_count": 105,
     "metadata": {},
     "output_type": "execute_result"
    }
   ],
   "source": [
    "df_non_SE_py_location = pd.read_csv(\"country_contributors_non_SE_py.csv\")\n",
    "len(df_non_SE_py_location)"
   ]
  },
  {
   "cell_type": "markdown",
   "metadata": {},
   "source": [
    " Location of contributors for the Python dataset split for educational purposes"
   ]
  },
  {
   "cell_type": "code",
   "execution_count": 106,
   "metadata": {},
   "outputs": [
    {
     "data": {
      "text/plain": [
       "location\n",
       "India                           44\n",
       "Seattle, WA                     16\n",
       "Beijing, China                  15\n",
       "France                          15\n",
       "United States                   13\n",
       "                                ..\n",
       "Herndon, VA                      1\n",
       "Seattle, Washington              1\n",
       "NL                               1\n",
       "London, UK / Porto, Portugal     1\n",
       "Peking                           1\n",
       "Name: count, Length: 720, dtype: int64"
      ]
     },
     "execution_count": 106,
     "metadata": {},
     "output_type": "execute_result"
    }
   ],
   "source": [
    "df_non_SE_py_location['location'].value_counts()"
   ]
  },
  {
   "cell_type": "markdown",
   "metadata": {},
   "source": [
    "Saving the number of contributors by location in a txt file for the Python dataset split for educational purposes"
   ]
  },
  {
   "cell_type": "code",
   "execution_count": 107,
   "metadata": {},
   "outputs": [],
   "source": [
    "with open('location_non_SE_py.txt', 'w') as f:\n",
    "    for key,item in df_non_SE_py_location['location'].value_counts().items():\n",
    "        print(key, item, file=f)\n",
    "        "
   ]
  },
  {
   "cell_type": "markdown",
   "metadata": {},
   "source": [
    "Number of contributors by country in a txt file for the Python dataset split for educational purposes"
   ]
  },
  {
   "cell_type": "code",
   "execution_count": 108,
   "metadata": {},
   "outputs": [
    {
     "data": {
      "text/plain": [
       "country\n",
       "absent location in GitHub    763\n",
       "United States                299\n",
       "India                        177\n",
       "China                        110\n",
       "United Kingdom                66\n",
       "                            ... \n",
       "Luxembourg                     1\n",
       "Bangladesh                     1\n",
       "Côte d'Ivoire                  1\n",
       "Montenegro                     1\n",
       "Malawi                         1\n",
       "Name: count, Length: 78, dtype: int64"
      ]
     },
     "execution_count": 108,
     "metadata": {},
     "output_type": "execute_result"
    }
   ],
   "source": [
    "df_non_SE_py_location['country'].value_counts()"
   ]
  },
  {
   "cell_type": "markdown",
   "metadata": {},
   "source": [
    " Saving the number of contributors by location in a txt file for the Python dataset split for educational purposes"
   ]
  },
  {
   "cell_type": "code",
   "execution_count": 109,
   "metadata": {},
   "outputs": [],
   "source": [
    "with open('country_non_SE_py.txt', 'w') as f:\n",
    "    for key,item in df_non_SE_py_location['country'].value_counts().items():\n",
    "        print(key, item, file=f)\n",
    "        "
   ]
  },
  {
   "cell_type": "markdown",
   "metadata": {},
   "source": [
    "## Summary"
   ]
  },
  {
   "cell_type": "code",
   "execution_count": 110,
   "metadata": {},
   "outputs": [],
   "source": [
    "dataframes_info = [\n",
    "    {'data': df_contributors_SE, 'split_name': 'SE_nb'},\n",
    "    {'data': df_contributors_non_SE, 'split_name': 'non_SE_nb'},\n",
    "    {'data': df_contributors_SE_py, 'split_name': 'SE_py'},\n",
    "    {'data': df_contributors_non_SE_py, 'split_name': 'non_SE_py'},\n",
    "]\n",
    "\n"
   ]
  },
  {
   "cell_type": "code",
   "execution_count": 111,
   "metadata": {},
   "outputs": [
    {
     "data": {
      "text/html": [
       "<div>\n",
       "<style scoped>\n",
       "    .dataframe tbody tr th:only-of-type {\n",
       "        vertical-align: middle;\n",
       "    }\n",
       "\n",
       "    .dataframe tbody tr th {\n",
       "        vertical-align: top;\n",
       "    }\n",
       "\n",
       "    .dataframe thead th {\n",
       "        text-align: right;\n",
       "    }\n",
       "</style>\n",
       "<table border=\"1\" class=\"dataframe\">\n",
       "  <thead>\n",
       "    <tr style=\"text-align: right;\">\n",
       "      <th></th>\n",
       "      <th>split</th>\n",
       "      <th>avg_age</th>\n",
       "      <th>median_age</th>\n",
       "      <th>max_age</th>\n",
       "      <th>min_age</th>\n",
       "      <th>total_contributors</th>\n",
       "    </tr>\n",
       "  </thead>\n",
       "  <tbody>\n",
       "    <tr>\n",
       "      <th>0</th>\n",
       "      <td>SE_nb</td>\n",
       "      <td>8.969947</td>\n",
       "      <td>9.0</td>\n",
       "      <td>16</td>\n",
       "      <td>0</td>\n",
       "      <td>10914.0</td>\n",
       "    </tr>\n",
       "    <tr>\n",
       "      <th>1</th>\n",
       "      <td>non_SE_nb</td>\n",
       "      <td>7.682878</td>\n",
       "      <td>7.0</td>\n",
       "      <td>16</td>\n",
       "      <td>0</td>\n",
       "      <td>11412.0</td>\n",
       "    </tr>\n",
       "    <tr>\n",
       "      <th>2</th>\n",
       "      <td>SE_py</td>\n",
       "      <td>10.122906</td>\n",
       "      <td>11.0</td>\n",
       "      <td>16</td>\n",
       "      <td>0</td>\n",
       "      <td>21195.0</td>\n",
       "    </tr>\n",
       "    <tr>\n",
       "      <th>3</th>\n",
       "      <td>non_SE_py</td>\n",
       "      <td>8.546214</td>\n",
       "      <td>8.0</td>\n",
       "      <td>16</td>\n",
       "      <td>0</td>\n",
       "      <td>2034.0</td>\n",
       "    </tr>\n",
       "  </tbody>\n",
       "</table>\n",
       "</div>"
      ],
      "text/plain": [
       "       split    avg_age  median_age  max_age  min_age  total_contributors\n",
       "0      SE_nb   8.969947         9.0       16        0             10914.0\n",
       "1  non_SE_nb   7.682878         7.0       16        0             11412.0\n",
       "2      SE_py  10.122906        11.0       16        0             21195.0\n",
       "3  non_SE_py   8.546214         8.0       16        0              2034.0"
      ]
     },
     "execution_count": 111,
     "metadata": {},
     "output_type": "execute_result"
    }
   ],
   "source": [
    "get_summary_age(dataframes_info)"
   ]
  },
  {
   "cell_type": "code",
   "execution_count": 112,
   "metadata": {},
   "outputs": [
    {
     "data": {
      "text/html": [
       "<div>\n",
       "<style scoped>\n",
       "    .dataframe tbody tr th:only-of-type {\n",
       "        vertical-align: middle;\n",
       "    }\n",
       "\n",
       "    .dataframe tbody tr th {\n",
       "        vertical-align: top;\n",
       "    }\n",
       "\n",
       "    .dataframe thead th {\n",
       "        text-align: right;\n",
       "    }\n",
       "</style>\n",
       "<table border=\"1\" class=\"dataframe\">\n",
       "  <thead>\n",
       "    <tr style=\"text-align: right;\">\n",
       "      <th></th>\n",
       "      <th>avg_unique_contributors</th>\n",
       "      <th>median_contributors</th>\n",
       "      <th>max_contributors</th>\n",
       "      <th>min_contributors</th>\n",
       "      <th>total_contributors</th>\n",
       "      <th>split</th>\n",
       "    </tr>\n",
       "  </thead>\n",
       "  <tbody>\n",
       "    <tr>\n",
       "      <th>0</th>\n",
       "      <td>29.104000</td>\n",
       "      <td>8.0</td>\n",
       "      <td>406</td>\n",
       "      <td>1</td>\n",
       "      <td>10914</td>\n",
       "      <td>SE_nb</td>\n",
       "    </tr>\n",
       "    <tr>\n",
       "      <th>1</th>\n",
       "      <td>22.073501</td>\n",
       "      <td>5.0</td>\n",
       "      <td>477</td>\n",
       "      <td>1</td>\n",
       "      <td>11412</td>\n",
       "      <td>non_SE_nb</td>\n",
       "    </tr>\n",
       "    <tr>\n",
       "      <th>2</th>\n",
       "      <td>34.975248</td>\n",
       "      <td>13.0</td>\n",
       "      <td>426</td>\n",
       "      <td>1</td>\n",
       "      <td>21195</td>\n",
       "      <td>SE_py</td>\n",
       "    </tr>\n",
       "    <tr>\n",
       "      <th>3</th>\n",
       "      <td>18.660550</td>\n",
       "      <td>4.0</td>\n",
       "      <td>318</td>\n",
       "      <td>1</td>\n",
       "      <td>2034</td>\n",
       "      <td>non_SE_py</td>\n",
       "    </tr>\n",
       "  </tbody>\n",
       "</table>\n",
       "</div>"
      ],
      "text/plain": [
       "   avg_unique_contributors  median_contributors  max_contributors  \\\n",
       "0                29.104000                  8.0               406   \n",
       "1                22.073501                  5.0               477   \n",
       "2                34.975248                 13.0               426   \n",
       "3                18.660550                  4.0               318   \n",
       "\n",
       "   min_contributors  total_contributors      split  \n",
       "0                 1               10914      SE_nb  \n",
       "1                 1               11412  non_SE_nb  \n",
       "2                 1               21195      SE_py  \n",
       "3                 1                2034  non_SE_py  "
      ]
     },
     "execution_count": 112,
     "metadata": {},
     "output_type": "execute_result"
    }
   ],
   "source": [
    "get_summary_contributors(dataframes_info)"
   ]
  },
  {
   "cell_type": "code",
   "execution_count": 113,
   "metadata": {},
   "outputs": [],
   "source": [
    "dev_experience_notebook = pd.concat([df_contributors_SE,\n",
    "                                 df_contributors_non_SE])\n",
    "\n",
    "dev_experience_python = pd.concat([df_contributors_SE_py,\n",
    "                               df_contributors_non_SE_py])\n",
    "\n",
    "num_contributors_notebook = pd.concat([contributors_per_repo_SE,\n",
    "                                      contributors_per_repo_non_SE])\n",
    "\n",
    "\n",
    "num_contributors_python = pd.concat([contributors_per_repo_SE_py,\n",
    "                                      contributors_per_repo_non_SE_py])"
   ]
  },
  {
   "cell_type": "markdown",
   "metadata": {},
   "source": [
    "## Statistical Tests"
   ]
  },
  {
   "cell_type": "markdown",
   "metadata": {},
   "source": [
    "Using Mann-Whitney test to observe if there are any statistical significance between Notebook vs Python repositories"
   ]
  },
  {
   "cell_type": "markdown",
   "metadata": {},
   "source": [
    "Statistical significance in developers years of experience between Notebooks vs Python repositories:"
   ]
  },
  {
   "cell_type": "code",
   "execution_count": 114,
   "metadata": {},
   "outputs": [
    {
     "name": "stdout",
     "output_type": "stream",
     "text": [
      "Mann-Whitney U statistic: 189044472.0\n",
      "P-value: 0.0000000000\n",
      "Absolute value of cohen d: 0.4708736422264135\n",
      "Small difference between Notebooks vs Python ( 0.2 > cohen D <= 0.5)\n"
     ]
    }
   ],
   "source": [
    "get_mann_test_and_cohen_d(dev_experience_notebook, dev_experience_python, 'account_age')"
   ]
  },
  {
   "cell_type": "markdown",
   "metadata": {},
   "source": [
    "Statistical significance in number of unique contributors (team size) between Notebooks vs Python repositories:"
   ]
  },
  {
   "cell_type": "code",
   "execution_count": 115,
   "metadata": {},
   "outputs": [
    {
     "name": "stdout",
     "output_type": "stream",
     "text": [
      "Mann-Whitney U statistic: 262574.5\n",
      "P-value: 0.0000000010\n",
      "Absolute value of cohen d: 0.12742558505136758\n",
      "Very small difference between Notebooks vs Python (cohen D <= 0.2)\n"
     ]
    }
   ],
   "source": [
    "get_mann_test_and_cohen_d(num_contributors_notebook, num_contributors_python, 'num_contributors')"
   ]
  }
 ],
 "metadata": {
  "kernelspec": {
   "display_name": "env_bug",
   "language": "python",
   "name": "python3"
  },
  "language_info": {
   "codemirror_mode": {
    "name": "ipython",
    "version": 3
   },
   "file_extension": ".py",
   "mimetype": "text/x-python",
   "name": "python",
   "nbconvert_exporter": "python",
   "pygments_lexer": "ipython3",
   "version": "3.10.14"
  }
 },
 "nbformat": 4,
 "nbformat_minor": 2
}
